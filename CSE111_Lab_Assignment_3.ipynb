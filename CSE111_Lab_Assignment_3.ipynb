{
  "nbformat": 4,
  "nbformat_minor": 0,
  "metadata": {
    "colab": {
      "provenance": [],
      "include_colab_link": true
    },
    "kernelspec": {
      "name": "python3",
      "display_name": "Python 3"
    },
    "language_info": {
      "name": "python"
    }
  },
  "cells": [
    {
      "cell_type": "markdown",
      "metadata": {
        "id": "view-in-github",
        "colab_type": "text"
      },
      "source": [
        "<a href=\"https://colab.research.google.com/github/Mashrur001/CSE111/blob/main/CSE111_Lab_Assignment_3.ipynb\" target=\"_parent\"><img src=\"https://colab.research.google.com/assets/colab-badge.svg\" alt=\"Open In Colab\"/></a>"
      ]
    },
    {
      "cell_type": "markdown",
      "source": [
        "# Task 1"
      ],
      "metadata": {
        "id": "-BpPowcUbzqg"
      }
    },
    {
      "cell_type": "code",
      "source": [
        "class Calculator:\n",
        "  def __init__(self, userFirstNum, operator, userSecNum):\n",
        "    print(\"Let's Calculate!\")\n",
        "\n",
        "    self.userFirstNum = userFirstNum\n",
        "    print(\"Value 1:\", self.userFirstNum)\n",
        "\n",
        "    self.operator = operator\n",
        "    print(\"Operator:\", self.operator)\n",
        "\n",
        "    self.userSecNum = userSecNum\n",
        "    print(\"Value 2:\", self.userSecNum)\n",
        "\n",
        "  def sum(self, f, s):\n",
        "    return f+s\n",
        "\n",
        "  def biyog(self, f, s):\n",
        "    return f-s\n",
        "\n",
        "\n",
        "\n",
        "userFirstNum = int(input())\n",
        "operator = input()\n",
        "userSecNum = int(input())\n",
        "\n",
        "obj = Calculator(userFirstNum, operator, userSecNum)\n",
        "\n",
        "if operator == \"+\":\n",
        "  summation = obj.sum(userFirstNum, userSecNum)\n",
        "  print(\"Result:\", summation)\n",
        "elif operator == \"-\":\n",
        "  folafol = obj.biyog(userFirstNum, userSecNum)\n",
        "  print(\"Result:\", folafol)"
      ],
      "metadata": {
        "colab": {
          "base_uri": "https://localhost:8080/"
        },
        "id": "k1fvqSO4EeAX",
        "outputId": "20400db8-b109-4a37-9bff-005bdac1c497"
      },
      "execution_count": null,
      "outputs": [
        {
          "output_type": "stream",
          "name": "stdout",
          "text": [
            "1\n",
            "+\n",
            "2\n",
            "Let's Calculate!\n",
            "Value 1: 1\n",
            "Operator: +\n",
            "Value 2: 2\n",
            "Result: 3\n"
          ]
        }
      ]
    },
    {
      "cell_type": "code",
      "execution_count": null,
      "metadata": {
        "id": "yyDnRYJ0agmp",
        "colab": {
          "base_uri": "https://localhost:8080/"
        },
        "outputId": "2198beab-5926-4f1b-8deb-be4602abc78f"
      },
      "outputs": [
        {
          "output_type": "stream",
          "name": "stdout",
          "text": [
            "1\n",
            "+\n",
            "2\n",
            "Let’s Calculate!\n",
            "Value 1: 1\n",
            "operator: +\n",
            "Value 2: 2\n",
            "Result: 3\n"
          ]
        }
      ],
      "source": [
        "class Calculator:\n",
        "  def __init__(self, v1, v2, o):\n",
        "    self.first_value=v1\n",
        "    self.second_value=v2\n",
        "    self.operator=o\n",
        "    print(\"Let’s Calculate!\")\n",
        "    print(\"Value 1:\", self.first_value)\n",
        "    print(\"operator:\", self.operator)\n",
        "    print(\"Value 2:\", self.second_value)\n",
        "\n",
        "  def add(self,first_value,second_value):\n",
        "    return (first_value + second_value)\n",
        "\n",
        "  def subtract(self,first_value,second_value):\n",
        "    return (first_value - second_value)\n",
        "\n",
        "  def multiply(self,first_value,second_value):\n",
        "    return (first_value * second_value)\n",
        "\n",
        "\n",
        "  def divide(self,first_value,second_value):\n",
        "    return (first_value / second_value)\n",
        "\n",
        "\n",
        "first_value=int(input())\n",
        "operator=input()\n",
        "second_value=int(input())\n",
        "\n",
        "\n",
        "c1=Calculator(first_value, second_value, operator)\n",
        "\n",
        "if operator==\"+\":\n",
        "  var=c1.add(first_value, second_value)\n",
        "  print(\"Result:\",var)\n",
        "elif operator==\"-\":\n",
        "  var=c1.subtract(first_value, second_value)\n",
        "  print(\"Result:\",var)\n",
        "elif operator==\"*\":\n",
        "  var=c1.multiply(first_value, second_value)\n",
        "  print(\"Result:\",var)\n",
        "elif operator==\"/\":\n",
        "  var=c1.divide(first_value, second_value)\n",
        "  print(\"Result:\",var)"
      ]
    },
    {
      "cell_type": "markdown",
      "source": [
        "# Task 2"
      ],
      "metadata": {
        "id": "ZuF1nb9jhb4O"
      }
    },
    {
      "cell_type": "code",
      "source": [
        "class Course:\n",
        "  def __init__(self, n, f, num):\n",
        "    self.courseName=n\n",
        "    self.facultyName=f\n",
        "    self.number=num\n",
        "  def detail(self):\n",
        "    print(f\"{self.courseName} - {self.facultyName} - {self.number}\")\n",
        "\n",
        "\n",
        "c1 = Course(\"CSE110\", \"TBA\", 8)\n",
        "c1.detail()\n",
        "print(\"===============\")\n",
        "c2 = Course(\"CSE111\", \"TBA\", 9)\n",
        "c2.detail()"
      ],
      "metadata": {
        "colab": {
          "base_uri": "https://localhost:8080/"
        },
        "id": "_NflDTpJeguj",
        "outputId": "35b02ebc-c1c5-463f-d21c-eab37f426278"
      },
      "execution_count": null,
      "outputs": [
        {
          "output_type": "stream",
          "name": "stdout",
          "text": [
            "CSE110 - TBA - 8\n",
            "===============\n",
            "CSE111 - TBA - 9\n"
          ]
        }
      ]
    },
    {
      "cell_type": "markdown",
      "source": [
        "#Task 3"
      ],
      "metadata": {
        "id": "OAwYVWygigtg"
      }
    },
    {
      "cell_type": "code",
      "source": [
        "class Patient:\n",
        "  def __init__(self, n, a, w, h):\n",
        "    self.name=n\n",
        "    self.age=a\n",
        "    self.weight=w\n",
        "    self.height=h\n",
        "\n",
        "  def printDetails(self):\n",
        "    print(\"Name:\", self.name)\n",
        "    print(\"Age:\", self.age)\n",
        "    print(\"Weight:\", self.weight, \"kg\")\n",
        "    print(\"Height:\", self.height, \"cm\")\n",
        "    he=self.height*0.01    #  kg/m**2\n",
        "    bmi=self.weight/(he*he)\n",
        "    print(\"BMI:\",bmi)\n",
        "\n",
        "\n",
        "\n",
        "p1 = Patient(\"A\", 55, 63.0, 158.0)\n",
        "p1.printDetails()\n",
        "# p1.printDetails   -->> variable\n",
        "print(\"====================\")\n",
        "p2 = Patient(\"B\", 53, 61.0, 149.0)\n",
        "p2.printDetails()"
      ],
      "metadata": {
        "colab": {
          "base_uri": "https://localhost:8080/"
        },
        "id": "1Z-o5xLuiQ1H",
        "outputId": "ed4c0c8c-035c-40d6-f367-c80e06658bb7"
      },
      "execution_count": null,
      "outputs": [
        {
          "output_type": "stream",
          "name": "stdout",
          "text": [
            "Name: A\n",
            "Age: 55\n",
            "Weight: 63.0 kg\n",
            "Height: 158.0 cm\n",
            "BMI: 25.236340330075304\n",
            "====================\n",
            "Name: B\n",
            "Age: 53\n",
            "Weight: 61.0 kg\n",
            "Height: 149.0 cm\n",
            "BMI: 27.476239809017613\n"
          ]
        }
      ]
    },
    {
      "cell_type": "markdown",
      "source": [
        "#Task 4"
      ],
      "metadata": {
        "id": "4HTrGVCNkp7f"
      }
    },
    {
      "cell_type": "code",
      "source": [
        "class Vehicle:\n",
        "  def __init__(self):\n",
        "    self.x=0\n",
        "    self.y=0\n",
        "  def print_position(self):\n",
        "    print(f\"({self.x},{self.y})\")\n",
        "\n",
        "  def moveUp(self):\n",
        "    self.y+=1\n",
        "  def moveLeft(self):\n",
        "    self.x-=1\n",
        "  def moveDown(self):\n",
        "    self.y-=1\n",
        "  def moveRight(self):\n",
        "    self.x+=1\n",
        "\n",
        "car = Vehicle()\n",
        "car.print_position()\n",
        "car.moveUp()\n",
        "car.print_position()\n",
        "car.moveLeft()\n",
        "car.print_position()\n",
        "car.moveDown()\n",
        "car.print_position()\n",
        "car.moveRight()"
      ],
      "metadata": {
        "id": "DellN1URkC62",
        "colab": {
          "base_uri": "https://localhost:8080/"
        },
        "outputId": "c42a026d-a768-4b35-f82a-6803b6d095d6"
      },
      "execution_count": null,
      "outputs": [
        {
          "output_type": "stream",
          "name": "stdout",
          "text": [
            "(0,0)\n",
            "(0,1)\n",
            "(-1,1)\n",
            "(-1,0)\n"
          ]
        }
      ]
    },
    {
      "cell_type": "markdown",
      "source": [
        "# Task 5"
      ],
      "metadata": {
        "id": "M4lg5zXhmQ75"
      }
    },
    {
      "cell_type": "code",
      "source": [
        "class Shape:\n",
        "  def __init__(self, s, v1, v2):\n",
        "    self.shape=s\n",
        "    self.value1=v1\n",
        "    self.value2=v2\n",
        "  def area(self):\n",
        "    if self.shape==\"Triangle\" or self.shape==\"Rhombus\":\n",
        "      print(\"Area:\", 0.5*self.value1*self.value2)\n",
        "    elif self.shape==\"Square\" or self.shape==\"Rectangle\":\n",
        "      print(\"Area:\", self.value1*self.value2)\n",
        "    else:\n",
        "      print(\"Area: Shape unknown\")\n",
        "\n",
        "\n",
        "triangle = Shape(\"Triangle\",10,25)\n",
        "triangle.area()\n",
        "print(\"==========================\")\n",
        "square = Shape(\"Square\",10,10)\n",
        "square.area()\n",
        "print(\"==========================\")\n",
        "rhombus = Shape(\"Rhombus\",18,25)\n",
        "rhombus.area()\n",
        "print(\"==========================\")\n",
        "rectangle = Shape(\"Rectangle\",15,30)\n",
        "rectangle.area()\n",
        "print(\"==========================\")\n",
        "trapezium = Shape(\"Trapezium\",15,30)\n",
        "trapezium.area()"
      ],
      "metadata": {
        "id": "8BCfJikDmSmS",
        "colab": {
          "base_uri": "https://localhost:8080/"
        },
        "outputId": "271070a1-c171-436d-e6b3-0e30e6f35bfc"
      },
      "execution_count": null,
      "outputs": [
        {
          "output_type": "stream",
          "name": "stdout",
          "text": [
            "Area: 125.0\n",
            "==========================\n",
            "Area: 100\n",
            "==========================\n",
            "Area: 225.0\n",
            "==========================\n",
            "Area: 450\n",
            "==========================\n",
            "Area: Shape unknown\n"
          ]
        }
      ]
    },
    {
      "cell_type": "markdown",
      "source": [
        "# Task 6"
      ],
      "metadata": {
        "id": "YbNdb2-coOgy"
      }
    },
    {
      "cell_type": "code",
      "source": [
        "class Calculator:\n",
        "  def __init__(self):\n",
        "    self.value1=0\n",
        "    self.value2=0\n",
        "    self.operator=None\n",
        "    print(\"Calculator is ready!\")\n",
        "\n",
        "  def calculate(self,v1,v2,o):\n",
        "    self.value1=v1\n",
        "    self.value2=v2\n",
        "    self.operator=o\n",
        "    if self.operator==\"+\":\n",
        "      return (self.value1+self.value2)\n",
        "    elif self.operator==\"-\":\n",
        "      return (self.value1-self.value2)\n",
        "    elif self.operator==\"*\":\n",
        "      return (self.value1*self.value2)\n",
        "    elif self.operator==\"/\":\n",
        "      return (self.value1/self.value2)\n",
        "  def showCalculation(self):\n",
        "    if self.operator==\"+\":\n",
        "      print(f\"{self.value1} {self.operator} {self.value2} = {self.value1+self.value2}\")\n",
        "    elif self.operator==\"-\":\n",
        "      print(f\"{self.value1} {self.operator} {self.value2} = {self.value1-self.value2}\")\n",
        "    elif self.operator==\"*\":\n",
        "      print(f\"{self.value1} {self.operator} {self.value2} = {self.value1*self.value2}\")\n",
        "    elif self.operator==\"/\":\n",
        "      print(f\"{self.value1} {self.operator} {self.value2} = {self.value1/self.value2}\")\n",
        "\n",
        "c1 = Calculator()\n",
        "print(\"==================\")\n",
        "val = c1.calculate(10, 20, '+')\n",
        "print(\"Returned value:\", val)\n",
        "c1.showCalculation()\n",
        "print(\"==================\")\n",
        "val = c1.calculate(val, 10, '-')\n",
        "print(\"Returned value:\", val)\n",
        "c1.showCalculation()\n",
        "print(\"==================\")\n",
        "val = c1.calculate(val, 5, '*')\n",
        "print(\"Returned value:\", val)\n",
        "c1.showCalculation()\n",
        "print(\"==================\")\n",
        "val = c1.calculate(val, 16, '/')\n",
        "print(\"Returned value:\", val)\n",
        "c1.showCalculation()"
      ],
      "metadata": {
        "colab": {
          "base_uri": "https://localhost:8080/"
        },
        "id": "u5g87X1NoQci",
        "outputId": "689526d1-8b07-4eef-c9f4-a6cd89fe1208"
      },
      "execution_count": null,
      "outputs": [
        {
          "output_type": "stream",
          "name": "stdout",
          "text": [
            "Calculator is ready!\n",
            "==================\n",
            "Returned value: 30\n",
            "10 + 20 = 30\n",
            "==================\n",
            "Returned value: 20\n",
            "30 - 10 = 20\n",
            "==================\n",
            "Returned value: 100\n",
            "20 * 5 = 100\n",
            "==================\n",
            "Returned value: 6.25\n",
            "100 / 16 = 6.25\n"
          ]
        }
      ]
    },
    {
      "cell_type": "markdown",
      "source": [
        "# Task 7"
      ],
      "metadata": {
        "id": "oTc6bMTSsJTp"
      }
    },
    {
      "cell_type": "code",
      "source": [
        "class Student:\n",
        "  def __init__(self, n, id, d, cgList):\n",
        "    self.name=n\n",
        "    self.id=id\n",
        "    self.department=d\n",
        "    self.cgpa=cgList\n",
        "\n",
        "  def calculate_CGPA(self):\n",
        "    sum=0\n",
        "    for i in self.cgpa:\n",
        "      sum+=i*3\n",
        "    finalCGPA=sum/(len(self.cgpa)*3)\n",
        "    self.cgpa=finalCGPA\n",
        "\n",
        "  def print_details(self):\n",
        "    print(f\"Name: {self.name}, ID: {self.id}\")\n",
        "    print(\"Department:\", self.department)\n",
        "    print(\"CGPA:\", self.cgpa)\n",
        "    if self.cgpa>3.80:\n",
        "      print('Your academic standing is \"Highest Distinction\"')\n",
        "    elif self.cgpa>3.65:\n",
        "      print('Your academic standing is \"High Distinction\"')\n",
        "    elif self.cgpa>3.50:\n",
        "      print('Your academic standing is \"Distinction\"')\n",
        "    elif self.cgpa>2.00:\n",
        "      print('Your academic standing is \"Satisfactory\"')\n",
        "    elif self.cgpa<2.00:\n",
        "      print(\"Sorry, you cannot graduate\")\n",
        "\n",
        "\n",
        "s1 = Student('Dora', '15995599','CSE', [4,3.7,3.7,4])\n",
        "s1.calculate_CGPA()\n",
        "print(\"==========================\")\n",
        "s1.print_details()\n",
        "print(\"==========================\")\n",
        "s2 = Student('Pingu', '12312322', 'EEE', [1.7,1.3,1.3,1.3,1])\n",
        "s2.calculate_CGPA()\n",
        "print(\"==========================\")\n",
        "s2.print_details()\n",
        "print(\"==========================\")\n",
        "s3 = Student('Bob', '13311331', 'CSE', [2,3,3,3.7,2.7,2.7])\n",
        "s3.calculate_CGPA()\n",
        "print(\"==========================\")\n",
        "s3.print_details()"
      ],
      "metadata": {
        "colab": {
          "base_uri": "https://localhost:8080/"
        },
        "id": "qn2DPBresJB5",
        "outputId": "97febfdd-5cf9-447a-9cfe-f5cf9ec48c5b"
      },
      "execution_count": null,
      "outputs": [
        {
          "output_type": "stream",
          "name": "stdout",
          "text": [
            "==========================\n",
            "Name: Dora, ID: 15995599\n",
            "Department: CSE\n",
            "CGPA: 3.85\n",
            "Your academic standing is \"Highest Distinction\"\n",
            "==========================\n",
            "==========================\n",
            "Name: Pingu, ID: 12312322\n",
            "Department: EEE\n",
            "CGPA: 1.32\n",
            "Sorry, you cannot graduate\n",
            "==========================\n",
            "==========================\n",
            "Name: Bob, ID: 13311331\n",
            "Department: CSE\n",
            "CGPA: 2.85\n",
            "Your academic standing is \"Satisfactory\"\n"
          ]
        }
      ]
    },
    {
      "cell_type": "markdown",
      "source": [
        "# Task 8"
      ],
      "metadata": {
        "id": "VCgJhbJ7uHJk"
      }
    },
    {
      "cell_type": "code",
      "source": [
        "class Shinobi:\n",
        "  def __init__(self,n,r):\n",
        "    self.name=n\n",
        "    self.rank=r\n",
        "    self.mission=0\n",
        "    self.salary=0\n",
        "  def calSalary(self,mission):\n",
        "    self.mission=mission\n",
        "    if self.rank == 'Genin':\n",
        "      self.salary=self.mission*50\n",
        "    elif self.rank == 'Chunin':\n",
        "      self.salary=self.mission*100\n",
        "    else:\n",
        "      self.salary=self.mission*500\n",
        "  def printInfo(self):\n",
        "    print(f\"Name: {self.name}\")\n",
        "    print(f\"Rank: {self.rank}\")\n",
        "    print(f\"Number of mission: {self.mission}\")\n",
        "    print(f\"Salary: {self.salary}\")\n",
        "  def changeRank(self,rank):\n",
        "    self.rank=rank\n",
        "\n",
        "naruto = Shinobi(\"Naruto\", \"Genin\")\n",
        "naruto.calSalary(5)\n",
        "naruto.printInfo()\n",
        "print('====================')\n",
        "shikamaru = Shinobi('Shikamaru', \"Genin\")\n",
        "shikamaru.printInfo()\n",
        "shikamaru.changeRank(\"Chunin\")\n",
        "shikamaru.calSalary(10)\n",
        "shikamaru.printInfo()\n",
        "print('====================')\n",
        "neiji = Shinobi(\"Neiji\", \"Jonin\")\n",
        "neiji.calSalary(5)\n",
        "neiji.printInfo()\n"
      ],
      "metadata": {
        "colab": {
          "base_uri": "https://localhost:8080/"
        },
        "id": "X3DrMP7vuLV8",
        "outputId": "f5322b26-dc3c-46db-dd74-be74363c74fc"
      },
      "execution_count": null,
      "outputs": [
        {
          "output_type": "stream",
          "name": "stdout",
          "text": [
            "Name: Naruto\n",
            "Rank: Genin\n",
            "Number of mission: 5\n",
            "Salary: 250\n",
            "====================\n",
            "Name: Shikamaru\n",
            "Rank: Genin\n",
            "Number of mission: 0\n",
            "Salary: 0\n",
            "Name: Shikamaru\n",
            "Rank: Chunin\n",
            "Number of mission: 10\n",
            "Salary: 1000\n",
            "====================\n",
            "Name: Neiji\n",
            "Rank: Jonin\n",
            "Number of mission: 5\n",
            "Salary: 2500\n"
          ]
        }
      ]
    },
    {
      "cell_type": "markdown",
      "source": [
        "# Task 9"
      ],
      "metadata": {
        "id": "hvWO7h6TuLy0"
      }
    },
    {
      "cell_type": "code",
      "source": [
        "class Programmer:\n",
        "  def __init__(self, n, l, e):\n",
        "    self.name=n\n",
        "    self.language=l\n",
        "    self.experience=e\n",
        "    print(\"Horray! A new programmer is born\")\n",
        "  def printDetails(self):\n",
        "    print(f\"Name: {self.name}\")\n",
        "    print(f\"Language: {self.language}\")\n",
        "    print(f\"Experience: {self.experience} years.\")\n",
        "  def addExp(self, experience):\n",
        "    self.experience+=experience\n",
        "    print(f\"Updating experience of {self.name}\")\n",
        "\n",
        "\n",
        "p1 = Programmer(\"Ethen Hunt\", \"Java\", 10)\n",
        "p1.printDetails()\n",
        "print('--------------------------')\n",
        "p2 = Programmer(\"James Bond\", \"C++\", 7)\n",
        "p2.printDetails()\n",
        "print('--------------------------')\n",
        "p3 = Programmer(\"Jon Snow\", \"Python\", 4)\n",
        "p3.printDetails()\n",
        "p3.addExp(5)\n",
        "p3.printDetails()"
      ],
      "metadata": {
        "colab": {
          "base_uri": "https://localhost:8080/"
        },
        "id": "a31BlB3KuMMk",
        "outputId": "722ec2bb-392d-4c30-8fd3-7e377dad3a6e"
      },
      "execution_count": null,
      "outputs": [
        {
          "output_type": "stream",
          "name": "stdout",
          "text": [
            "Horray! A new programmer is born\n",
            "Name: Ethen Hunt\n",
            "Language: Java\n",
            "Experience: 10 years.\n",
            "--------------------------\n",
            "Horray! A new programmer is born\n",
            "Name: James Bond\n",
            "Language: C++\n",
            "Experience: 7 years.\n",
            "--------------------------\n",
            "Horray! A new programmer is born\n",
            "Name: Jon Snow\n",
            "Language: Python\n",
            "Experience: 4 years.\n",
            "Updating experience of Jon Snow\n",
            "Name: Jon Snow\n",
            "Language: Python\n",
            "Experience: 9 years.\n"
          ]
        }
      ]
    },
    {
      "cell_type": "markdown",
      "source": [
        "# Task 10"
      ],
      "metadata": {
        "id": "zRBMtCeHuMsE"
      }
    },
    {
      "cell_type": "code",
      "source": [
        "class UberEats:\n",
        "  def __init__(self, n, p, a):\n",
        "    self.name=n\n",
        "    self.phone=p\n",
        "    self.address=a\n",
        "    self.order={}\n",
        "    self.price=0\n",
        "    print(f\"{self.name}, welcome to UberEats!\")\n",
        "\n",
        "  def add_items(self,*args):\n",
        "    x=0\n",
        "    y=len(args)//2\n",
        "    while x<(len(args)//2):\n",
        "      self.order[args[x]]=args[y]\n",
        "      x+=1\n",
        "      y+=1\n",
        "\n",
        "    for i in range(len(args)//2, len(args)):\n",
        "      self.price+=args[i]\n",
        "\n",
        "  def print_order_detail(self):\n",
        "    return (f\"User details: Name: {self.name}, Phone: {self.phone}, Address: {self.address} \\nOrders: {self.order} \\nTotal Paid Amount: {self.price} \")\n",
        "\n",
        "\n",
        "\n",
        "order1 = UberEats(\"Shakib\", \"01719658xxx\", \"Mohakhali\")\n",
        "print(\"=========================\")\n",
        "order1.add_items(\"Burger\", \"Coca Cola\", 220, 50)\n",
        "print(\"=========================\")\n",
        "print(order1.print_order_detail())\n",
        "print(\"=========================\")\n",
        "order2 = UberEats (\"Siam\", \"01719659xxx\", \"Uttara\")\n",
        "print(\"=========================\")\n",
        "order2.add_items(\"Pineapple\", \"Dairy Milk\", 80, 70)\n",
        "print(\"=========================\")\n",
        "print(order2.print_order_detail())"
      ],
      "metadata": {
        "colab": {
          "base_uri": "https://localhost:8080/"
        },
        "id": "Lad25G2sgwd4",
        "outputId": "d458cd82-0817-44d3-d4e0-d9dfa7f2e9b5"
      },
      "execution_count": null,
      "outputs": [
        {
          "output_type": "stream",
          "name": "stdout",
          "text": [
            "Shakib, welcome to UberEats!\n",
            "=========================\n",
            "=========================\n",
            "User details: Name: Shakib, Phone: 01719658xxx, Address: Mohakhali \n",
            "Orders: {'Burger': 220, 'Coca Cola': 50} \n",
            "Total Paid Amount: 270 \n",
            "=========================\n",
            "Siam, welcome to UberEats!\n",
            "=========================\n",
            "=========================\n",
            "User details: Name: Siam, Phone: 01719659xxx, Address: Uttara \n",
            "Orders: {'Pineapple': 80, 'Dairy Milk': 70} \n",
            "Total Paid Amount: 150 \n"
          ]
        }
      ]
    },
    {
      "cell_type": "code",
      "source": [
        "class UberEats:\n",
        "  def __init__(self, n, p, a):\n",
        "    self.name=n\n",
        "    self.phone=p\n",
        "    self.address=a\n",
        "    self.order=None\n",
        "    self.price=0\n",
        "    print(f\"{self.name}, welcome to UberEats!\")\n",
        "\n",
        "  def add_items(self,item1, item2, priceOfItem1, priceOfItem2):\n",
        "    self.order=\"{\"+item1+\":\"+str(priceOfItem1)+\", \"+item2+\":\"+str(priceOfItem2)+\"}\"\n",
        "    self.price=priceOfItem1 + priceOfItem2\n",
        "  def print_order_detail(self):\n",
        "    return (f\"User details: Name: {self.name}, Phone: {self.phone}, Address: {self.address} \\nOrders: {self.order} \\nTotal Paid Amount: {self.price} \")\n",
        "\n",
        "\n",
        "\n",
        "order1 = UberEats(\"Shakib\", \"01719658xxx\", \"Mohakhali\")\n",
        "print(\"=========================\")\n",
        "order1.add_items(\"Burger\", \"Coca Cola\", 220, 50)\n",
        "print(\"=========================\")\n",
        "print(order1.print_order_detail())\n",
        "print(\"=========================\")\n",
        "order2 = UberEats (\"Siam\", \"01719659xxx\", \"Uttara\")\n",
        "print(\"=========================\")\n",
        "order2.add_items(\"Pineapple\", \"Dairy Milk\", 80, 70)\n",
        "print(\"=========================\")\n",
        "print(order2.print_order_detail())"
      ],
      "metadata": {
        "colab": {
          "base_uri": "https://localhost:8080/"
        },
        "id": "44NGgI7AuNT0",
        "outputId": "d14436bf-e768-4594-ef9b-3d9a8bd6aae2"
      },
      "execution_count": null,
      "outputs": [
        {
          "output_type": "stream",
          "name": "stdout",
          "text": [
            "Shakib, welcome to UberEats!\n",
            "=========================\n",
            "=========================\n",
            "User details: Name: Shakib, Phone: 01719658xxx, Address: Mohakhali \n",
            "Orders: {Burger:220, Coca Cola:50} \n",
            "Total Paid Amount: 270 \n",
            "=========================\n",
            "Siam, welcome to UberEats!\n",
            "=========================\n",
            "=========================\n",
            "User details: Name: Siam, Phone: 01719659xxx, Address: Uttara \n",
            "Orders: {Pineapple:80, Dairy Milk:70} \n",
            "Total Paid Amount: 150 \n"
          ]
        }
      ]
    },
    {
      "cell_type": "markdown",
      "source": [
        "# Task 11"
      ],
      "metadata": {
        "id": "wNHfdWePubGD"
      }
    },
    {
      "cell_type": "code",
      "source": [
        "class Spotify:\n",
        "  def __init__(self, songList):\n",
        "    self.songList=songList\n",
        "    print(\"Welcome to Spotify!\")\n",
        "  def playing_number(self, num):\n",
        "    if num<=len(self.songList):\n",
        "      return ( f\"Playing {num} number song for you \\nSong name: {self.songList[num-1]} \\n##########################\" )\n",
        "    else:\n",
        "      return (f\"{num} number song not found. Your playlist has {len(self.songList)} songs only. \\n##########################\")\n",
        "\n",
        "  def add_to_playlist(self, newSong):\n",
        "    self.songList.append(newSong)\n",
        "\n",
        "\n",
        "user1 = Spotify([\"See You Again\", \"Uptown Funk\", \"Hello\"])\n",
        "print(\"=========================\")\n",
        "print(user1.playing_number(4))\n",
        "user1.add_to_playlist(\"Dusk Till Dawn\")\n",
        "print(user1.playing_number(3))\n",
        "print(user1.playing_number(4))"
      ],
      "metadata": {
        "colab": {
          "base_uri": "https://localhost:8080/"
        },
        "id": "q2eJzrPAuchE",
        "outputId": "2a3d1438-48b7-4aad-cc55-650ac810861a"
      },
      "execution_count": null,
      "outputs": [
        {
          "output_type": "stream",
          "name": "stdout",
          "text": [
            "Welcome to Spotify!\n",
            "=========================\n",
            "4 number song not found. Your playlist has 3 songs only. \n",
            "##########################\n",
            "Playing 3 number song for you \n",
            "Song name: Hello \n",
            "##########################\n",
            "Playing 4 number song for you \n",
            "Song name: Dusk Till Dawn \n",
            "##########################\n"
          ]
        }
      ]
    },
    {
      "cell_type": "markdown",
      "source": [
        "# Task 12"
      ],
      "metadata": {
        "id": "jLzukY47uc9E"
      }
    },
    {
      "cell_type": "code",
      "source": [
        "class Test:\n",
        "  def __init__(self):\n",
        "    self.sum = 0\n",
        "    self.y = 0\n",
        "  def methodA(self):\n",
        "    x=0\n",
        "    y =0\n",
        "    y = y + 7\n",
        "    x = y + 11\n",
        "    self.sum = x + y\n",
        "    print(x , y, self.sum)\n",
        "  def methodB(self):\n",
        "    x = 0\n",
        "    self.y = self.y + 11\n",
        "    x = x + 33 + self.y\n",
        "    self.sum = self.sum + x + self.y\n",
        "    print(x , self.y, self.sum)\n",
        "\n",
        "t1 = Test()\n",
        "t1.methodA()\n",
        "t1.methodA()\n",
        "t1.methodB()\n",
        "t1.methodB()\n",
        "pass"
      ],
      "metadata": {
        "id": "1cvsPiUiud_c",
        "colab": {
          "base_uri": "https://localhost:8080/"
        },
        "outputId": "8528e177-d8bb-4b50-849b-47b3ededf1ed"
      },
      "execution_count": null,
      "outputs": [
        {
          "output_type": "stream",
          "name": "stdout",
          "text": [
            "18 7 25\n",
            "18 7 25\n",
            "44 11 80\n",
            "55 22 157\n"
          ]
        }
      ]
    },
    {
      "cell_type": "markdown",
      "source": [
        "# Task 13"
      ],
      "metadata": {
        "id": "D8OrLOnDhiv8"
      }
    },
    {
      "cell_type": "code",
      "source": [
        "class Scope:\n",
        "  def __init__(self):\n",
        "    self.x, self.y = 1, 100\n",
        "  def met1(self):\n",
        "    x = 3\n",
        "    x = self.x + 1\n",
        "    self.y = self.y + self.x + 1\n",
        "    x = self.y + self.met2() + self.y\n",
        "    print(x, self.y)\n",
        "  def met2(self):\n",
        "    y = 0\n",
        "    print(self.x, y)\n",
        "    self.x = self.x + y\n",
        "    self.y = self.y + 200\n",
        "    return self.x + y\n",
        "\n",
        "q2 = Scope()\n",
        "q2.met1()\n",
        "q2.met2()\n",
        "q2.met1()\n",
        "q2.met2()\n",
        "pass"
      ],
      "metadata": {
        "colab": {
          "base_uri": "https://localhost:8080/"
        },
        "id": "sublJ33KhlOU",
        "outputId": "286d8d88-c3bd-47b6-89f8-39a3799a7565"
      },
      "execution_count": null,
      "outputs": [
        {
          "output_type": "stream",
          "name": "stdout",
          "text": [
            "1 0\n",
            "405 302\n",
            "1 0\n",
            "1 0\n",
            "1209 704\n",
            "1 0\n"
          ]
        }
      ]
    },
    {
      "cell_type": "markdown",
      "source": [
        "# Task 14"
      ],
      "metadata": {
        "id": "qMZYYw55AFhT"
      }
    },
    {
      "cell_type": "code",
      "source": [
        "class Test3:\n",
        "  def __init__(self):\n",
        "    self.sum, self.y = 0, 0\n",
        "  def methodA(self):\n",
        "    x, y = 2, 3\n",
        "    msg = [0]\n",
        "    msg[0] = 3\n",
        "    y = self.y + msg[0]\n",
        "    self.methodB(msg, msg[0])\n",
        "    x = self.y + msg[0]\n",
        "    self.sum = x + y + msg[0]\n",
        "    print(x, y, self.sum)\n",
        "  def methodB(self, mg2, mg1):\n",
        "    x = 0\n",
        "    self.y = self.y + mg2[0]\n",
        "    x = x + 33 + mg1\n",
        "    self.sum = self.sum + x + self.y\n",
        "    mg2[0] = self.y + mg1\n",
        "    mg1 = mg1 + x + 2\n",
        "    print(x, self.y, self.sum)\n",
        "t3 = Test3()\n",
        "t3.methodA()\n",
        "t3.methodA()\n",
        "t3.methodA()\n",
        "t3.methodA() #\n"
      ],
      "metadata": {
        "id": "Mx6FnB3NkbYs",
        "colab": {
          "base_uri": "https://localhost:8080/"
        },
        "outputId": "6c04d330-129c-460a-918a-67342d240ce3"
      },
      "execution_count": null,
      "outputs": [
        {
          "output_type": "stream",
          "name": "stdout",
          "text": [
            "36 3 39\n",
            "9 3 18\n",
            "36 6 60\n",
            "15 6 30\n",
            "36 9 75\n",
            "21 9 42\n",
            "36 12 90\n",
            "27 12 54\n"
          ]
        }
      ]
    },
    {
      "cell_type": "code",
      "source": [
        "msg = [0]\n",
        "msg[0] = 3\n",
        "print(msg)"
      ],
      "metadata": {
        "colab": {
          "base_uri": "https://localhost:8080/"
        },
        "id": "0Wdjd_mRFTET",
        "outputId": "d0193859-90d2-4d3e-de97-e2d463bdb8df"
      },
      "execution_count": null,
      "outputs": [
        {
          "output_type": "stream",
          "name": "stdout",
          "text": [
            "[3]\n"
          ]
        }
      ]
    },
    {
      "cell_type": "markdown",
      "source": [
        "# Task 15"
      ],
      "metadata": {
        "id": "9xENSiJSAXU2"
      }
    },
    {
      "cell_type": "code",
      "source": [
        "class Test5:\n",
        "  def __init__(self):\n",
        "    self.sum, self.y = 0, 0\n",
        "  def methodA(self):\n",
        "    x = 0\n",
        "    z = 0\n",
        "    while (z < 5):\n",
        "      self.y = self.y + self.sum\n",
        "      x = self.y + 1\n",
        "      print(x, self.y, self.sum)\n",
        "      self.sum = self.sum + self.methodB(x, self.y)\n",
        "      z += 1\n",
        "  def methodB(self, m, n):\n",
        "    x = 0\n",
        "    sum = 0\n",
        "    self.y = self.y + m\n",
        "    x = n - 4\n",
        "    sum = sum + self.y\n",
        "    print(x, self.y, sum)\n",
        "    return self.sum\n",
        "t5 = Test5()\n",
        "t5.methodA()\n"
      ],
      "metadata": {
        "colab": {
          "base_uri": "https://localhost:8080/"
        },
        "id": "2Fp78vo4AWvc",
        "outputId": "f81b1e17-2af9-4111-903e-9f12cca16cf8"
      },
      "execution_count": null,
      "outputs": [
        {
          "output_type": "stream",
          "name": "stdout",
          "text": [
            "1 0 0\n",
            "-4 1 1\n",
            "2 1 0\n",
            "-3 3 3\n",
            "4 3 0\n",
            "-1 7 7\n",
            "8 7 0\n",
            "3 15 15\n",
            "16 15 0\n",
            "11 31 31\n"
          ]
        }
      ]
    },
    {
      "cell_type": "code",
      "source": [],
      "metadata": {
        "id": "_SVYRwkwAqQ-"
      },
      "execution_count": null,
      "outputs": []
    }
  ]
}