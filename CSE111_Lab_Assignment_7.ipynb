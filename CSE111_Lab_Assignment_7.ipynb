{
  "nbformat": 4,
  "nbformat_minor": 0,
  "metadata": {
    "colab": {
      "provenance": [],
      "include_colab_link": true
    },
    "kernelspec": {
      "name": "python3",
      "display_name": "Python 3"
    },
    "language_info": {
      "name": "python"
    }
  },
  "cells": [
    {
      "cell_type": "markdown",
      "metadata": {
        "id": "view-in-github",
        "colab_type": "text"
      },
      "source": [
        "<a href=\"https://colab.research.google.com/github/Mashrur001/CSE111/blob/main/CSE111_Lab_Assignment_7.ipynb\" target=\"_parent\"><img src=\"https://colab.research.google.com/assets/colab-badge.svg\" alt=\"Open In Colab\"/></a>"
      ]
    },
    {
      "cell_type": "markdown",
      "source": [
        "# Task 1"
      ],
      "metadata": {
        "id": "EVVgGnBjGNBq"
      }
    },
    {
      "cell_type": "code",
      "execution_count": null,
      "metadata": {
        "colab": {
          "base_uri": "https://localhost:8080/"
        },
        "id": "icu9XlXsDIAn",
        "outputId": "9009f2e3-6bb3-49ff-c5e8-c43f395198eb"
      },
      "outputs": [
        {
          "output_type": "stream",
          "name": "stdout",
          "text": [
            "Name: default Department: BBA\n",
            "Name: Humpty Dumpty Department: BBA\n",
            "Name: Little Bo Peep Department: BBA\n"
          ]
        }
      ],
      "source": [
        "class Student:\n",
        "  def __init__(self, name='Just a student', dept='nothing'):\n",
        "    self.__name = name\n",
        "    self.__department = dept\n",
        "  def set_department(self, dept):\n",
        "    self.__department = dept\n",
        "  def get_name(self):\n",
        "    return self.__name\n",
        "  def set_name(self,name):\n",
        "    self.__name = name\n",
        "  def __str__(self):\n",
        "    return 'Name: '+self.__name+' Department: '+self.__department\n",
        "\n",
        "#write your code here\n",
        "\n",
        "class BBA_Student(Student):\n",
        "  def __init__(self, a=None):\n",
        "    if a==None:\n",
        "      super().set_name(\"default\")\n",
        "      super().set_department(\"BBA\")\n",
        "    else:\n",
        "      super().set_name(a)\n",
        "      super().set_department(\"BBA\")\n",
        "\n",
        "print(BBA_Student())\n",
        "print(BBA_Student('Humpty Dumpty'))\n",
        "print(BBA_Student('Little Bo Peep'))"
      ]
    },
    {
      "cell_type": "markdown",
      "source": [
        "# Task 2"
      ],
      "metadata": {
        "id": "EnLYR4WvGoVP"
      }
    },
    {
      "cell_type": "code",
      "source": [
        "class Vehicle:\n",
        "  def __init__(self):\n",
        "    self.x = 0\n",
        "    self.y = 0\n",
        "  def moveUp(self):\n",
        "    self.y+=1\n",
        "  def moveDown(self):\n",
        "    self.y-=1\n",
        "  def moveRight(self):\n",
        "    self.x+=1\n",
        "  def moveLeft(self):\n",
        "    self.x-=1\n",
        "  def __str__(self):\n",
        "    return '('+str(self.x)+' , '+str(self.y)+')'\n",
        "#write your code here\n",
        "\n",
        "class Vehicle2010(Vehicle):\n",
        "  def moveLowerLeft(self):\n",
        "    super().moveDown()\n",
        "    super().moveLeft()\n",
        "  def equals(self, obj):\n",
        "    if self.x==obj.x and self.y==obj.y:\n",
        "      return (\"True\")\n",
        "    else:\n",
        "      return (\"False\")\n",
        "  def moveUpperRight(self):\n",
        "    super().moveUp()\n",
        "    super().moveRight()\n",
        "  def moveUpperLeft(self):\n",
        "    super().moveUp()\n",
        "    super().moveLeft()\n",
        "  def moveLowerRight(self):\n",
        "    super().moveDown()\n",
        "    super().moveRight()\n",
        "  def moveLowerLeft(self):\n",
        "    super().moveDown()\n",
        "    super().moveLeft()\n",
        "\n",
        "\n",
        "print('Part 1')\n",
        "print('------')\n",
        "car = Vehicle()\n",
        "print(car)\n",
        "car.moveUp()\n",
        "print(car)\n",
        "car.moveLeft()\n",
        "print(car)\n",
        "car.moveDown()\n",
        "print(car)\n",
        "car.moveRight()\n",
        "print(car)\n",
        "print('------')\n",
        "print('Part 2')\n",
        "print('------')\n",
        "car1 = Vehicle2010()\n",
        "print(car1)\n",
        "car1.moveLowerLeft()\n",
        "print(car1)\n",
        "car2 = Vehicle2010()\n",
        "car2.moveLeft()\n",
        "print(car1.equals(car2))\n",
        "car2.moveDown()\n",
        "print(car1.equals(car2))"
      ],
      "metadata": {
        "colab": {
          "base_uri": "https://localhost:8080/"
        },
        "id": "_aj4BPjMGRAM",
        "outputId": "22089fd8-b580-4de2-f49f-306c85c268d8"
      },
      "execution_count": null,
      "outputs": [
        {
          "output_type": "stream",
          "name": "stdout",
          "text": [
            "Part 1\n",
            "------\n",
            "(0 , 0)\n",
            "(0 , 1)\n",
            "(-1 , 1)\n",
            "(-1 , 0)\n",
            "(0 , 0)\n",
            "------\n",
            "Part 2\n",
            "------\n",
            "(0 , 0)\n",
            "(-1 , -1)\n",
            "False\n",
            "True\n"
          ]
        }
      ]
    },
    {
      "cell_type": "markdown",
      "source": [
        "# Task 3"
      ],
      "metadata": {
        "id": "90kp-Ie4KwUQ"
      }
    },
    {
      "cell_type": "code",
      "source": [
        "class Tournament:\n",
        "    def __init__(self,name='Default'):\n",
        "        self.__name = name\n",
        "    def set_name(self,name):\n",
        "        self.__name = name\n",
        "    def get_name(self):\n",
        "        return self.__name\n",
        "\n",
        "#write your code here\n",
        "\n",
        "class Cricket_Tournament(Tournament):\n",
        "  def __init__(self, name=None, teams=0, types=\"No type\"):\n",
        "    if name==None:\n",
        "      super().set_name(name)\n",
        "    else:\n",
        "      super().set_name(name)\n",
        "    self.teams=teams\n",
        "    self.types=types\n",
        "  def detail(self):\n",
        "    return (f\"Cricket Tournament Name: {super().get_name()}\\nNumber of Teams: {self.teams}\\nType: {self.types}\")\n",
        "\n",
        "class Tennis_Tournament(Tournament):\n",
        "  def __init__(self, name, players):\n",
        "    super().set_name(name)\n",
        "    self.players=players\n",
        "  def detail(self):\n",
        "    return (f\"Tennis Tournament Name: {super().get_name()}\\nNumber of Players: {self.players}\")\n",
        "\n",
        "\n",
        "ct1 = Cricket_Tournament()\n",
        "print(ct1.detail())\n",
        "print(\"-----------------------\")\n",
        "ct2 = Cricket_Tournament(\"IPL\",10,\"t20\")\n",
        "print(ct2.detail())\n",
        "print(\"-----------------------\")\n",
        "tt = Tennis_Tournament(\"Roland Garros\",128)\n",
        "print(tt.detail())"
      ],
      "metadata": {
        "id": "jrXzHa_8Kw7T",
        "colab": {
          "base_uri": "https://localhost:8080/"
        },
        "outputId": "162c20d1-c363-448f-f4d1-bf4394dc525a"
      },
      "execution_count": null,
      "outputs": [
        {
          "output_type": "stream",
          "name": "stdout",
          "text": [
            "Cricket Tournament Name: None\n",
            "Number of Teams: 0\n",
            "Type: No type\n",
            "-----------------------\n",
            "Cricket Tournament Name: IPL\n",
            "Number of Teams: 10\n",
            "Type: t20\n",
            "-----------------------\n",
            "Tennis Tournament Name: Roland Garros\n",
            "Number of Players: 128\n"
          ]
        }
      ]
    },
    {
      "cell_type": "markdown",
      "source": [
        "# Task 4"
      ],
      "metadata": {
        "id": "v8hqvMysKxXX"
      }
    },
    {
      "cell_type": "code",
      "source": [
        "class Product:\n",
        "  def __init__(self,id, title, price):\n",
        "    self.__id = id\n",
        "    self.__title = title\n",
        "    self.__price = price\n",
        "  def get_id_title_price(self):\n",
        "    return \"ID: \"+str(self.__id)+\" Title:\"+self.__title+\"Price: \"+str(self.__price)\n",
        "#write your code here\n",
        "\n",
        "class Book(Product):\n",
        "  def __init__(self, id, title, price, isbn, publisher):\n",
        "    super().__init__(id, title, price)\n",
        "    self.isbn=isbn\n",
        "    self.publisher=publisher\n",
        "  def printDetail(self):\n",
        "    return (f\"{super().get_id_title_price()} ISBN: {self.isbn} Publisher: {self.publisher}\")\n",
        "class CD(Product):\n",
        "  def __init__(self, id, title, price, brand, duration, genre):\n",
        "    super().__init__(id, title, price)\n",
        "    self.brand=brand\n",
        "    self.duration=duration\n",
        "    self.genre=genre\n",
        "  def printDetail(self):\n",
        "    return (f\"{super().get_id_title_price()} Band: {self.brand} Duration: {self.duration} minutes Genre: {self.genre}\")\n",
        "\n",
        "\n",
        "book = Book(1,\"The Alchemist\",500,\"97806\",\"HarperCollins\")\n",
        "print(book.printDetail())\n",
        "print(\"-----------------------\")\n",
        "cd = CD(2,\"Shotto\",300,\"Warfaze\",50,\"Hard Rock\")\n",
        "print(cd.printDetail())"
      ],
      "metadata": {
        "id": "V_DseecvKx4S",
        "colab": {
          "base_uri": "https://localhost:8080/"
        },
        "outputId": "36652cea-39d6-4c7f-9077-44c9226cb174"
      },
      "execution_count": null,
      "outputs": [
        {
          "output_type": "stream",
          "name": "stdout",
          "text": [
            "ID: 1 Title:The AlchemistPrice: 500 ISBN: 97806 Publisher: HarperCollins\n",
            "-----------------------\n",
            "ID: 2 Title:ShottoPrice: 300 Band: Warfaze Duration: 50 minutes Genre: Hard Rock\n"
          ]
        }
      ]
    },
    {
      "cell_type": "markdown",
      "source": [
        "# Task 5"
      ],
      "metadata": {
        "id": "8nFLX6LoKyT3"
      }
    },
    {
      "cell_type": "code",
      "source": [
        "class Animal:\n",
        "  def __init__(self,sound):\n",
        "    self.__sound = sound\n",
        "  def makeSound(self):\n",
        "    return self.__sound\n",
        "\n",
        "class Printer:\n",
        "  def printSound(self, a):\n",
        "    print(a.makeSound())\n",
        "\n",
        "#write your code here\n",
        "\n",
        "class Dog(Animal):\n",
        "  pass\n",
        "\n",
        "class Cat(Animal):\n",
        "  pass\n",
        "\n",
        "\n",
        "\n",
        "d1 = Dog('bark')\n",
        "c1 = Cat('meow')\n",
        "a1 = Animal('Animal does not make sound')\n",
        "pr = Printer()\n",
        "pr.printSound(a1)\n",
        "pr.printSound(c1)\n",
        "pr.printSound(d1)"
      ],
      "metadata": {
        "id": "G1ulqt71K1Ey",
        "colab": {
          "base_uri": "https://localhost:8080/"
        },
        "outputId": "fa27f835-995b-4f9b-a388-3248c0b43719"
      },
      "execution_count": null,
      "outputs": [
        {
          "output_type": "stream",
          "name": "stdout",
          "text": [
            "Animal does not make sound\n",
            "meow\n",
            "bark\n"
          ]
        }
      ]
    },
    {
      "cell_type": "markdown",
      "source": [
        "# Task 6"
      ],
      "metadata": {
        "id": "TWFB9sGXK5Py"
      }
    },
    {
      "cell_type": "code",
      "source": [
        "class Shape:\n",
        "  def __init__(self, name='Default', height=0, base=0):\n",
        "    self.area = 0\n",
        "    self.name = name\n",
        "    self.height = height\n",
        "    self.base = base\n",
        "\n",
        "  def get_height_base(self):\n",
        "    return \"Height: \"+str(self.height)+\",Base: \"+str(self.base)\n",
        "\n",
        "#write your code here\n",
        "\n",
        "class triangle(Shape):\n",
        "  def calcArea(self):\n",
        "    self.area = 0.5*self.base*self.height\n",
        "  def printDetail(self):\n",
        "    return (f\"Shape name: {self.name}\\n{super().get_height_base()}\\nArea: {self.area}\")\n",
        "\n",
        "class trapezoid(Shape):\n",
        "  def __init__(self, name, height, base, side):\n",
        "    super().__init__(name, height, base)\n",
        "    self.side=side\n",
        "  def calcArea(self):\n",
        "    self.area = 0.5*(self.base + self.side)*self.height\n",
        "  def printDetail(self):\n",
        "    return (f\"Shape name: {self.name}\\n{super().get_height_base()},Side_A: {self.side}\\nArea: {self.area}\")\n",
        "\n",
        "\n",
        "\n",
        "tri_default = triangle()\n",
        "tri_default.calcArea()\n",
        "print(tri_default.printDetail())\n",
        "print('--------------------------')\n",
        "tri = triangle('Triangle', 10, 5)\n",
        "tri.calcArea()\n",
        "print(tri.printDetail())\n",
        "print('---------------------------')\n",
        "trap = trapezoid('Trapezoid', 10, 6, 4)\n",
        "trap.calcArea()\n",
        "print(trap.printDetail())"
      ],
      "metadata": {
        "id": "mlYWUgQUK6FC",
        "colab": {
          "base_uri": "https://localhost:8080/"
        },
        "outputId": "d4945e57-b8dd-467e-e270-9ccf4031e6af"
      },
      "execution_count": null,
      "outputs": [
        {
          "output_type": "stream",
          "name": "stdout",
          "text": [
            "Shape name: Default\n",
            "Height: 0,Base: 0\n",
            "Area: 0.0\n",
            "--------------------------\n",
            "Shape name: Triangle\n",
            "Height: 10,Base: 5\n",
            "Area: 25.0\n",
            "---------------------------\n",
            "Shape name: Trapezoid\n",
            "Height: 10,Base: 6,Side_A: 4\n",
            "Area: 50.0\n"
          ]
        }
      ]
    },
    {
      "cell_type": "markdown",
      "source": [
        "# Task 7"
      ],
      "metadata": {
        "id": "otqkvyWIK6k3"
      }
    },
    {
      "cell_type": "code",
      "source": [
        "class Football:\n",
        "  def __init__(self, team_name, name, role):\n",
        "    self.__team = team_name\n",
        "    self.__name = name\n",
        "    self.role = role\n",
        "    self.earning_per_match = 0\n",
        "\n",
        "  def get_name_team(self):\n",
        "    return 'Name: '+self.__name+', Team Name: ' +self.__team\n",
        "\n",
        "#write your code here\n",
        "\n",
        "class Player(Football):\n",
        "  def __init__(self, team_name, name, role, goal, total_played):\n",
        "    super().__init__(team_name, name, role)\n",
        "    self.goal=goal\n",
        "    self.total_played=total_played\n",
        "    self.goalRatio = 0\n",
        "    self.earning_per_match=0\n",
        "  def calculate_ratio(self):\n",
        "    self.goalRatio = self.goal / self.total_played\n",
        "  def print_details(self):\n",
        "    print(super().get_name_team())\n",
        "    print(\"Team Role:\", self.role)\n",
        "    print(f\"Total Goal: {self.goal}, Total Played: {self.total_played}\")\n",
        "    print(\"Goal Ratio:\", self.goalRatio)\n",
        "    self.earning_per_match=self.goal*1000+self.total_played*10\n",
        "    print(f\"Match Earning: {self.earning_per_match}K\")\n",
        "\n",
        "class Manager(Football):\n",
        "  def __init__(self, team_name, name, role, goal):\n",
        "    super().__init__(team_name, name, role)\n",
        "    self.goal=goal\n",
        "  def print_details(self):\n",
        "    print(super().get_name_team())\n",
        "    print(\"Team Role:\", self.role)\n",
        "    print(f\"Total Win: {self.goal}\")\n",
        "    print(f\"Match Earning: {self.goal*1000}K\")\n",
        "\n",
        "\n",
        "\n",
        "player_one = Player('Juventus', 'Ronaldo', 'Striker', 25, 32)\n",
        "player_one.calculate_ratio()\n",
        "player_one.print_details()\n",
        "print('------------------------------------------')\n",
        "manager_one = Manager('Real Madrid', 'Zidane', 'Manager', 25)\n",
        "manager_one.print_details()\n"
      ],
      "metadata": {
        "id": "Ex8DJvOwK7GJ",
        "colab": {
          "base_uri": "https://localhost:8080/"
        },
        "outputId": "eedbec90-a677-4e19-c89d-c74ae0eaca7f"
      },
      "execution_count": null,
      "outputs": [
        {
          "output_type": "stream",
          "name": "stdout",
          "text": [
            "Name: Ronaldo, Team Name: Juventus\n",
            "Team Role: Striker\n",
            "Total Goal: 25, Total Played: 32\n",
            "Goal Ratio: 0.78125\n",
            "Match Earning: 25320K\n",
            "------------------------------------------\n",
            "Name: Zidane, Team Name: Real Madrid\n",
            "Team Role: Manager\n",
            "Total Win: 25\n",
            "Match Earning: 25000K\n"
          ]
        }
      ]
    }
  ]
}