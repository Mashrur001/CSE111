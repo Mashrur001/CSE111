{
  "nbformat": 4,
  "nbformat_minor": 0,
  "metadata": {
    "colab": {
      "provenance": [],
      "include_colab_link": true
    },
    "kernelspec": {
      "name": "python3",
      "display_name": "Python 3"
    },
    "language_info": {
      "name": "python"
    }
  },
  "cells": [
    {
      "cell_type": "markdown",
      "metadata": {
        "id": "view-in-github",
        "colab_type": "text"
      },
      "source": [
        "<a href=\"https://colab.research.google.com/github/Mashrur001/CSE111/blob/main/CSE111_Lab_Assignment_5.ipynb\" target=\"_parent\"><img src=\"https://colab.research.google.com/assets/colab-badge.svg\" alt=\"Open In Colab\"/></a>"
      ]
    },
    {
      "cell_type": "markdown",
      "source": [
        "# Task 1"
      ],
      "metadata": {
        "id": "TSEvri51RKpZ"
      }
    },
    {
      "cell_type": "code",
      "execution_count": null,
      "metadata": {
        "colab": {
          "base_uri": "https://localhost:8080/"
        },
        "id": "6k6TwadURHmS",
        "outputId": "4fe603af-5283-4591-a00e-739359ef5f6e"
      },
      "outputs": [
        {
          "output_type": "stream",
          "name": "stdout",
          "text": [
            "Quiz 1 (out of 10): 1\n",
            "Quiz 2 (out of 10): 2\n",
            "Lab (out of 30): 3\n",
            "Mid (out of 20): 4\n",
            "Final (out of 30): 5\n",
            "Total marks: 15\n"
          ]
        }
      ],
      "source": [
        "#Write your code here\n",
        "\n",
        "class Marks:\n",
        "  def __init__(self, intNum):\n",
        "    self.mark=intNum\n",
        "  def __add__(self, obj):\n",
        "    n = self.mark + obj.mark\n",
        "    return Marks(n)\n",
        "\n",
        "\n",
        "#Do not change the following lines of code\n",
        "Q1 = Marks(int(input(\"Quiz 1 (out of 10): \")))\n",
        "Q2 = Marks(int(input(\"Quiz 2 (out of 10): \")))\n",
        "Lab = Marks(int(input(\"Lab (out of 30): \")))\n",
        "Mid = Marks(int(input(\"Mid (out of 20): \")))\n",
        "Final = Marks(int(input(\"Final (out of 30): \")))\n",
        "total = Q1 + Q2 + Lab + Mid + Final\n",
        "print(\"Total marks: {}\".format(total.mark))"
      ]
    },
    {
      "cell_type": "markdown",
      "source": [
        "# Task 2"
      ],
      "metadata": {
        "id": "jGgCHjwBRNda"
      }
    },
    {
      "cell_type": "code",
      "source": [
        "class Teacher:\n",
        "  def __init__(self, n, d):\n",
        "    self.__name=n\n",
        "    self.__department=d\n",
        "    self.__courseList=[]\n",
        "  def addCourse(self, obj):\n",
        "    self.__courseList.append(obj.course)\n",
        "  def printDetail(self):\n",
        "    print(\"==================================\")\n",
        "    print(f\"Name: {self.__name}\")\n",
        "    print(f\"Department: {self.__department}\")\n",
        "    print(\"List of courses\")\n",
        "    print(\"==================================\")\n",
        "    for i in self.__courseList:\n",
        "      print(i)\n",
        "    print(\"==================================\")\n",
        "\n",
        "\n",
        "\n",
        "class Course:\n",
        "  def __init__(self, c):\n",
        "    self.course=c\n",
        "\n",
        "t1 = Teacher(\"Saad Abdullah\", \"CSE\")\n",
        "t2 = Teacher(\"Mumit Khan\", \"CSE\")\n",
        "t3 = Teacher(\"Sadia Kazi\", \"CSE\")\n",
        "c1 = Course(\"CSE 110 Programming Language I\")\n",
        "c2 = Course(\"CSE 111 Programming Language-II\")\n",
        "c3 = Course(\"CSE 220 Data Structures\")\n",
        "c4 = Course(\"CSE 221 Algorithms\")\n",
        "c5 = Course(\"CCSE 230 Discrete Mathematics\")\n",
        "c6 = Course(\"CSE 310 Object Oriented Programming\")\n",
        "c7 = Course(\"CSE 320 Data Communications\")\n",
        "c8 = Course(\"CSE 340 Computer Architecture\")\n",
        "t1.addCourse(c1)\n",
        "t1.addCourse(c2)\n",
        "t2.addCourse(c3)\n",
        "t2.addCourse(c4)\n",
        "t2.addCourse(c5)\n",
        "t3.addCourse(c6)\n",
        "t3.addCourse(c7)\n",
        "t3.addCourse(c8)\n",
        "t1.printDetail()\n",
        "t2.printDetail()\n",
        "t3.printDetail()"
      ],
      "metadata": {
        "colab": {
          "base_uri": "https://localhost:8080/"
        },
        "id": "UNJbPb4KROI7",
        "outputId": "e30318a9-0467-419e-f04d-889283dbdb04"
      },
      "execution_count": null,
      "outputs": [
        {
          "output_type": "stream",
          "name": "stdout",
          "text": [
            "==================================\n",
            "Name: Saad Abdullah\n",
            "Department: CSE\n",
            "List of courses\n",
            "==================================\n",
            "CSE 110 Programming Language I\n",
            "CSE 111 Programming Language-II\n",
            "==================================\n",
            "==================================\n",
            "Name: Mumit Khan\n",
            "Department: CSE\n",
            "List of courses\n",
            "==================================\n",
            "CSE 220 Data Structures\n",
            "CSE 221 Algorithms\n",
            "CCSE 230 Discrete Mathematics\n",
            "==================================\n",
            "==================================\n",
            "Name: Sadia Kazi\n",
            "Department: CSE\n",
            "List of courses\n",
            "==================================\n",
            "CSE 310 Object Oriented Programming\n",
            "CSE 320 Data Communications\n",
            "CSE 340 Computer Architecture\n",
            "==================================\n"
          ]
        }
      ]
    },
    {
      "cell_type": "markdown",
      "source": [
        "# Task 3"
      ],
      "metadata": {
        "id": "_e7rt0aBROjT"
      }
    },
    {
      "cell_type": "code",
      "source": [
        "class Team:\n",
        "  def __init__(self, cN=None):\n",
        "    if cN==None:\n",
        "      self.__countryName=None\n",
        "    else:\n",
        "      self.__countryName=cN\n",
        "    self.__player=[]\n",
        "  def setName(self, c):\n",
        "    self.__countryName=c\n",
        "  def addPlayer(self, obj):\n",
        "    self.__player.append(obj.playerName)\n",
        "  def printDetail(self):\n",
        "    print(\"===================\")\n",
        "    print(\"Team\", self.__countryName)\n",
        "    print(\"List of Players:\")\n",
        "    print(self.__player)\n",
        "    print(\"===================\")\n",
        "\n",
        "class Player:\n",
        "  def __init__(self, playerName):\n",
        "    self.playerName=playerName\n",
        "\n",
        "\n",
        "\n",
        "\n",
        "\n",
        "b = Team()\n",
        "b.setName('Bangladesh')\n",
        "mashrafi = Player(\"Mashrafi\")\n",
        "b.addPlayer(mashrafi)\n",
        "tamim = Player(\"Tamim\")\n",
        "b.addPlayer(tamim)\n",
        "b.printDetail()\n",
        "a = Team(\"Australia\")\n",
        "ponting = Player(\"Ponting\")\n",
        "a.addPlayer(ponting)\n",
        "lee = Player(\"Lee\")\n",
        "a.addPlayer(lee)\n",
        "a.printDetail()"
      ],
      "metadata": {
        "colab": {
          "base_uri": "https://localhost:8080/"
        },
        "id": "0nqHNfSMRPDy",
        "outputId": "59a129a5-9cfd-46f7-bd40-7e14919bdd0f"
      },
      "execution_count": null,
      "outputs": [
        {
          "output_type": "stream",
          "name": "stdout",
          "text": [
            "===================\n",
            "Team Bangladesh\n",
            "List of Players:\n",
            "['Mashrafi', 'Tamim']\n",
            "===================\n",
            "===================\n",
            "Team Australia\n",
            "List of Players:\n",
            "['Ponting', 'Lee']\n",
            "===================\n"
          ]
        }
      ]
    },
    {
      "cell_type": "markdown",
      "source": [
        "# Task 4"
      ],
      "metadata": {
        "id": "rd3WcbcsRPaL"
      }
    },
    {
      "cell_type": "code",
      "source": [
        "#Write your code here\n",
        "class Color:\n",
        "  def __init__(self, color):\n",
        "    self.clr=color\n",
        "  def __add__(self,obj):\n",
        "    if (self.clr==\"red\" and obj.clr==\"yellow\") or (self.clr==\"yellow\" and obj.clr==\"red\") :\n",
        "      return Color(\"Orange\")\n",
        "    elif (self.clr==\"red\" and obj.clr==\"blue\") or (self.clr==\"blue\" and obj.clr==\"red\") :\n",
        "      return Color(\"Violet\")\n",
        "    #elif (self.clr==\"yellow\" and obj.clr==\"blue\") or (self.clr==\"blue\" and obj.clr==\"yellow\") :\n",
        "    else:\n",
        "      return Color(\"Green\")\n",
        "\n",
        "\n",
        "#Do not change the following lines of code\n",
        "\n",
        "C1 = Color(input(\"First Color: \").lower())\n",
        "C2 = Color(input(\"Second Color: \").lower())\n",
        "C3 = C1 + C2\n",
        "print(\"Color formed:\", C3.clr)"
      ],
      "metadata": {
        "colab": {
          "base_uri": "https://localhost:8080/"
        },
        "id": "U9pBIwpjRQST",
        "outputId": "780b03e7-3d2c-4e11-97ed-d97023581503"
      },
      "execution_count": null,
      "outputs": [
        {
          "output_type": "stream",
          "name": "stdout",
          "text": [
            "First Color: red\n",
            "Second Color: yellow\n",
            "Color formed: Orange\n"
          ]
        }
      ]
    },
    {
      "cell_type": "markdown",
      "source": [
        "# Task 5"
      ],
      "metadata": {
        "id": "gzL_zeVoRQ0L"
      }
    },
    {
      "cell_type": "code",
      "source": [
        "import math\n",
        "class Circle:\n",
        "  def __init__(self, n):\n",
        "    self.__num=None\n",
        "    self.setRadius(n)\n",
        "  def getRadius(self):\n",
        "    return self.__num\n",
        "  def area(self):\n",
        "    return math.pi*(self.__num)**2\n",
        "  def __add__(self, obj):\n",
        "    return Circle(self.__num + obj.__num)\n",
        "  def setRadius(self,n):\n",
        "    self.__num=n\n",
        "\n",
        "\n",
        "\n",
        "c1 = Circle(4)\n",
        "print(\"First circle radius:\" , c1.getRadius())\n",
        "print(\"First circle area:\" ,c1.area())\n",
        "\n",
        "c2 = Circle(5)\n",
        "print(\"Second circle radius:\" ,c2.getRadius())\n",
        "print(\"Second circle area:\" ,c2.area())\n",
        "\n",
        "c3 = c1 + c2\n",
        "print(\"Third circle radius:\" ,c3.getRadius())\n",
        "print(\"Third circle area:\" ,c3.area())"
      ],
      "metadata": {
        "id": "tUh4jeMpRRSk",
        "colab": {
          "base_uri": "https://localhost:8080/"
        },
        "outputId": "c2b61548-0c1e-4bfb-c83e-d62913f932b6"
      },
      "execution_count": null,
      "outputs": [
        {
          "output_type": "stream",
          "name": "stdout",
          "text": [
            "First circle radius: 4\n",
            "First circle area: 50.26548245743669\n",
            "Second circle radius: 5\n",
            "Second circle area: 78.53981633974483\n",
            "Third circle radius: 9\n",
            "Third circle area: 254.46900494077323\n"
          ]
        }
      ]
    },
    {
      "cell_type": "markdown",
      "source": [
        "# Task 6"
      ],
      "metadata": {
        "id": "7zVzQtj3RRsr"
      }
    },
    {
      "cell_type": "code",
      "source": [
        "class Triangle:\n",
        "  def __init__(self, b, h):\n",
        "    self.__base=None\n",
        "    self.__height=None\n",
        "    self.setBase(b)\n",
        "    self.setHeight(h)\n",
        "  def getBase(self):\n",
        "    return self.__base\n",
        "  def getHeight(self):\n",
        "    return self.__height\n",
        "  def area(self):\n",
        "    return (self.__base*self.__height*0.5)\n",
        "  def __sub__(self, obj):\n",
        "    return Triangle(self.__base-obj.__base , self.__height-obj.__height)\n",
        "  def setBase(self, b):\n",
        "    self.__base=b\n",
        "  def setHeight(self, h):\n",
        "    self.__height=h\n",
        "\n",
        "\n",
        "\n",
        "t1 = Triangle(10, 5)\n",
        "print(\"First Triangle Base:\" , t1.getBase())\n",
        "print(\"First Triangle Height:\" , t1.getHeight())\n",
        "print(\"First Triangle area:\" ,t1.area())\n",
        "\n",
        "t2 = Triangle(5, 3)\n",
        "print(\"Second Triangle Base:\" , t2.getBase())\n",
        "print(\"Second Triangle Height:\" , t2.getHeight())\n",
        "print(\"Second Triangle area:\" ,t2.area())\n",
        "\n",
        "t3 = t1 - t2\n",
        "print(\"Third Triangle Base:\" , t3.getBase())\n",
        "print(\"Third Triangle Height:\" , t3.getHeight())\n",
        "print(\"Third Triangle area:\" ,t3.area())"
      ],
      "metadata": {
        "id": "VJnjz9eKRSJ8",
        "colab": {
          "base_uri": "https://localhost:8080/"
        },
        "outputId": "018a191a-645e-4944-c8f9-848829fa262e"
      },
      "execution_count": null,
      "outputs": [
        {
          "output_type": "stream",
          "name": "stdout",
          "text": [
            "First Triangle Base: 10\n",
            "First Triangle Height: 5\n",
            "First Triangle area: 25.0\n",
            "Second Triangle Base: 5\n",
            "Second Triangle Height: 3\n",
            "Second Triangle area: 7.5\n",
            "Third Triangle Base: 5\n",
            "Third Triangle Height: 2\n",
            "Third Triangle area: 5.0\n"
          ]
        }
      ]
    },
    {
      "cell_type": "markdown",
      "source": [
        "# Task 7"
      ],
      "metadata": {
        "id": "mLt5m1k9RSh0"
      }
    },
    {
      "cell_type": "code",
      "source": [
        "# Write your code here\n",
        "class Dolls:\n",
        "  def __init__(self, d, p, cons=\"\"):\n",
        "    self.doll=d\n",
        "    self.price=p\n",
        "    self.cons=cons\n",
        "  def detail(self):\n",
        "    if self.cons==\"addRun\":\n",
        "      return (f\"Dolls: {self.doll}\\nTotal Price: {self.price} taka\")\n",
        "    else:\n",
        "      return (f\"Doll: {self.doll}\\nTotal Price: {self.price} taka\")\n",
        "  def __gt__(self, obj):\n",
        "    if self.price>obj.price:\n",
        "      return True\n",
        "    return False\n",
        "  def __add__(self, obj_1):\n",
        "    return Dolls(self.doll+\" \"+obj_1.doll , self.price+obj_1.price, \"addRun\")\n",
        "\n",
        "\n",
        "\n",
        "obj_1 = Dolls(\"Tweety\", 2500)\n",
        "print(obj_1.detail())\n",
        "if obj_1 > obj_1:\n",
        "    print(\"Congratulations! You get the Tweety as a gift!\")\n",
        "else:\n",
        "    print(\"Thank you!\")\n",
        "\n",
        "print(\"=========================\")\n",
        "obj_2 = Dolls(\"Daffy Duck\", 1800)\n",
        "print(obj_2.detail())\n",
        "if obj_2 > obj_1:\n",
        "    print(\"Congratulations! You get the Tweety as a gift!\")\n",
        "else:\n",
        "    print(\"Thank you!\")\n",
        "\n",
        "print(\"=========================\")\n",
        "obj_3 = Dolls(\"Bugs Bunny\", 3000)\n",
        "print(obj_3.detail())\n",
        "if obj_3 > obj_1:\n",
        "    print(\"Congratulations! You get the Tweety as a gift!\")\n",
        "else:\n",
        "    print(\"Thank you!\")\n",
        "\n",
        "print(\"=========================\")\n",
        "obj_4 = Dolls(\"Porky Pig\", 1500)\n",
        "print(obj_4.detail())\n",
        "if obj_4 > obj_1:\n",
        "    print(\"Congratulations! You get the Tweety as a gift!\")\n",
        "else:\n",
        "    print(\"Thank you!\")\n",
        "\n",
        "print(\"=========================\")\n",
        "obj_5 = obj_2 + obj_3\n",
        "print(obj_5.detail())\n",
        "if obj_5 > obj_1:\n",
        "    print(\"Congratulations! You get the Tweety as a gift!\")\n",
        "else:\n",
        "    print(\"Thank you!\")"
      ],
      "metadata": {
        "id": "P31ayI2tRTSV",
        "colab": {
          "base_uri": "https://localhost:8080/"
        },
        "outputId": "dca95697-f117-4ca0-8e75-30dfcbc1b611"
      },
      "execution_count": null,
      "outputs": [
        {
          "output_type": "stream",
          "name": "stdout",
          "text": [
            "Doll: Tweety\n",
            "Total Price: 2500 taka\n",
            "Thank you!\n",
            "=========================\n",
            "Doll: Daffy Duck\n",
            "Total Price: 1800 taka\n",
            "Thank you!\n",
            "=========================\n",
            "Doll: Bugs Bunny\n",
            "Total Price: 3000 taka\n",
            "Congratulations! You get the Tweety as a gift!\n",
            "=========================\n",
            "Doll: Porky Pig\n",
            "Total Price: 1500 taka\n",
            "Thank you!\n",
            "=========================\n",
            "Dolls: Daffy Duck Bugs Bunny\n",
            "Total Price: 4800 taka\n",
            "Congratulations! You get the Tweety as a gift!\n"
          ]
        }
      ]
    },
    {
      "cell_type": "markdown",
      "source": [
        "# Task 8"
      ],
      "metadata": {
        "id": "9JxvpT4ouJS2"
      }
    },
    {
      "cell_type": "code",
      "source": [
        "#Write your code here\n",
        "class Coordinates:\n",
        "  def __init__(self, input1, input2):\n",
        "    self.input1=input1\n",
        "    self.input2=input2\n",
        "  def __sub__(self, obj):\n",
        "    return Coordinates(self.input1-obj.input1 , self.input2-obj.input2)\n",
        "  def __mul__(self, obj_1):\n",
        "    return Coordinates(self.input1*obj_1.input1 , self.input2*obj_1.input2)\n",
        "  def detail(self):\n",
        "    return (f\"({self.input1},{self.input2})\")\n",
        "  def __eq__(self,obj_2):\n",
        "    if self.input1==obj_2.input1 and self.input2==obj_2.input2:\n",
        "      return (\"The calculated coordinates are the same.\")\n",
        "    else:\n",
        "      return (\"The calculated coordinates are NOT the same.\")\n",
        "\n",
        "\n",
        "\n",
        "\n",
        "\n",
        "\n",
        "#Do not change the following lines of code\n",
        "\n",
        "p1 = Coordinates(int(input()),int(input()))\n",
        "p2 = Coordinates(int(input()),int(input()))\n",
        "\n",
        "p4 = p1 - p2\n",
        "print(p4.detail())\n",
        "\n",
        "p5 = p1 * p2\n",
        "print(p5.detail())\n",
        "\n",
        "point_check = (p4 == p5)\n",
        "print(point_check)"
      ],
      "metadata": {
        "colab": {
          "base_uri": "https://localhost:8080/"
        },
        "id": "V8ONOtQwuLOQ",
        "outputId": "182e08bc-ce88-437e-f7f6-28cba50507c0"
      },
      "execution_count": null,
      "outputs": [
        {
          "output_type": "stream",
          "name": "stdout",
          "text": [
            "1\n",
            "2\n",
            "3\n",
            "4\n",
            "(-2,-2)\n",
            "(3,8)\n",
            "The calculated coordinates are NOT the same.\n"
          ]
        }
      ]
    }
  ]
}