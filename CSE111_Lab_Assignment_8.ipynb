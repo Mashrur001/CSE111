{
  "nbformat": 4,
  "nbformat_minor": 0,
  "metadata": {
    "colab": {
      "provenance": [],
      "include_colab_link": true
    },
    "kernelspec": {
      "name": "python3",
      "display_name": "Python 3"
    },
    "language_info": {
      "name": "python"
    }
  },
  "cells": [
    {
      "cell_type": "markdown",
      "metadata": {
        "id": "view-in-github",
        "colab_type": "text"
      },
      "source": [
        "<a href=\"https://colab.research.google.com/github/Mashrur001/CSE111/blob/main/CSE111_Lab_Assignment_8.ipynb\" target=\"_parent\"><img src=\"https://colab.research.google.com/assets/colab-badge.svg\" alt=\"Open In Colab\"/></a>"
      ]
    },
    {
      "cell_type": "markdown",
      "source": [
        "# Task 1"
      ],
      "metadata": {
        "id": "FmrutekGYwdA"
      }
    },
    {
      "cell_type": "code",
      "execution_count": null,
      "metadata": {
        "colab": {
          "base_uri": "https://localhost:8080/"
        },
        "id": "XXFdU3v0XfGk",
        "outputId": "f3ee4091-aef7-46b7-d877-7beefb6e363f"
      },
      "outputs": [
        {
          "output_type": "stream",
          "name": "stdout",
          "text": [
            "RealPart: 1.0\n",
            "ImaginaryPart: 2.0\n",
            "---------\n",
            "RealPart: 5.0\n",
            "ImaginaryPart: 7.0\n"
          ]
        }
      ],
      "source": [
        "class RealNumber:\n",
        "  def __init__(self, r=0):\n",
        "    self.__realValue = r\n",
        "  def getRealValue(self):\n",
        "    return self.__realValue\n",
        "  def setRealValue(self, r):\n",
        "    self.__realValue = r\n",
        "  def __str__(self):\n",
        "    return 'RealPart: '+str(self.getRealValue())\n",
        "\n",
        "##############################################################################################################################\n",
        "\n",
        "class ComplexNumber(RealNumber):\n",
        "  def __init__(self, d1=None, d2=None):\n",
        "    if d1==None and d2==None:\n",
        "      super().setRealValue(1.0)\n",
        "      self.digitTwo = 2.0\n",
        "    else:\n",
        "      super().setRealValue(float(d1))\n",
        "      self.digitTwo = float(d2)\n",
        "  def __str__(self):\n",
        "    return (f\"{super().__str__()}\\nImaginaryPart: {self.digitTwo}\")\n",
        "\n",
        "\n",
        "\n",
        "cn1 = ComplexNumber()\n",
        "print(cn1)\n",
        "print('---------')\n",
        "cn2 = ComplexNumber(5,7)\n",
        "print(cn2)"
      ]
    },
    {
      "cell_type": "markdown",
      "source": [
        "# Task 2"
      ],
      "metadata": {
        "id": "rWGT4q4AZCOw"
      }
    },
    {
      "cell_type": "code",
      "source": [
        "class RealNumber:\n",
        "  def __init__(self, number=0):\n",
        "    self.number = number\n",
        "  def __add__(self, anotherRealNumber):\n",
        "    return self.number + anotherRealNumber.number\n",
        "  def __sub__(self, anotherRealNumber):\n",
        "    return self.number - anotherRealNumber.number\n",
        "  def __str__(self):\n",
        "    return str(self.number)\n",
        "\n",
        "##############################################################################################################################\n",
        "\n",
        "class ComplexNumber(RealNumber):\n",
        "  def __init__(self, num1, num2):\n",
        "    if type(num1)==int:\n",
        "      super().__init__(num1)\n",
        "      self.numberTwo = num2\n",
        "    else:\n",
        "      super().__init__(num1.number)\n",
        "      self.numberTwo = num2\n",
        "  def __str__(self):\n",
        "    return (f\"{self.number} + {self.numberTwo}i\")\n",
        "  def __add__(self, obj):\n",
        "    x = super().__add__(obj)\n",
        "    y = self.numberTwo + obj.numberTwo\n",
        "    return ComplexNumber(x,y)\n",
        "  def __sub__(self, obj):\n",
        "    x = super().__sub__(obj)\n",
        "    y = self.numberTwo - obj.numberTwo\n",
        "    return ComplexNumber(x,y)\n",
        "\n",
        "\n",
        "r1 = RealNumber(3)\n",
        "r2 = RealNumber(5)\n",
        "print(r1+r2)\n",
        "cn1 = ComplexNumber(2, 1)\n",
        "print(cn1)\n",
        "cn2 = ComplexNumber(r1, 5)\n",
        "print(cn2)\n",
        "cn3 = cn1 + cn2\n",
        "print(cn3)\n",
        "cn4 = cn1 - cn2\n",
        "print(cn4)"
      ],
      "metadata": {
        "colab": {
          "base_uri": "https://localhost:8080/"
        },
        "id": "2aAGURjBZDi8",
        "outputId": "df9f8a3f-3a79-47eb-a6f4-98c1ca45e44b"
      },
      "execution_count": null,
      "outputs": [
        {
          "output_type": "stream",
          "name": "stdout",
          "text": [
            "8\n",
            "2 + 1i\n",
            "3 + 5i\n",
            "5 + 6i\n",
            "-1 + -4i\n"
          ]
        }
      ]
    },
    {
      "cell_type": "markdown",
      "source": [
        "# Task 3"
      ],
      "metadata": {
        "id": "vxcOXACxZD61"
      }
    },
    {
      "cell_type": "code",
      "source": [
        "class Account:\n",
        "  def __init__(self, balance):\n",
        "    self._balance = balance\n",
        "  def getBalance(self):\n",
        "    return self._balance\n",
        "\n",
        "##############################################################################################################################\n",
        "\n",
        "class CheckingAccount(Account):\n",
        "  numberOfAccount = 0\n",
        "  def __init__(self, num=0.0):\n",
        "    if num==0.0:\n",
        "      super().__init__(num)\n",
        "    else:\n",
        "      num = \"%.2f\" % num\n",
        "      super().__init__(num)\n",
        "    CheckingAccount.numberOfAccount += 1\n",
        "  def __str__(self):\n",
        "    return (f\"Account Balance: {super().getBalance()}\")\n",
        "\n",
        "\n",
        "print('Number of Checking Accounts: ', CheckingAccount.numberOfAccount)\n",
        "print(CheckingAccount())\n",
        "print(CheckingAccount(100.00))\n",
        "print(CheckingAccount(200.00))\n",
        "print('Number of Checking Accounts: ', CheckingAccount.numberOfAccount)"
      ],
      "metadata": {
        "colab": {
          "base_uri": "https://localhost:8080/"
        },
        "id": "R1_svpxyZEdi",
        "outputId": "95cbb26c-3742-4bbe-e828-44ad9a58fd4c"
      },
      "execution_count": null,
      "outputs": [
        {
          "output_type": "stream",
          "name": "stdout",
          "text": [
            "Number of Checking Accounts:  0\n",
            "Account Balance: 0.0\n",
            "Account Balance: 100.00\n",
            "Account Balance: 200.00\n",
            "Number of Checking Accounts:  3\n"
          ]
        }
      ]
    },
    {
      "cell_type": "markdown",
      "source": [
        "# Task 4"
      ],
      "metadata": {
        "id": "xOdSjVlpZFB-"
      }
    },
    {
      "cell_type": "code",
      "source": [
        "class Fruit:\n",
        "  def __init__(self, formalin=False, name=''):\n",
        "    self.__formalin = formalin\n",
        "    self.name = name\n",
        "\n",
        "  def getName(self):\n",
        "    return self.name\n",
        "\n",
        "  def hasFormalin(self):\n",
        "    return self.__formalin\n",
        "\n",
        "class testFruit:\n",
        "  def test(self, f):\n",
        "    print('----Printing Detail----')\n",
        "    if f.hasFormalin():\n",
        "      print('Do not eat the',f.getName(),'.')\n",
        "      print(f)\n",
        "    else:\n",
        "      print('Eat the',f.getName(),'.')\n",
        "      print(f)\n",
        "\n",
        "##############################################################################################################################\n",
        "\n",
        "class Mango(Fruit):\n",
        "  def __init__(self, formalin=True, name='Mango'):\n",
        "    super().__init__(formalin, name)\n",
        "  def hasFormalin(self):\n",
        "    return True\n",
        "  def __str__(self):\n",
        "    return (f\"{super().getName()}s are bad for you\")\n",
        "\n",
        "class Jackfruit(Fruit):\n",
        "  def __init__(self, formalin=True, name=\"Jackfruit\"):\n",
        "    super().__init__(formalin, name)\n",
        "  def hasFormalin(self):\n",
        "    return False\n",
        "  def __str__(self):\n",
        "    return (f\"{super().getName()}s are good for you\")\n",
        "\n",
        "m = Mango()\n",
        "j = Jackfruit()\n",
        "t1 = testFruit()\n",
        "t1.test(m)\n",
        "t1.test(j)"
      ],
      "metadata": {
        "id": "24d1agxYZFgi",
        "colab": {
          "base_uri": "https://localhost:8080/"
        },
        "outputId": "129af42a-3858-48bf-dae8-5251aae7d94c"
      },
      "execution_count": null,
      "outputs": [
        {
          "output_type": "stream",
          "name": "stdout",
          "text": [
            "----Printing Detail----\n",
            "Do not eat the Mango .\n",
            "Mangos are bad for you\n",
            "----Printing Detail----\n",
            "Eat the Jackfruit .\n",
            "Jackfruits are good for you\n"
          ]
        }
      ]
    },
    {
      "cell_type": "markdown",
      "source": [
        "# Task 5"
      ],
      "metadata": {
        "id": "MSB4c3DOZFz9"
      }
    },
    {
      "cell_type": "code",
      "source": [
        "class Exam:\n",
        "  def __init__(self,marks):\n",
        "    self.marks = marks\n",
        "    self.time = 60\n",
        "\n",
        "  def examSyllabus(self):\n",
        "    return \"Maths , English\"\n",
        "  def examParts(self):\n",
        "    return \"Part 1 - Maths\\nPart 2 - English\\n\"\n",
        "\n",
        "#############################################################################\n",
        "\n",
        "class ScienceExam(Exam):\n",
        "  def __init__(self, *args):\n",
        "    super().__init__(args[0])\n",
        "    self.time = args[1]\n",
        "    self.numberOfParts = len(args)\n",
        "    self.syllabus=args[2:]\n",
        "\n",
        "  def __str__(self):\n",
        "    return (f\"Marks: {self.marks} Time: {self.time} minutes Number of Parts: {self.numberOfParts}\")\n",
        "\n",
        "  def examSyllabus(self):\n",
        "    s=\"\"\n",
        "    for i in self.syllabus:\n",
        "      s = s + i + \" , \"\n",
        "    return (f\"{super().examSyllabus()} , {s[:-3]}\")\n",
        "\n",
        "  def examParts(self):\n",
        "    p=\"\"\n",
        "    for i in range(3, self.numberOfParts+1):\n",
        "      p = p + (f\"Part {i} - {self.syllabus[i-3]}\") + \"\\n\"\n",
        "    return (f\"{super().examParts()}{p[:-1]}\")\n",
        "\n",
        "\n",
        "engineering = ScienceExam(100,90,\"Physics\",\"HigherMaths\")\n",
        "print(engineering)\n",
        "print('----------------------------------')\n",
        "print(engineering.examSyllabus())\n",
        "print(engineering.examParts())\n",
        "print('==================================')\n",
        "architecture = ScienceExam(100,120,\"Physics\",\"HigherMaths\",\"Drawing\")\n",
        "print(architecture)\n",
        "print('----------------------------------')\n",
        "print(architecture.examSyllabus())\n",
        "print(architecture.examParts())"
      ],
      "metadata": {
        "colab": {
          "base_uri": "https://localhost:8080/"
        },
        "id": "N_PUITRlZGPi",
        "outputId": "6f9ae41c-298e-4b74-ef3e-bf90019a170d"
      },
      "execution_count": null,
      "outputs": [
        {
          "output_type": "stream",
          "name": "stdout",
          "text": [
            "Marks: 100 Time: 90 minutes Number of Parts: 4\n",
            "----------------------------------\n",
            "Maths , English , Physics , HigherMaths\n",
            "Part 1 - Maths\n",
            "Part 2 - English\n",
            "Part 3 - Physics\n",
            "Part 4 - HigherMaths\n",
            "==================================\n",
            "Marks: 100 Time: 120 minutes Number of Parts: 5\n",
            "----------------------------------\n",
            "Maths , English , Physics , HigherMaths , Drawing\n",
            "Part 1 - Maths\n",
            "Part 2 - English\n",
            "Part 3 - Physics\n",
            "Part 4 - HigherMaths\n",
            "Part 5 - Drawing\n"
          ]
        }
      ]
    },
    {
      "cell_type": "code",
      "source": [
        "l=[1,2,3,4,5,6]\n",
        "print(l[2:])"
      ],
      "metadata": {
        "colab": {
          "base_uri": "https://localhost:8080/"
        },
        "id": "PJS_qtg6-paB",
        "outputId": "42624c71-e1c1-4649-af56-7b7bec90f08f"
      },
      "execution_count": null,
      "outputs": [
        {
          "output_type": "stream",
          "name": "stdout",
          "text": [
            "[3, 4, 5, 6]\n"
          ]
        }
      ]
    },
    {
      "cell_type": "markdown",
      "source": [
        "# Task 6"
      ],
      "metadata": {
        "id": "QSCumN_yZGwN"
      }
    },
    {
      "cell_type": "code",
      "source": [
        "class Shape3D:\n",
        "  pi = 3.14159\n",
        "\n",
        "  def __init__(self, name = 'Default', radius = 0):\n",
        "    self._area = 0\n",
        "    self._name = name\n",
        "    self._height = 'No need'\n",
        "    self._radius = radius\n",
        "  def calc_surface_area(self):\n",
        "    return 2 * Shape3D.pi * self._radius\n",
        "\n",
        "  def __str__(self):\n",
        "      return \"Radius: \"+str(self._radius)\n",
        "\n",
        "##############################################################################################################################\n",
        "\n",
        "class Sphere(Shape3D):\n",
        "\n",
        "  def __init__(self, n, r):\n",
        "    super().__init__(n, r)\n",
        "    self.radius = r\n",
        "    self.height = 'No need'\n",
        "    self.store = \"\"\n",
        "    print(f\"Shape name: {n}, Area Formula: 4 * pi * r * r\")\n",
        "\n",
        "  def calc_surface_area(self):\n",
        "    a1 = super().__str__()\n",
        "    a2 = \"Area: \" + str(super().calc_surface_area()*2*self.radius)\n",
        "    self.store = a1 + \", \" + \"Height: \" + self.height + \", \" + a2\n",
        "  def __str__(self):\n",
        "    return self.store\n",
        "\n",
        "\n",
        "class Cylinder(Shape3D):\n",
        "  def __init__(self, n, r, h):\n",
        "    super().__init__(n, r)\n",
        "    self.radius = r\n",
        "    self.height = h\n",
        "    self.store = \"\"\n",
        "    print(f\"Shape name: {n}, Area Formula: 2 * pi * r * (r + h)\")\n",
        "\n",
        "  def calc_surface_area(self):\n",
        "    a1 = super().__str__()\n",
        "    a3=super().pi\n",
        "    a2 = \"Area: \" + str(2*a3*self.radius*(self.radius+self.height))\n",
        "    self.store = self.store + a1 + \", \" + \"Height: \" + str(self.height) + \", \" + a2\n",
        "  def __str__(self):\n",
        "    return (self.store)\n",
        "\n",
        "\n",
        "\n",
        "sph = Sphere('Sphere', 5)\n",
        "print('----------------------------------')\n",
        "sph.calc_surface_area()\n",
        "print(sph)\n",
        "print('==================================')\n",
        "cyl = Cylinder('Cylinder', 5, 10)\n",
        "print('----------------------------------')\n",
        "cyl.calc_surface_area()\n",
        "print(cyl)"
      ],
      "metadata": {
        "id": "u8ZdVM1RZHKi",
        "colab": {
          "base_uri": "https://localhost:8080/"
        },
        "outputId": "84d4eba1-603f-4266-a8dc-e14af8fa4e9e"
      },
      "execution_count": null,
      "outputs": [
        {
          "output_type": "stream",
          "name": "stdout",
          "text": [
            "Shape name: Sphere, Area Formula: 4 * pi * r * r\n",
            "----------------------------------\n",
            "Radius: 5, Height: No need, Area: 314.159\n",
            "==================================\n",
            "Shape name: Cylinder, Area Formula: 2 * pi * r * (r + h)\n",
            "----------------------------------\n",
            "Radius: 5, Height: 10, Area: 471.2385\n"
          ]
        }
      ]
    },
    {
      "cell_type": "markdown",
      "source": [
        "# Task 7"
      ],
      "metadata": {
        "id": "UrXf5s2ZZHu2"
      }
    },
    {
      "cell_type": "code",
      "source": [
        "class PokemonBasic:\n",
        "\n",
        "  def __init__(self, name = 'Default', hp = 0, weakness = 'None', type = 'Unknown'):\n",
        "    self.name = name\n",
        "    self.hit_point = hp\n",
        "    self.weakness = weakness\n",
        "    self.type = type\n",
        "\n",
        "  def get_type(self):\n",
        "    return 'Main type: ' + self.type\n",
        "\n",
        "  def get_move(self):\n",
        "    return 'Basic move: ' + 'Quick Attack'\n",
        "\n",
        "  def __str__(self):\n",
        "    return \"Name: \" + self.name + \", HP: \" + str(self.hit_point) + \", Weakness: \" + self.weakness\n",
        "\n",
        "##############################################################################################################################\n",
        "\n",
        "class PokemonExtra(PokemonBasic):\n",
        "  def __init__(self, n, hp, w, mT, sT=None, oM=None):\n",
        "    super().__init__(n, hp, w, mT)\n",
        "    self.secondaryType = sT\n",
        "    self.otherMove = oM\n",
        "\n",
        "  def get_type(self):\n",
        "    if self.secondaryType == None:\n",
        "      return super().get_type()\n",
        "    else:\n",
        "      return (f\"{super().get_type()}, Secondary type: {self.secondaryType}\")\n",
        "\n",
        "  def get_move(self):\n",
        "    if type(self.otherMove) == tuple:\n",
        "      s=\"\"\n",
        "      for i in self.otherMove:\n",
        "        s = s + i + \", \"\n",
        "      return (f\"{super().get_move()}\\nOther move: {s[:-2]}\")\n",
        "    else:\n",
        "      return super().get_move()\n",
        "\n",
        "\n",
        "print('------------Basic Info:--------------')\n",
        "pk = PokemonBasic()\n",
        "print(pk)\n",
        "print(pk.get_type())\n",
        "print(pk.get_move())\n",
        "\n",
        "print('\\n------------Pokemon 1 Info:-------------')\n",
        "charmander = PokemonExtra('Charmander', 39, 'Water', 'Fire')\n",
        "print(charmander)\n",
        "print(charmander.get_type())\n",
        "print(charmander.get_move())\n",
        "\n",
        "print('\\n------------Pokemon 2 Info:-------------')\n",
        "charizard = PokemonExtra('Charizard', 78, 'Water', 'Fire', 'Flying', ('Fire Spin', 'Fire Blaze'))\n",
        "print(charizard)\n",
        "print(charizard.get_type())\n",
        "print(charizard.get_move())\n"
      ],
      "metadata": {
        "id": "Hj1VuvQRZIMC",
        "colab": {
          "base_uri": "https://localhost:8080/"
        },
        "outputId": "f58dc32c-7d79-436f-894f-dc74227dfeb1"
      },
      "execution_count": null,
      "outputs": [
        {
          "output_type": "stream",
          "name": "stdout",
          "text": [
            "------------Basic Info:--------------\n",
            "Name: Default, HP: 0, Weakness: None\n",
            "Main type: Unknown\n",
            "Basic move: Quick Attack\n",
            "\n",
            "------------Pokemon 1 Info:-------------\n",
            "Name: Charmander, HP: 39, Weakness: Water\n",
            "Main type: Fire\n",
            "Basic move: Quick Attack\n",
            "\n",
            "------------Pokemon 2 Info:-------------\n",
            "Name: Charizard, HP: 78, Weakness: Water\n",
            "Main type: Fire, Secondary type: Flying\n",
            "Basic move: Quick Attack\n",
            "Other move: Fire Spin, Fire Blaze\n"
          ]
        }
      ]
    },
    {
      "cell_type": "markdown",
      "source": [
        "# Task 8"
      ],
      "metadata": {
        "id": "VHXsfcR0ZIn9"
      }
    },
    {
      "cell_type": "code",
      "source": [
        "class Team:\n",
        "  def __init__(self, name):\n",
        "    self.name = \"default\"\n",
        "    self.total_player = 5\n",
        "  def info(self):\n",
        "    print(\"We love sports\")\n",
        "# Write your code here.\n",
        "\n",
        "class FootBallTeam(Team):\n",
        "  def __init__(self, name):\n",
        "    #super().__init__(name)\n",
        "    self.name=name\n",
        "    self.total_player = 11\n",
        "  def info(self):\n",
        "    print(f\"Our name is {self.name}\")\n",
        "    print(\"We play Football\")\n",
        "    super().info()\n",
        "class CricketTeam(Team):\n",
        "  def __init__(self, name):\n",
        "    #super().__init__(name)\n",
        "    self.name=name\n",
        "    self.total_player = 11\n",
        "  def info(self):\n",
        "    print(f\"Our name is {self.name}\")\n",
        "    print(\"We play Cricket\")\n",
        "    super().info()\n",
        "\n",
        "\n",
        "class Team_test:\n",
        "  def check(self, tm):\n",
        "    print(\"=========================\")\n",
        "    print(\"Total Player: \", tm.total_player)\n",
        "    tm.info()\n",
        "\n",
        "f = FootBallTeam(\"Brazil\")\n",
        "c = CricketTeam(\"Bangladesh\")\n",
        "test = Team_test()\n",
        "test.check(f)\n",
        "test.check(c)\n"
      ],
      "metadata": {
        "id": "8F0oouCIZJDS",
        "colab": {
          "base_uri": "https://localhost:8080/"
        },
        "outputId": "df218959-489c-4dfe-a27e-8107d11088e2"
      },
      "execution_count": null,
      "outputs": [
        {
          "output_type": "stream",
          "name": "stdout",
          "text": [
            "=========================\n",
            "Total Player:  11\n",
            "Our name is Brazil\n",
            "We play Football\n",
            "We love sports\n",
            "=========================\n",
            "Total Player:  11\n",
            "Our name is Bangladesh\n",
            "We play Cricket\n",
            "We love sports\n"
          ]
        }
      ]
    },
    {
      "cell_type": "markdown",
      "source": [
        "# Task 9"
      ],
      "metadata": {
        "id": "b3jxIXZUZJcd"
      }
    },
    {
      "cell_type": "code",
      "source": [
        "class Pokemon:\n",
        "  def __init__(self, p):\n",
        "    self.pokemon = p\n",
        "    self.pokemon_type = \"Needs to be set\"\n",
        "    self.pokemon_weakness = \"Needs to be set\"\n",
        "  def kind(self):\n",
        "    return self.pokemon_type\n",
        "  def weakness(self):\n",
        "    return self.pokemon_weakness\n",
        "  def what_am_i(self):\n",
        "    print(\"I am a Pokemon.\")\n",
        "\n",
        "#############################################################################\n",
        "\n",
        "class Pikachu(Pokemon):\n",
        "  def __init__(self):\n",
        "    super().__init__(\"Pikachu\")\n",
        "    self.pokemon_type = \"Electric\"\n",
        "    self.pokemon_weakness = \"Ground\"\n",
        "  def what_am_i(self):\n",
        "    super().what_am_i()\n",
        "    print(\"I am Pikachu.\")\n",
        "\n",
        "class Charmander(Pokemon):\n",
        "  def __init__(self):\n",
        "    super().__init__(\"Charmander\")\n",
        "    self.pokemon_type = \"Fire\"\n",
        "    self.pokemon_weakness = \"Water, Ground and Rock\"\n",
        "  def what_am_i(self):\n",
        "    super().what_am_i()\n",
        "    print(\"I am Charmander.\")\n",
        "\n",
        "pk1 = Pikachu()\n",
        "print(\"Pokemon:\", pk1.pokemon)\n",
        "print(\"Type:\", pk1.kind())\n",
        "print(\"Weakness:\", pk1.weakness())\n",
        "pk1.what_am_i()\n",
        "print(\"========================\")\n",
        "c1 = Charmander()\n",
        "print(\"Pokemon:\", c1.pokemon)\n",
        "print(\"Type:\", c1.kind())\n",
        "print(\"Weakness:\", c1.weakness())\n",
        "c1.what_am_i()"
      ],
      "metadata": {
        "id": "UtWnYYFHZJ46",
        "colab": {
          "base_uri": "https://localhost:8080/"
        },
        "outputId": "2ec5f16d-6499-4442-8cde-8ad29acc39a8"
      },
      "execution_count": null,
      "outputs": [
        {
          "output_type": "stream",
          "name": "stdout",
          "text": [
            "Pokemon: Pikachu\n",
            "Type: Electric\n",
            "Weakness: Ground\n",
            "I am a Pokemon.\n",
            "I am Pikachu.\n",
            "========================\n",
            "Pokemon: Charmander\n",
            "Type: Fire\n",
            "Weakness: Water, Ground and Rock\n",
            "I am a Pokemon.\n",
            "I am Charmander.\n"
          ]
        }
      ]
    },
    {
      "cell_type": "markdown",
      "source": [
        "# Task 10"
      ],
      "metadata": {
        "id": "9rggstSOZKXN"
      }
    },
    {
      "cell_type": "code",
      "source": [
        "class Department:\n",
        "  def __init__(self, s):\n",
        "    self.semester = s\n",
        "    self.name = \"Default\"\n",
        "    self.id = -1\n",
        "\n",
        "  def student_info(self):\n",
        "    print(\"Name:\", self.name)\n",
        "    print(\"ID:\", self.id)\n",
        "\n",
        "  def courses(self, c1, c2, c3):\n",
        "    print(\"No courses Approved yet!\")\n",
        "\n",
        "#############################################################################\n",
        "\n",
        "class CSE(Department):\n",
        "  def __init__(self, n, id, semester):\n",
        "    super().__init__(semester)\n",
        "    self.name=n\n",
        "    self.id=id\n",
        "  def courses(self, c1, c2, c3):\n",
        "    print(f\"Courses Approved to this CSE student in {self.semester} semester :\")\n",
        "    print(c1)\n",
        "    print(c2)\n",
        "    print(c3)\n",
        "\n",
        "class EEE(Department):\n",
        "  def __init__(self, n, id, semester):\n",
        "    super().__init__(semester)\n",
        "    self.name=n\n",
        "    self.id=id\n",
        "  def courses(self, c1, c2, c3):\n",
        "    print(f\"Courses Approved to this EEE student in {self.semester} semester :\")\n",
        "    print(c1)\n",
        "    print(c2)\n",
        "    print(c3)\n",
        "\n",
        "\n",
        "s1 = CSE(\"Rahim\", 16101328,\"Spring2016\")\n",
        "s1.student_info()\n",
        "s1.courses(\"CSE110\", \"MAT110\", \"ENG101\")\n",
        "print(\"==================\")\n",
        "s2 = EEE(\"Tanzim\", 18101326, \"Spring2018\")\n",
        "s2.student_info()\n",
        "s2.courses(\"Mat110\", \"PHY111\", \"ENG101\")\n",
        "print(\"==================\")\n",
        "s3 = CSE(\"Rudana\", 18101326, \"Fall2017\")\n",
        "s3.student_info()\n",
        "s3.courses(\"CSE111\", \"PHY101\", \"MAT120\")\n",
        "print(\"==================\")\n",
        "s4 = EEE(\"Zainab\", 19201623, \"Summer2019\")\n",
        "s4.student_info()\n",
        "s4.courses(\"EEE201\", \"PHY112\", \"MAT120\")"
      ],
      "metadata": {
        "id": "jcV6vT-jZK5J",
        "colab": {
          "base_uri": "https://localhost:8080/"
        },
        "outputId": "8f13dab4-160f-43e5-9bb3-2f1f27650fdb"
      },
      "execution_count": null,
      "outputs": [
        {
          "output_type": "stream",
          "name": "stdout",
          "text": [
            "Name: Rahim\n",
            "ID: 16101328\n",
            "Courses Approved to this CSE student in Spring2016 semester :\n",
            "CSE110\n",
            "MAT110\n",
            "ENG101\n",
            "==================\n",
            "Name: Tanzim\n",
            "ID: 18101326\n",
            "Courses Approved to this EEE student in Spring2018 semester :\n",
            "Mat110\n",
            "PHY111\n",
            "ENG101\n",
            "==================\n",
            "Name: Rudana\n",
            "ID: 18101326\n",
            "Courses Approved to this CSE student in Fall2017 semester :\n",
            "CSE111\n",
            "PHY101\n",
            "MAT120\n",
            "==================\n",
            "Name: Zainab\n",
            "ID: 19201623\n",
            "Courses Approved to this EEE student in Summer2019 semester :\n",
            "EEE201\n",
            "PHY112\n",
            "MAT120\n"
          ]
        }
      ]
    },
    {
      "cell_type": "markdown",
      "source": [
        "# Task 11"
      ],
      "metadata": {
        "id": "7bqwBbcFMO92"
      }
    },
    {
      "cell_type": "code",
      "source": [
        "class A:\n",
        "    def __init__(self):\n",
        "        self.temp = 4\n",
        "        self.sum = 1\n",
        "        self.y = 2\n",
        "        self.y = self.temp - 2\n",
        "        self.sum = self.temp + 3\n",
        "        self.temp -= 2\n",
        "    def methodA(self, m,  n):\n",
        "        x = 0\n",
        "        self.y = self.y + m + self.temp\n",
        "        self.temp += 1\n",
        "        x = x + 2 + n\n",
        "        self.sum = self.sum + x + self.y\n",
        "        print(x, self.y, self.sum)\n",
        "\n",
        "class B(A):\n",
        "    def __init__(self, b=None):\n",
        "        super().__init__()\n",
        "        self.x = 1\n",
        "        self.sum = 2\n",
        "        if b == None:\n",
        "            self.y = self.temp + 3\n",
        "            self.sum = 3 + self.temp + 2\n",
        "            self.temp -= 1\n",
        "        else:\n",
        "            self.sum = b.sum\n",
        "            self.x = b.x\n",
        "    def methodB(self, m,  n):\n",
        "        y = 0\n",
        "        y = y + self.y\n",
        "        self.x = y + 2 + self.temp\n",
        "        self.methodA(self.x, y)\n",
        "        self.sum = self.x + y + self.sum\n",
        "        print(self.x, y, self.sum)\n",
        "\n",
        "a1 = A()\n",
        "b1 = B()\n",
        "b2 = B(b1)\n",
        "a1.methodA(1, 1)\n",
        "b1.methodA(1, 2)\n",
        "b2.methodB(3, 2)\n"
      ],
      "metadata": {
        "id": "nRAmoQ0pMPaV",
        "colab": {
          "base_uri": "https://localhost:8080/"
        },
        "outputId": "026053e0-dc0f-4689-dd13-6f69d1be4d66"
      },
      "execution_count": null,
      "outputs": [
        {
          "output_type": "stream",
          "name": "stdout",
          "text": [
            "3 5 15\n",
            "4 7 18\n",
            "4 10 21\n",
            "6 2 29\n"
          ]
        }
      ]
    },
    {
      "cell_type": "markdown",
      "source": [
        "# Task 12"
      ],
      "metadata": {
        "id": "eK7lOOXCMPyW"
      }
    },
    {
      "cell_type": "code",
      "source": [
        "class A:\n",
        "    temp = 4\n",
        "    def __init__(self):\n",
        "        self.sum = 0\n",
        "        self.y = 0\n",
        "        self.y = A.temp - 2\n",
        "        self.sum = A.temp + 1\n",
        "        A.temp -= 2\n",
        "    def methodA(self, m,  n):\n",
        "        x = 0\n",
        "        self.y = self.y + m + (A.temp)\n",
        "        A.temp += 1\n",
        "        x = x + 1 + n\n",
        "        self.sum = self.sum + x + self.y\n",
        "        print(x, self.y, self.sum)\n",
        "\n",
        "class B(A):\n",
        "    x = 0\n",
        "    def __init__(self,b=None):\n",
        "        super().__init__()\n",
        "        self.sum = 0\n",
        "        if b==None:\n",
        "            self.y = A.temp + 3\n",
        "            self.sum = 3 + A.temp + 2\n",
        "            A.temp -= 2\n",
        "        else:\n",
        "            self.sum = b.sum\n",
        "            B.x = b.x\n",
        "            b.methodB(2, 3)\n",
        "    def methodB(self, m,  n):\n",
        "        y = 0\n",
        "        y = y + self.y\n",
        "        B.x = self.y + 2 + A.temp\n",
        "        self.methodA(B.x, y)\n",
        "        self.sum = B.x + y + self.sum\n",
        "        print(B.x, y, self.sum)\n",
        "\n",
        "a1 = A()\n",
        "b1 = B()\n",
        "b2 = B(b1)\n",
        "b1.methodA(1, 2)\n",
        "b2.methodB(3, 2)\n"
      ],
      "metadata": {
        "id": "qWGc0THVMQHF",
        "colab": {
          "base_uri": "https://localhost:8080/"
        },
        "outputId": "0b831353-958f-441c-a85e-4e18318ce7e9"
      },
      "execution_count": null,
      "outputs": [
        {
          "output_type": "stream",
          "name": "stdout",
          "text": [
            "4 0 9\n",
            "1 3 13\n",
            "3 -2 14\n",
            "-3 -10 -8\n",
            "-4 -4 -16\n"
          ]
        }
      ]
    },
    {
      "cell_type": "markdown",
      "source": [
        "# Task 13"
      ],
      "metadata": {
        "id": "ii3K-tmSMQ3W"
      }
    },
    {
      "cell_type": "code",
      "source": [
        "class A:\n",
        "  temp = 3\n",
        "  def __init__(self):\n",
        "    self.sum = 0\n",
        "    self.y = 0\n",
        "    self.y = A.temp - 1\n",
        "    self.sum = A.temp + 2\n",
        "    A.temp -= 2\n",
        "\n",
        "  def methodA(self, m, n):\n",
        "    x = 0\n",
        "    n[0] += 1\n",
        "    self.y = self.y + m + A.temp\n",
        "    A.temp += 1\n",
        "    x = x + 2 + n[0]\n",
        "    n[0] = self.sum + 2\n",
        "    print(f\"{x} {self.y} {self.sum}\")\n",
        "\n",
        "class B(A):\n",
        "  x = 1\n",
        "  def __init__(self, b = None):\n",
        "    super().__init__()\n",
        "    self.sum = 2\n",
        "    if b == None:\n",
        "      self.y = self.temp + 1\n",
        "      B.x = 3 + A.temp + self.x\n",
        "      A.temp -= 2\n",
        "    else:\n",
        "      self.sum = self.sum + self.sum\n",
        "      B.x = b.x + self.x\n",
        "  def methodB(self, m, n):\n",
        "    y = [0]\n",
        "    self.y = y[0] + self.y + m\n",
        "    B.x = self.y + 2 +  self.temp - n\n",
        "    self.methodA(self.x, y)\n",
        "    self.sum = self.x + y[0] + self.sum\n",
        "    print(f\"{self.x} {y[0]} {self.sum}\")\n",
        "\n",
        "x = [23]\n",
        "a1 = A()\n",
        "b1 = B()\n",
        "b2 = B(b1)\n",
        "a1.methodA(1, x)\n",
        "b2.methodB(3, 2)\n",
        "a1.methodA(1, x) #"
      ],
      "metadata": {
        "id": "JPEB9r9RMRMG",
        "colab": {
          "base_uri": "https://localhost:8080/"
        },
        "outputId": "57ac7865-8605-45c9-a372-d54191df6d22"
      },
      "execution_count": null,
      "outputs": [
        {
          "output_type": "stream",
          "name": "stdout",
          "text": [
            "26 -2 5\n",
            "3 -10 4\n",
            "-5 6 5\n",
            "10 -4 5\n"
          ]
        }
      ]
    },
    {
      "cell_type": "markdown",
      "source": [
        "# Task 14"
      ],
      "metadata": {
        "id": "fmd90Z2sMRg9"
      }
    },
    {
      "cell_type": "code",
      "source": [
        "class A:\n",
        "  temp = 7\n",
        "  def __init__(self):\n",
        "    self.sum, self.y = 0, 0\n",
        "    self.y = A.temp - 1\n",
        "    self.sum = A.temp + 2\n",
        "    A.temp -= 3\n",
        "  def methodA(self, m, n):\n",
        "    x = 4\n",
        "    n[0] += 1\n",
        "    self.y = self.y + m + A.temp\n",
        "    A.temp += 2\n",
        "    x = x + 3 + n[0]\n",
        "    n[0] = self.sum + 2\n",
        "    print(f\"{x} {self.y} {self.sum}\")\n",
        "  def get_A_sum(self):\n",
        "    return self.sum\n",
        "  def update_A_y(self, val):\n",
        "    self.y = val\n",
        "class B(A):\n",
        "  x = 2\n",
        "  def __init__(self, b = None):\n",
        "    super().__init__()\n",
        "    self.sum = 2\n",
        "    if b == None:\n",
        "      self.y = self.temp + 1\n",
        "      B.x = 4 + A.temp + self.x\n",
        "      A.temp -= 2\n",
        "    else:\n",
        "      self.sum = self.sum + self.get_A_sum()\n",
        "      B.x = b.x + self.x\n",
        "  def methodB(self, m, n):\n",
        "    y = [0]\n",
        "    self.update_A_y(y[0] + self.y + m)\n",
        "    B.x = self.y + 4 +  self.temp - n\n",
        "    self.methodA(self.x, y)\n",
        "    self.sum = self.x + y[0] + self.get_A_sum()\n",
        "    print(f\"{self.x} {y[0]} {self.sum}\")\n",
        "\n",
        "x = [32]\n",
        "a1 = A()\n",
        "b1 = B()\n",
        "b2 = B(b1)\n",
        "a1.methodA(2, x)\n",
        "b2.methodB(2, 3)\n",
        "a1.methodA(3, x)\n"
      ],
      "metadata": {
        "colab": {
          "base_uri": "https://localhost:8080/"
        },
        "id": "A_8-CXxVMSIl",
        "outputId": "b783346e-36a2-4066-ec06-6c425d7bdabc"
      },
      "execution_count": null,
      "outputs": [
        {
          "output_type": "stream",
          "name": "stdout",
          "text": [
            "40 4 9\n",
            "8 -3 4\n",
            "-1 6 9\n",
            "19 7 9\n"
          ]
        }
      ]
    },
    {
      "cell_type": "code",
      "source": [],
      "metadata": {
        "id": "__igvVWsMSs3"
      },
      "execution_count": null,
      "outputs": []
    }
  ]
}