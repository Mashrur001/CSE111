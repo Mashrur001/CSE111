{
  "nbformat": 4,
  "nbformat_minor": 0,
  "metadata": {
    "colab": {
      "provenance": [],
      "include_colab_link": true
    },
    "kernelspec": {
      "name": "python3",
      "display_name": "Python 3"
    },
    "language_info": {
      "name": "python"
    }
  },
  "cells": [
    {
      "cell_type": "markdown",
      "metadata": {
        "id": "view-in-github",
        "colab_type": "text"
      },
      "source": [
        "<a href=\"https://colab.research.google.com/github/Mashrur001/CSE111/blob/main/CSE111_Lab_Assignment_4.ipynb\" target=\"_parent\"><img src=\"https://colab.research.google.com/assets/colab-badge.svg\" alt=\"Open In Colab\"/></a>"
      ]
    },
    {
      "cell_type": "markdown",
      "source": [
        "# Task 1"
      ],
      "metadata": {
        "id": "BA5PSB84cWcj"
      }
    },
    {
      "cell_type": "code",
      "execution_count": null,
      "metadata": {
        "colab": {
          "base_uri": "https://localhost:8080/"
        },
        "id": "RUnswdLVcU74",
        "outputId": "d76e612a-b3af-41a7-8794-d51bf514aafd"
      },
      "outputs": [
        {
          "output_type": "stream",
          "name": "stdout",
          "text": [
            "Hello!\n",
            "Sam, you purchased 3 item(s):\n",
            "chips\n",
            "chocolate\n",
            "orange juice\n",
            "-----------------------------\n",
            "Hello David!\n",
            "David, you purchased 1 item(s):\n",
            "orange juice\n"
          ]
        }
      ],
      "source": [
        "class Customer:\n",
        "  def __init__(self,n):\n",
        "    self.name=n\n",
        "  def greet(self,n=None):\n",
        "    if n==None:\n",
        "      print(f\"Hello!\")\n",
        "    else:\n",
        "      print(f\"Hello {self.name}!\")\n",
        "  def purchase(self, *items):\n",
        "    print(f\"{self.name}, you purchased {len(items)} item(s):\")\n",
        "    for i in items:\n",
        "      print(i)\n",
        "\n",
        "customer_1 = Customer(\"Sam\")\n",
        "customer_1.greet()\n",
        "customer_1.purchase(\"chips\", \"chocolate\", \"orange juice\")\n",
        "print(\"-----------------------------\")\n",
        "customer_2 = Customer(\"David\")\n",
        "customer_2.greet(\"David\")\n",
        "customer_2.purchase(\"orange juice\")"
      ]
    },
    {
      "cell_type": "code",
      "source": [
        "class Customer:\n",
        "  def __init__(self, n):\n",
        "    self.name = n\n",
        "\n",
        "  def greet(self, d = None):\n",
        "    if d == None:\n",
        "      print(\"Hello!\")\n",
        "    else:\n",
        "      print(f\"Hello {d}!\")\n",
        "\n",
        "  def purchase(self, *args):    # --> args = (\"chips\", \"chocolate\", \"orange juice\")\n",
        "    print(f\"{self.name}, you purchased {len(args)} item(s):\")\n",
        "    for i in args:\n",
        "      print(i)\n",
        "\n",
        "# Hello!\n",
        "# Sam, you purchased 3 item(s):\n",
        "# chips\n",
        "# chocolate\n",
        "# orange juice\n",
        "# -----------------------------\n",
        "# Hello David!\n",
        "# David, you purchased 1 item(s):\n",
        "# orange juice\n",
        "\n",
        "customer_1 = Customer(\"Sam\")\n",
        "customer_1.greet()\n",
        "customer_1.purchase(\"chips\", \"chocolate\", \"orange juice\")\n",
        "print(\"-----------------------------\")\n",
        "customer_2 = Customer(\"David\")\n",
        "customer_2.greet(\"David\")\n",
        "customer_2.purchase(\"orange juice\")"
      ],
      "metadata": {
        "colab": {
          "base_uri": "https://localhost:8080/"
        },
        "id": "pw8nrxL4FUVw",
        "outputId": "999a2ca0-8307-4a16-9070-023c87837350"
      },
      "execution_count": null,
      "outputs": [
        {
          "output_type": "stream",
          "name": "stdout",
          "text": [
            "Hello!\n",
            "Sam, you purchased 3 item(s):\n",
            "chips\n",
            "chocolate\n",
            "orange juice\n",
            "-----------------------------\n",
            "Hello David!\n",
            "David, you purchased 1 item(s):\n",
            "orange juice\n"
          ]
        }
      ]
    },
    {
      "cell_type": "markdown",
      "source": [
        "#Task 2"
      ],
      "metadata": {
        "id": "YQ6xwzFNdNS8"
      }
    },
    {
      "cell_type": "code",
      "source": [
        "# class Panda:\n",
        "#   def __init__(self,n,g,a):\n",
        "#     self.name=n\n",
        "#     self.gender=g\n",
        "#     self.age=a\n",
        "#   def sleep(self,num=None):\n",
        "#     self.sleep=num\n",
        "#     if self.sleep==None:\n",
        "#       return (f\"{self.name}'s duration is unknown thus should have only  bamboo leaves\")\n",
        "#     elif (3 <= self.sleep <= 5) and self.sleep!=None:\n",
        "#       return (f\"{self.name} sleeps {self.sleep} hours daily and should have Mixed Veggies\")\n",
        "#     elif (6 <= self.sleep <= 8) and self.sleep!=None:\n",
        "#       return (f\"{self.name} sleeps {self.sleep} hours daily and should have Eggplant & Tofu\")\n",
        "#     elif (9 <= self.sleep <= 11) and self.sleep!=None:\n",
        "#       return (f\"{self.name} sleeps {self.sleep} hours daily and should have Broccoli Chicken\")\n",
        "\n",
        "\n",
        "# panda1 = Panda(\"Kunfu\",\"Male\", 5)\n",
        "# panda2=Panda(\"Pan Pan\",\"Female\",3)\n",
        "# panda3=Panda(\"Ming Ming\",\"Female\",8)\n",
        "# print(\"{} is a {} Panda Bear who is {} years old\".format(panda1.name,panda1.gender,panda1.age))\n",
        "# print(\"{} is a {} Panda Bear who is {} years old\".format(panda2.name,panda2.gender,panda2.age))\n",
        "# print(\"{} is a {} Panda Bear who is {} years old\".format(panda3.name,panda3.gender,panda3.age))\n",
        "# print(\"===========================\")\n",
        "# print(panda2.sleep(10))\n",
        "# print(panda1.sleep(4))\n",
        "# print(panda3.sleep())"
      ],
      "metadata": {
        "colab": {
          "base_uri": "https://localhost:8080/"
        },
        "id": "YFhqLv08dAP4",
        "outputId": "5123e162-e7fa-4a22-8685-a5aa6fbd74a6"
      },
      "execution_count": null,
      "outputs": [
        {
          "output_type": "stream",
          "name": "stdout",
          "text": [
            "Kunfu is a Male Panda Bear who is 5 years old\n",
            "Pan Pan is a Female Panda Bear who is 3 years old\n",
            "Ming Ming is a Female Panda Bear who is 8 years old\n",
            "===========================\n",
            "Pan Pan sleeps 10 hours daily and should have Broccoli Chicken\n",
            "Kunfu sleeps 4 hours daily and should have Mixed Veggies\n",
            "Ming Ming's duration is unknown thus should have only  bamboo leaves\n"
          ]
        }
      ]
    },
    {
      "cell_type": "code",
      "source": [
        "class Panda:\n",
        "  def __init__(self, n, g, a):\n",
        "    self.name = n\n",
        "    self.gender = g\n",
        "    self.age = a\n",
        "\n",
        "  def sleep(self, s = None):\n",
        "    if s != None:\n",
        "      if 3<=s<=5:\n",
        "        return f\"{self.name} sleeps {s} hours daily and should have Mixed Veggies\"\n",
        "      elif 6<=s<8:\n",
        "        return f\"{self.name} sleeps {s} hours daily and should have Eggplant & Tofu\"\n",
        "      elif 9<=s<=11:\n",
        "        return f\"{self.name} sleeps {s} hours daily and should have Broccoli Chicken\"\n",
        "    else:\n",
        "      return f\"{self.name} duration is unknown thus should have only bamboo leaves\"\n",
        "\n",
        "# OUTPUT:\n",
        "# Kunfu is a Male Panda Bear who is 5 years old\n",
        "# Pan Pan is a Female Panda Bear who is 3 years old\n",
        "# Ming Ming is a Female Panda Bear who is 8 years old\n",
        "# ===========================\n",
        "# Pan Pan sleeps 10 hours daily and should have Broccoli Chicken\n",
        "# Kunfu sleeps 4 hours daily and should have Mixed Veggies\n",
        "# Ming Ming's duration is unknown thus should have only  bamboo leaves\n",
        "\n",
        "\n",
        "\n",
        "panda1 = Panda(\"Kunfu\",\"Male\", 5)\n",
        "panda2=Panda(\"Pan Pan\",\"Female\",3)\n",
        "panda3=Panda(\"Ming Ming\",\"Female\",8)\n",
        "print(\"{} is a {} Panda Bear who is {} years old\".format(panda1.name,panda1.gender,panda1.age))\n",
        "print(\"{} is a {} Panda Bear who is {} years old\".format(panda2.name,panda2.gender,panda2.age))\n",
        "print(\"{} is a {} Panda Bear who is {} years old\".format(panda3.name,panda3.gender,panda3.age))\n",
        "print(\"===========================\")\n",
        "print(panda2.sleep(10))\n",
        "print(panda1.sleep(4))\n",
        "print(panda3.sleep())"
      ],
      "metadata": {
        "colab": {
          "base_uri": "https://localhost:8080/"
        },
        "id": "XYKMn43pJOrx",
        "outputId": "6ae51534-cde0-44e6-958a-06d6e099b756"
      },
      "execution_count": null,
      "outputs": [
        {
          "output_type": "stream",
          "name": "stdout",
          "text": [
            "Kunfu is a Male Panda Bear who is 5 years old\n",
            "Pan Pan is a Female Panda Bear who is 3 years old\n",
            "Ming Ming is a Female Panda Bear who is 8 years old\n",
            "===========================\n",
            "Pan Pan sleeps 10 hours daily and should have Broccoli Chicken\n",
            "Kunfu sleeps 4 hours daily and should have Mixed Veggies\n",
            "Ming Ming duration is unknown thus should have only bamboo leaves\n"
          ]
        }
      ]
    },
    {
      "cell_type": "code",
      "source": [
        "# OUTPUT:\n",
        "# Kunfu is a Male Panda Bear who is 5 years old\n",
        "# Pan Pan is a Female Panda Bear who is 3 years old\n",
        "# Ming Ming is a Female Panda Bear who is 8 years old\n",
        "# ===========================\n",
        "# Pan Pan sleeps 10 hours daily and should have Broccoli Chicken\n",
        "# Kunfu sleeps 4 hours daily and should have Mixed Veggies\n",
        "# Ming Ming's duration is unknown thus should have only  bamboo leaves"
      ],
      "metadata": {
        "id": "WpTjdBmse7P7"
      },
      "execution_count": null,
      "outputs": []
    },
    {
      "cell_type": "markdown",
      "source": [
        "# Task 3"
      ],
      "metadata": {
        "id": "4uJGLq2nhRSr"
      }
    },
    {
      "cell_type": "code",
      "source": [
        "class Cat:\n",
        "  def __init__(self, n=\"White\", p=\"sitting\"):\n",
        "    self.color=n\n",
        "    self.position=p\n",
        "  def printCat(self):\n",
        "    print(f\"{self.color} cat is {self.position}\")\n",
        "  def changeColor(self, c):\n",
        "    self.color=c\n",
        "\n",
        "\n",
        "c1 = Cat()\n",
        "c2 = Cat(\"Black\")\n",
        "c3 = Cat(\"Brown\", \"jumping\")\n",
        "c4 = Cat(\"Red\", \"purring\")\n",
        "c1.printCat()\n",
        "c2.printCat()\n",
        "c3.printCat()\n",
        "c4.printCat()\n",
        "c1.changeColor(\"Blue\")\n",
        "c3.changeColor(\"Purple\")\n",
        "c1.printCat()\n",
        "c3.printCat()"
      ],
      "metadata": {
        "colab": {
          "base_uri": "https://localhost:8080/"
        },
        "id": "WKQpISd5hSnq",
        "outputId": "5a56b5db-4a68-4cf6-9137-fe9b100d7908"
      },
      "execution_count": null,
      "outputs": [
        {
          "output_type": "stream",
          "name": "stdout",
          "text": [
            "White cat is sitting\n",
            "Black cat is sitting\n",
            "Brown cat is jumping\n",
            "Red cat is purring\n",
            "Blue cat is sitting\n",
            "Purple cat is jumping\n"
          ]
        }
      ]
    },
    {
      "cell_type": "code",
      "source": [
        "class Cat:\n",
        "  def __init__(self, c = \"White\", p = \"sitting\"):\n",
        "    self.color = c\n",
        "    self.position = p\n",
        "\n",
        "  def printCat(self):\n",
        "    print(f\"{self.color} cat is {self.position}\")\n",
        "\n",
        "  def changeColor(self, col):\n",
        "    self.color = col\n",
        "\n",
        "# White cat is sitting\n",
        "# Black cat is sitting\n",
        "# Brown cat is jumping\n",
        "# Red cat is purring\n",
        "# Blue cat is sitting\n",
        "# Purple cat is jumping\n",
        "\n",
        "\n",
        "c1 = Cat()\n",
        "c2 = Cat(\"Black\")\n",
        "c3 = Cat(\"Brown\", \"jumping\")\n",
        "c4 = Cat(\"Red\", \"purring\")\n",
        "c1.printCat()\n",
        "c2.printCat()\n",
        "c3.printCat()\n",
        "c4.printCat()\n",
        "c1.changeColor(\"Blue\")\n",
        "c3.changeColor(\"Purple\")\n",
        "c1.printCat()\n",
        "c3.printCat()"
      ],
      "metadata": {
        "id": "7IExUfY7hjOM",
        "colab": {
          "base_uri": "https://localhost:8080/"
        },
        "outputId": "2e78fc94-33d8-4392-c8fc-b673da790691"
      },
      "execution_count": null,
      "outputs": [
        {
          "output_type": "stream",
          "name": "stdout",
          "text": [
            "White cat is sitting\n",
            "Black cat is sitting\n",
            "Brown cat is jumping\n",
            "Red cat is purring\n",
            "Blue cat is sitting\n",
            "Purple cat is jumping\n"
          ]
        }
      ]
    },
    {
      "cell_type": "markdown",
      "source": [
        "# Task 4"
      ],
      "metadata": {
        "id": "QYDdx32Iivbp"
      }
    },
    {
      "cell_type": "code",
      "source": [
        "class Student:\n",
        "  def __init__(self,n=None):\n",
        "    if n==None:\n",
        "      self.name=\"default student\"\n",
        "    else:\n",
        "      self.name=n\n",
        "    self.avg=None\n",
        "  def quizcalc(self, a=0, b=0, c=0):\n",
        "    self.avg=(a+b+c)/3\n",
        "  def printdetail(self):\n",
        "    print(f\"Hello {self.name}\")\n",
        "    print(f\"Your average quiz score is {self.avg}\")\n",
        "\n",
        "\n",
        "s1 = Student()\n",
        "s1.quizcalc(10)\n",
        "print('--------------------------------')\n",
        "s1.printdetail()\n",
        "s2 = Student('Harry')\n",
        "s2.quizcalc(10,8)\n",
        "print('--------------------------------')\n",
        "s2.printdetail()\n",
        "s3 = Student('Hermione')\n",
        "s3.quizcalc(10,9,10)\n",
        "print('--------------------------------')\n",
        "s3.printdetail()"
      ],
      "metadata": {
        "colab": {
          "base_uri": "https://localhost:8080/"
        },
        "id": "ZELdijMiiwcY",
        "outputId": "135b07ed-7783-426f-cf3c-75f6edd2aed3"
      },
      "execution_count": null,
      "outputs": [
        {
          "output_type": "stream",
          "name": "stdout",
          "text": [
            "--------------------------------\n",
            "Hello default student\n",
            "Your average quiz score is 3.3333333333333335\n",
            "--------------------------------\n",
            "Hello Harry\n",
            "Your average quiz score is 6.0\n",
            "--------------------------------\n",
            "Hello Hermione\n",
            "Your average quiz score is 9.666666666666666\n"
          ]
        }
      ]
    },
    {
      "cell_type": "code",
      "source": [
        "class Student:\n",
        "  def __init__(self, n = \"default student\"):\n",
        "    self.name = n\n",
        "    self.avg = None\n",
        "\n",
        "  def quizcalc(self, q1 = 0, q2 = 0, q3 = 0):\n",
        "    avg = (q1 + q2 + q3) / 3\n",
        "    self.avg = avg\n",
        "\n",
        "  def printdetail(self):\n",
        "    print(f\"Hello {self.name}\")\n",
        "    print(f\"Your average quiz score is {self.avg}\")\n",
        "\n",
        "# --------------------------------\n",
        "# Hello default student\n",
        "# Your average quiz score is 3.3333333333333335\n",
        "# --------------------------------\n",
        "# Hello Harry\n",
        "# Your average quiz score is 6.0\n",
        "# --------------------------------\n",
        "# Hello Hermione\n",
        "# Your average quiz score is 9.666666666666666\n",
        "\n",
        "s1 = Student()\n",
        "s1.quizcalc(10)\n",
        "print('--------------------------------')\n",
        "s1.printdetail()\n",
        "s2 = Student('Harry')\n",
        "s2.quizcalc(10,8)\n",
        "print('--------------------------------')\n",
        "s2.printdetail()\n",
        "s3 = Student('Hermione')\n",
        "s3.quizcalc(10,9,10)\n",
        "print('--------------------------------')\n",
        "s3.printdetail()"
      ],
      "metadata": {
        "id": "z8UUOB7oi1iy",
        "colab": {
          "base_uri": "https://localhost:8080/"
        },
        "outputId": "758c4c98-3e62-4641-cd86-b60adab57589"
      },
      "execution_count": null,
      "outputs": [
        {
          "output_type": "stream",
          "name": "stdout",
          "text": [
            "--------------------------------\n",
            "Hello default student\n",
            "Your average quiz score is 3.3333333333333335\n",
            "--------------------------------\n",
            "Hello Harry\n",
            "Your average quiz score is 6.0\n",
            "--------------------------------\n",
            "Hello Hermione\n",
            "Your average quiz score is 9.666666666666666\n"
          ]
        }
      ]
    },
    {
      "cell_type": "markdown",
      "source": [
        "# Task 5"
      ],
      "metadata": {
        "id": "F5lCHaUokw8H"
      }
    },
    {
      "cell_type": "code",
      "source": [
        "class Student:\n",
        "  def __init__(self, n, id, d=None):\n",
        "    self.name=n\n",
        "    self.id=id\n",
        "    if d==None:\n",
        "      self.department=\"CSE\"\n",
        "    else:\n",
        "      self.department=d\n",
        "    self.hour=None\n",
        "  def dailyEffort(self,hour):\n",
        "    self.hour=hour\n",
        "  def printDetails(self):\n",
        "    print(\"Name:\", self.name)\n",
        "    print(\"ID:\", self.id)\n",
        "    print(\"Department:\", self.department)\n",
        "    print(f\"Daily Effort: {self.hour} hour(s)\")\n",
        "    if self.hour<=2:\n",
        "      print(\"Suggestion: Should give more effort!\")\n",
        "    elif self.hour<=4:\n",
        "      print(\"Suggestion: Keep up the good work!\")\n",
        "    else:\n",
        "      print(\"Suggestion: Excellent! Now motivate others.\")\n",
        "\n",
        "harry = Student('Harry Potter', 123)\n",
        "harry.dailyEffort(3)\n",
        "harry.printDetails()\n",
        "print('========================')\n",
        "john = Student(\"John Wick\", 456, \"BBA\")\n",
        "john.dailyEffort(2)\n",
        "john.printDetails()\n",
        "print('========================')\n",
        "naruto = Student(\"Naruto Uzumaki\", 777, \"Ninja\")\n",
        "naruto.dailyEffort(6)\n",
        "naruto.printDetails()"
      ],
      "metadata": {
        "colab": {
          "base_uri": "https://localhost:8080/"
        },
        "id": "i3yQbe2UkydP",
        "outputId": "e69e37fc-93c8-4558-80fc-3cc71ccbd0a6"
      },
      "execution_count": null,
      "outputs": [
        {
          "output_type": "stream",
          "name": "stdout",
          "text": [
            "Name: Harry Potter\n",
            "ID: 123\n",
            "Department: CSE\n",
            "Daily Effort: 3 hour(s)\n",
            "Suggestion: Keep up the good work!\n",
            "========================\n",
            "Name: John Wick\n",
            "ID: 456\n",
            "Department: BBA\n",
            "Daily Effort: 2 hour(s)\n",
            "Suggestion: Should give more effort!\n",
            "========================\n",
            "Name: Naruto Uzumaki\n",
            "ID: 777\n",
            "Department: Ninja\n",
            "Daily Effort: 6 hour(s)\n",
            "Suggestion: Excellent! Now motivate others.\n"
          ]
        }
      ]
    },
    {
      "cell_type": "code",
      "source": [
        "class Student:\n",
        "  def __init__(self, n, id, d = \"CSE\"):\n",
        "    self.name = n\n",
        "    self.id = id\n",
        "    self.department = d\n",
        "    self.dailyEff = None\n",
        "\n",
        "  def dailyEffort(self, de):\n",
        "    self.dailyEff = de\n",
        "\n",
        "  def printDetails(self):\n",
        "    print(f\"Name: {self.name}\")\n",
        "    print(f\"ID: {self.id}\")\n",
        "    print(f\"Department: {self.department}\")\n",
        "    print(f\"Daily Effort: {self.dailyEff} hour(s)\")\n",
        "\n",
        "    if self.dailyEff <= 2:\n",
        "      print('Suggestion: Should give more effort!')\n",
        "    elif self.dailyEff <= 4:\n",
        "      print('Suggestion: Keep up the good work!')\n",
        "    else:\n",
        "      print('Suggestion: Excellent! Now motivate others.')\n",
        "\n",
        "# Name: Harry Potter\n",
        "# ID: 123\n",
        "# Department: CSE\n",
        "# Daily Effort: 3 hour(s)\n",
        "# Suggestion: Keep up the good work!\n",
        "# ========================\n",
        "# Name: John Wick\n",
        "# ID: 456\n",
        "# Department: BBA\n",
        "# Daily Effort: 2 hour(s)\n",
        "# Suggestion: Should give more effort!\n",
        "# ========================\n",
        "# Name: Naruto Uzumaki\n",
        "# ID: 777\n",
        "# Department: Ninja\n",
        "# Daily Effort: 6 hour(s)\n",
        "# Suggestion: Excellent! Now motivate others.\n",
        "\n",
        "\n",
        "harry = Student('Harry Potter', 123)\n",
        "harry.dailyEffort(3)\n",
        "harry.printDetails()\n",
        "print('========================')\n",
        "john = Student(\"John Wick\", 456, \"BBA\")\n",
        "john.dailyEffort(2)\n",
        "john.printDetails()\n",
        "print('========================')\n",
        "naruto = Student(\"Naruto Uzumaki\", 777, \"Ninja\")\n",
        "naruto.dailyEffort(6)\n",
        "naruto.printDetails()"
      ],
      "metadata": {
        "id": "lbPab41WlD4J",
        "colab": {
          "base_uri": "https://localhost:8080/"
        },
        "outputId": "423bb91c-5667-4419-d989-752e2e01f222"
      },
      "execution_count": null,
      "outputs": [
        {
          "output_type": "stream",
          "name": "stdout",
          "text": [
            "Name: Harry Potter\n",
            "ID: 123\n",
            "Department: CSE\n",
            "Daily Effort: 3 hour(s)\n",
            "Suggestion: Keep up the good work!\n",
            "========================\n",
            "Name: John Wick\n",
            "ID: 456\n",
            "Department: BBA\n",
            "Daily Effort: 2 hour(s)\n",
            "Suggestion: Should give more effort!\n",
            "========================\n",
            "Name: Naruto Uzumaki\n",
            "ID: 777\n",
            "Department: Ninja\n",
            "Daily Effort: 6 hour(s)\n",
            "Suggestion: Excellent! Now motivate others.\n"
          ]
        }
      ]
    },
    {
      "cell_type": "markdown",
      "source": [
        "# Task 6"
      ],
      "metadata": {
        "id": "2epHPzs-oDKm"
      }
    },
    {
      "cell_type": "code",
      "source": [
        "class Patient:\n",
        "  def __init__(self, n, a):\n",
        "    self.name=n\n",
        "    self.age=a\n",
        "    self.symptom=None\n",
        "  def add_Symptom(self,*disease):\n",
        "    s=\"\"\n",
        "    for i in disease:\n",
        "      if i!=disease[-1]:\n",
        "        s=s+i+\", \"\n",
        "      else:\n",
        "        s=s+i\n",
        "    self.symptom=s\n",
        "  def printPatientDetail(self):\n",
        "    print(\"Name:\", self.name)\n",
        "    print(\"Age:\", self.age)\n",
        "    print(\"Symptoms:\", self.symptom)\n",
        "\n",
        "p1 = Patient(\"Thomas\", 23)\n",
        "p1.add_Symptom(\"Headache\")\n",
        "p2 = Patient(\"Carol\", 20)\n",
        "p2.add_Symptom(\"Vomiting\", \"Coughing\")\n",
        "p3 = Patient(\"Mike\", 25)\n",
        "p3.add_Symptom(\"Fever\", \"Headache\", \"Coughing\")\n",
        "print(\"=========================\")\n",
        "p1.printPatientDetail()\n",
        "print(\"=========================\")\n",
        "p2.printPatientDetail()\n",
        "print(\"=========================\")\n",
        "p3.printPatientDetail()"
      ],
      "metadata": {
        "colab": {
          "base_uri": "https://localhost:8080/"
        },
        "id": "79Sj1YX7oHKW",
        "outputId": "9da3bea7-f76b-4deb-913f-563d6fcd61d9"
      },
      "execution_count": null,
      "outputs": [
        {
          "output_type": "stream",
          "name": "stdout",
          "text": [
            "=========================\n",
            "Name: Thomas\n",
            "Age: 23\n",
            "Symptoms: Headache\n",
            "=========================\n",
            "Name: Carol\n",
            "Age: 20\n",
            "Symptoms: Vomiting, Coughing\n",
            "=========================\n",
            "Name: Mike\n",
            "Age: 25\n",
            "Symptoms: Fever, Headache, Coughing\n"
          ]
        }
      ]
    },
    {
      "cell_type": "code",
      "source": [
        "class Patient:\n",
        "  def __init__(self, n, a):\n",
        "    self.name=n\n",
        "    self.age=a\n",
        "    self.sym = \"\"\n",
        "\n",
        "  def add_Symptom(self, *args):   # (Vomiting, Coughing)\n",
        "    for i in args:\n",
        "      self.sym = self.sym + i + \", \"\n",
        "\n",
        "  def printPatientDetail(self):\n",
        "    print(f\"Name: {self.name}\")\n",
        "    print(f\"Age: {self.age}\")\n",
        "    print(f\"Symptoms: {self.sym[:-2]}\")\n",
        "\n",
        "# =========================\n",
        "# Name: Thomas\n",
        "# Age: 23\n",
        "# Symptoms: Headache\n",
        "# =========================\n",
        "# Name: Carol\n",
        "# Age: 20\n",
        "# Symptoms: Vomiting, Coughing\n",
        "# =========================\n",
        "# Name: Mike\n",
        "# Age: 25\n",
        "# Symptoms: Fever, Headache, Coughing\n",
        "\n",
        "\n",
        "p1 = Patient(\"Thomas\", 23)\n",
        "p1.add_Symptom(\"Headache\")\n",
        "p2 = Patient(\"Carol\", 20)\n",
        "p2.add_Symptom(\"Vomiting\", \"Coughing\")\n",
        "p3 = Patient(\"Mike\", 25)\n",
        "p3.add_Symptom(\"Fever\", \"Headache\", \"Coughing\")\n",
        "print(\"=========================\")\n",
        "p1.printPatientDetail()\n",
        "print(\"=========================\")\n",
        "p2.printPatientDetail()\n",
        "print(\"=========================\")\n",
        "p3.printPatientDetail()"
      ],
      "metadata": {
        "id": "tnZgWVFCoN6i",
        "colab": {
          "base_uri": "https://localhost:8080/"
        },
        "outputId": "55f80ce7-ae1a-4e66-b9f8-eb96fa7c866d"
      },
      "execution_count": null,
      "outputs": [
        {
          "output_type": "stream",
          "name": "stdout",
          "text": [
            "=========================\n",
            "Name: Thomas\n",
            "Age: 23\n",
            "Symptoms: Headache\n",
            "=========================\n",
            "Name: Carol\n",
            "Age: 20\n",
            "Symptoms: Vomiting, Coughing\n",
            "=========================\n",
            "Name: Mike\n",
            "Age: 25\n",
            "Symptoms: Fever, Headache, Coughing\n"
          ]
        }
      ]
    },
    {
      "cell_type": "markdown",
      "source": [
        "# Task 7"
      ],
      "metadata": {
        "id": "I9ndY-exsKwN"
      }
    },
    {
      "cell_type": "markdown",
      "source": [
        "ekhaner self.addRun e ki default value 1 dhorbo naki 0 dhorbo...??"
      ],
      "metadata": {
        "id": "4rEbQ7LZwR8M"
      }
    },
    {
      "cell_type": "code",
      "source": [
        "class Match:\n",
        "  def __init__(self, string):\n",
        "    string=string.split(\"-\")\n",
        "    self.batting=string[0]\n",
        "    self.bowling=string[1]\n",
        "    print(\"5..4..3..2..1.. Play !!!\")\n",
        "    self.addRun=0\n",
        "    self.addOver=0\n",
        "    self.wickets=0\n",
        "  def add_run(self, run):\n",
        "    self.addRun+=run\n",
        "  def add_over(self, over):\n",
        "    if self.addOver+over>=5:\n",
        "      print(\"Warning! Cannot add 5 over/s (5 over match)\")\n",
        "    else:\n",
        "      self.addOver+=over\n",
        "  def add_wicket(self,wickets):\n",
        "    self.wickets+=wickets\n",
        "  def print_scoreboard(self):\n",
        "    return (f\"Batting Team: {self.batting}\\nBowling Team: {self.bowling}\\nTotal Runs: {self.addRun} Wickets: {self.wickets} Overs: {self.addOver}\")\n",
        "\n",
        "\n",
        "\n",
        "match1 = Match(\"Rangpur Riders-Cumilla Victorians\")\n",
        "print(\"=========================\")\n",
        "match1.add_run(4)\n",
        "match1.add_run(6)\n",
        "match1.add_over(1)\n",
        "print(match1.print_scoreboard())\n",
        "print(\"=========================\")\n",
        "match1.add_over(5)\n",
        "print(\"=========================\")\n",
        "match1.add_wicket(1)\n",
        "print(match1.print_scoreboard())"
      ],
      "metadata": {
        "colab": {
          "base_uri": "https://localhost:8080/"
        },
        "id": "I0XX6AJqsKWU",
        "outputId": "480051e5-b6c1-4cb4-a9c0-48d43d94e8fe"
      },
      "execution_count": null,
      "outputs": [
        {
          "output_type": "stream",
          "name": "stdout",
          "text": [
            "5..4..3..2..1.. Play !!!\n",
            "=========================\n",
            "Batting Team: Rangpur Riders\n",
            "Bowling Team: Cumilla Victorians\n",
            "Total Runs: 10 Wickets: 0 Overs: 1\n",
            "=========================\n",
            "Warning! Cannot add 5 over/s (5 over match)\n",
            "=========================\n",
            "Batting Team: Rangpur Riders\n",
            "Bowling Team: Cumilla Victorians\n",
            "Total Runs: 10 Wickets: 1 Overs: 1\n"
          ]
        }
      ]
    },
    {
      "cell_type": "code",
      "source": [
        "class Match:\n",
        "  def __init__(self, string):\n",
        "    print(\"5..4..3..2..1.. Play !!!\")\n",
        "    self.totalRun = 0\n",
        "    self.wickets = 0\n",
        "    self.overs = 0\n",
        "\n",
        "    l = string.split('-')\n",
        "    self.bat = l[0]\n",
        "    self.bowl = l[1]\n",
        "\n",
        "  def add_run(self, r):\n",
        "    self.totalRun += r\n",
        "\n",
        "  def add_over(self, o):\n",
        "    if self.overs+o <= 5:\n",
        "      self.overs += o\n",
        "    else:\n",
        "      print(f\"Warning! Cannot add {o} over/s (5 over match)\")\n",
        "\n",
        "  def print_scoreboard(self):\n",
        "    return (f\"Batting Team: {self.bat}\\nBowling Team: {self.bowl}\\nTotal Runs: {self.totalRun} Wickets: {self.wickets} Overs: {self.overs}\")\n",
        "  def add_wicket(self, w):\n",
        "    self.wickets += w\n",
        "\n",
        "\n",
        "# OUTPUT:\n",
        "# 5..4..3..2..1.. Play !!!\n",
        "# ============================\n",
        "# Batting Team: Rangpur Riders\n",
        "# Bowling Team: Cumilla Victorians\n",
        "# Total Runs: 10 Wickets: 0 Overs: 1\n",
        "# ============================\n",
        "# Warning! Cannot add 5 over/s (5 over match)\n",
        "# ============================\n",
        "# Batting Team: Rangpur Riders\n",
        "# Bowling Team: Cumilla Victorians\n",
        "# Total Runs: 10 Wickets: 1 Overs: 1\n",
        "\n",
        "\n",
        "match1 = Match(\"Rangpur Riders-Cumilla Victorians\")\n",
        "print(\"=========================\")\n",
        "match1.add_run(4)\n",
        "match1.add_run(6)\n",
        "match1.add_over(1)\n",
        "print(match1.print_scoreboard())\n",
        "print(\"=========================\")\n",
        "match1.add_over(5)\n",
        "print(\"=========================\")\n",
        "match1.add_wicket(1)\n",
        "print(match1.print_scoreboard())"
      ],
      "metadata": {
        "id": "Q6lflNeUsP23",
        "colab": {
          "base_uri": "https://localhost:8080/"
        },
        "outputId": "8db9ec55-eb21-43d5-d428-28bec8fe946c"
      },
      "execution_count": null,
      "outputs": [
        {
          "output_type": "stream",
          "name": "stdout",
          "text": [
            "5..4..3..2..1.. Play !!!\n",
            "=========================\n",
            "Batting Team: Rangpur Riders\n",
            "Bowling Team: Cumilla Victorians\n",
            "Total Runs: 10 Wickets: 0 Overs: 1\n",
            "=========================\n",
            "Warning! Cannot add 5 over/s (5 over match)\n",
            "=========================\n",
            "Batting Team: Rangpur Riders\n",
            "Bowling Team: Cumilla Victorians\n",
            "Total Runs: 10 Wickets: 1 Overs: 1\n"
          ]
        }
      ]
    },
    {
      "cell_type": "markdown",
      "source": [
        "# Task 8"
      ],
      "metadata": {
        "id": "nhcVgDFEwmSE"
      }
    },
    {
      "cell_type": "markdown",
      "source": [
        "ques er braket niye ask korbo"
      ],
      "metadata": {
        "id": "zNWlbv5txXaE"
      }
    },
    {
      "cell_type": "code",
      "source": [
        "class ParcelKoro:\n",
        "  def __init__(self,name=None,product_weight=None):\n",
        "    if name==None and product_weight==None:\n",
        "      self.name=\"No name set\"\n",
        "      self.product_weight=0\n",
        "    elif name!=None and product_weight==None:\n",
        "      self.name=name\n",
        "      self.product_weight=0\n",
        "    elif name!=None and product_weight!=None:\n",
        "      self.name=name\n",
        "      self.product_weight=product_weight\n",
        "    self.location_charge=0\n",
        "    self.total_fee=0\n",
        "  def calculateFee(self, location=None):\n",
        "    if self.product_weight==0 and location==None:\n",
        "      self.total_fee=0\n",
        "    elif self.product_weight!=0 and location==None:\n",
        "      self.location_charge=50\n",
        "      self.total_fee = (self.product_weight * 20) + self.location_charge\n",
        "    elif self.product_weight!=0 and location!=None:\n",
        "      self.location_charge=100\n",
        "      self.total_fee = (self.product_weight * 20) + self.location_charge\n",
        "\n",
        "  def printDetails(self):\n",
        "    print(\"Customer Name:\", self.name)\n",
        "    print(\"Product Weight:\", self.product_weight)\n",
        "    print(\"Total fee:\", self.total_fee)\n",
        "\n",
        "\n",
        "print(\"**********************\")\n",
        "p1 = ParcelKoro()\n",
        "p1.calculateFee()\n",
        "p1.printDetails()\n",
        "print(\"**********************\")\n",
        "p2 = ParcelKoro('Bob The Builder')\n",
        "p2.calculateFee()\n",
        "p2.printDetails()\n",
        "print(\"----------------------------\")\n",
        "p2.product_weight = 15     # <-------------------------------------------------question\n",
        "p2.calculateFee()\n",
        "p2.printDetails()\n",
        "print(\"**********************\")\n",
        "p3 = ParcelKoro(\"Dora The Explorer\", 10)\n",
        "p3.calculateFee('Dhanmondi')\n",
        "p3.printDetails()"
      ],
      "metadata": {
        "colab": {
          "base_uri": "https://localhost:8080/"
        },
        "id": "UeEtbJ--wnds",
        "outputId": "2b5fb845-2b61-40d1-cce2-8dca43eec498"
      },
      "execution_count": null,
      "outputs": [
        {
          "output_type": "stream",
          "name": "stdout",
          "text": [
            "**********************\n",
            "Customer Name: No name set\n",
            "Product Weight: 0\n",
            "Total fee: 0\n",
            "**********************\n",
            "Customer Name: Bob The Builder\n",
            "Product Weight: 0\n",
            "Total fee: 0\n",
            "----------------------------\n",
            "Customer Name: Bob The Builder\n",
            "Product Weight: 15\n",
            "Total fee: 350\n",
            "**********************\n",
            "Customer Name: Dora The Explorer\n",
            "Product Weight: 10\n",
            "Total fee: 300\n"
          ]
        }
      ]
    },
    {
      "cell_type": "code",
      "source": [
        "class ParcelKoro:\n",
        "  def __init__(self, n = \"No name set\", w = 0):\n",
        "    self.name = n\n",
        "    self.product_weight = w\n",
        "    self.fee = None\n",
        "\n",
        "  def calculateFee(self, a = None):\n",
        "    location_charge = None\n",
        "    if a == None:\n",
        "      location_charge = 50\n",
        "    else:\n",
        "      location_charge = 100\n",
        "    if self.product_weight != 0:\n",
        "      self.fee = self.product_weight * 20 + location_charge\n",
        "    else:\n",
        "      self.fee = 0\n",
        "\n",
        "  def printDetails(self):\n",
        "    print(f\"Customer Name: {self.name}\")\n",
        "    print(f\"Product Weight: {self.product_weight}\")\n",
        "    print(f\"Total fee: {self.fee}\")\n",
        "\n",
        "# **********************\n",
        "# Customer Name: No name set\n",
        "# Product Weight: 0\n",
        "# Total fee: 0\n",
        "# **********************\n",
        "# Customer Name: Bob The Builder\n",
        "# Product Weight: 0\n",
        "# Total fee: 0\n",
        "# ----------------------------\n",
        "# Customer Name: Bob The Builder\n",
        "# Product Weight: 15\n",
        "# Total fee: 350\n",
        "# **********************\n",
        "# Customer Name: Dora The Explorer\n",
        "# Product Weight: 10\n",
        "# Total fee: 300\n",
        "\n",
        "\n",
        "print(\"**********************\")\n",
        "p1 = ParcelKoro()\n",
        "p1.calculateFee()\n",
        "p1.printDetails()\n",
        "print(\"**********************\")\n",
        "p2 = ParcelKoro('Bob The Builder')\n",
        "p2.calculateFee()\n",
        "p2.printDetails()\n",
        "print(\"----------------------------\")\n",
        "p2.product_weight = 15     # <-------------------------------------------------question\n",
        "p2.calculateFee()\n",
        "p2.printDetails()\n",
        "print(\"**********************\")\n",
        "p3 = ParcelKoro(\"Dora The Explorer\", 10)\n",
        "p3.calculateFee('Dhanmondi')\n",
        "p3.printDetails()"
      ],
      "metadata": {
        "id": "cmqyuGxBwwrZ",
        "colab": {
          "base_uri": "https://localhost:8080/"
        },
        "outputId": "d7ad91d2-e1cf-467b-e10e-88e35b7d858a"
      },
      "execution_count": null,
      "outputs": [
        {
          "output_type": "stream",
          "name": "stdout",
          "text": [
            "**********************\n",
            "Customer Name: No name set\n",
            "Product Weight: 0\n",
            "Total fee: 0\n",
            "**********************\n",
            "Customer Name: Bob The Builder\n",
            "Product Weight: 0\n",
            "Total fee: 0\n",
            "----------------------------\n",
            "Customer Name: Bob The Builder\n",
            "Product Weight: 15\n",
            "Total fee: 350\n",
            "**********************\n",
            "Customer Name: Dora The Explorer\n",
            "Product Weight: 10\n",
            "Total fee: 300\n"
          ]
        }
      ]
    },
    {
      "cell_type": "markdown",
      "source": [
        "# Task 9"
      ],
      "metadata": {
        "id": "5jSgdwjz4gvZ"
      }
    },
    {
      "cell_type": "code",
      "source": [
        "class Batsman:\n",
        "  def __init__(self, *args):\n",
        "    if len(args)==2:\n",
        "      self.name=\"New Batsman\"\n",
        "      self.run=args[0]\n",
        "      self.ball=args[1]\n",
        "    elif len(args)==3:\n",
        "      self.name=args[0]\n",
        "      self.run=args[1]\n",
        "      self.ball=args[2]\n",
        "  def printCareerStatistics(self):\n",
        "    print(\"Name:\", self.name)\n",
        "    print(f\"Runs Scored: {self.run} , Balls Faced: {self.ball}\")\n",
        "  def setName(self,s):\n",
        "    self.name=s\n",
        "  def battingStrikeRate(self):\n",
        "    return (self.run / self.ball)*100\n",
        "\n",
        "\n",
        "b1 = Batsman(6101, 7380)\n",
        "b1.printCareerStatistics()\n",
        "print(\"============================\")\n",
        "b2 = Batsman(\"Liton Das\", 678, 773)\n",
        "b2.printCareerStatistics()\n",
        "print(\"----------------------------\")\n",
        "print(b2.battingStrikeRate())\n",
        "print(\"============================\")\n",
        "b1.setName(\"Shakib Al Hasan\")\n",
        "b1.printCareerStatistics()\n",
        "print(\"----------------------------\")\n",
        "print(b1.battingStrikeRate())"
      ],
      "metadata": {
        "colab": {
          "base_uri": "https://localhost:8080/"
        },
        "id": "ZjKCSkf-4myV",
        "outputId": "1010b128-d1d5-4c5d-f5c1-f24d4b8247e8"
      },
      "execution_count": null,
      "outputs": [
        {
          "output_type": "stream",
          "name": "stdout",
          "text": [
            "Name: New Batsman\n",
            "Runs Scored: 6101 , Balls Faced: 7380\n",
            "============================\n",
            "Name: Liton Das\n",
            "Runs Scored: 678 , Balls Faced: 773\n",
            "----------------------------\n",
            "87.71021992238033\n",
            "============================\n",
            "Name: Shakib Al Hasan\n",
            "Runs Scored: 6101 , Balls Faced: 7380\n",
            "----------------------------\n",
            "82.66937669376694\n"
          ]
        }
      ]
    },
    {
      "cell_type": "code",
      "source": [
        "Batting strike rate (s/r) = runsScored / ballsFaced x 100."
      ],
      "metadata": {
        "id": "PLRUYyc76Qaf"
      },
      "execution_count": null,
      "outputs": []
    },
    {
      "cell_type": "code",
      "source": [
        "class Batsman:\n",
        "  def __init__(self, *args):\n",
        "    if len(args)==2:\n",
        "      self.name = \"New Batsman\"\n",
        "      self.runsScore = args[0]\n",
        "      self.ballsFaced = args[1]\n",
        "    else:\n",
        "      self.name = args[0]\n",
        "      self.runsScore = args[1]\n",
        "      self.ballsFaced = args[2]\n",
        "\n",
        "  def printCareerStatistics(self):\n",
        "    print(f\"Name: {self.name}\\nRuns Scored: {self.runsScore} , Balls Faced: {self.ballsFaced}\")\n",
        "\n",
        "  def battingStrikeRate(self):\n",
        "    return ((self.runsScore / self.ballsFaced) * 100)\n",
        "\n",
        "  def setName(self, newName):\n",
        "    self.name = newName\n",
        "\n",
        "# Name: New Batsman\n",
        "# Runs Scored: 6101 , Balls Faced: 7380\n",
        "# ============================\n",
        "# Name: Liton Das\n",
        "# Runs Scored: 678 , Balls Faced: 773\n",
        "# ----------------------------\n",
        "# 87.71021992238033\n",
        "# ============================\n",
        "# Name: Shakib Al Hasan\n",
        "# Runs Scored: 6101 , Balls Faced: 7380\n",
        "# ----------------------------\n",
        "# 82.66937669376694\n",
        "\n",
        "\n",
        "\n",
        "b1 = Batsman(6101, 7380)\n",
        "b1.printCareerStatistics()\n",
        "print(\"============================\")\n",
        "b2 = Batsman(\"Liton Das\", 678, 773)\n",
        "b2.printCareerStatistics()\n",
        "print(\"----------------------------\")\n",
        "print(b2.battingStrikeRate())\n",
        "print(\"============================\")\n",
        "b1.setName(\"Shakib Al Hasan\")\n",
        "b1.printCareerStatistics()\n",
        "print(\"----------------------------\")\n",
        "print(b1.battingStrikeRate())"
      ],
      "metadata": {
        "id": "xwluYKjR4qHt",
        "colab": {
          "base_uri": "https://localhost:8080/"
        },
        "outputId": "4304243c-99d0-405c-cf8c-78902def0ec1"
      },
      "execution_count": null,
      "outputs": [
        {
          "output_type": "stream",
          "name": "stdout",
          "text": [
            "Name: New Batsman\n",
            "Runs Scored: 6101 , Balls Faced: 7380\n",
            "============================\n",
            "Name: Liton Das\n",
            "Runs Scored: 678 , Balls Faced: 773\n",
            "----------------------------\n",
            "87.71021992238033\n",
            "============================\n",
            "Name: Shakib Al Hasan\n",
            "Runs Scored: 6101 , Balls Faced: 7380\n",
            "----------------------------\n",
            "82.66937669376694\n"
          ]
        }
      ]
    },
    {
      "cell_type": "markdown",
      "source": [
        "# Task 10"
      ],
      "metadata": {
        "id": "0N9JcaJoKxMN"
      }
    },
    {
      "cell_type": "code",
      "source": [
        "class EPL_Team:\n",
        "  def __init__(self,n=None,s=None):\n",
        "    if n!=None and s!=None:\n",
        "      self.name=n\n",
        "      self.song=s\n",
        "    elif n!=None and s==None:\n",
        "      self.name=n\n",
        "      self.song=\"No Slogan\"\n",
        "    self.title=0\n",
        "  def showClubInfo(self):\n",
        "    return (f\"Name: {self.name} \\nSong: {self.song} \\nTotal No of title: {self.title}\")\n",
        "  def increaseTitle(self):\n",
        "    self.title+=1\n",
        "  def changeSong(self, oneParameter):\n",
        "    self.song=oneParameter\n",
        "\n",
        "manu = EPL_Team('Manchester United', 'Glory Glory Man United')\n",
        "chelsea = EPL_Team('Chelsea')\n",
        "print('===================')\n",
        "print(manu.showClubInfo())\n",
        "print('##################')\n",
        "manu.increaseTitle()\n",
        "print(manu.showClubInfo())\n",
        "print('===================')\n",
        "print(chelsea.showClubInfo())\n",
        "chelsea.changeSong('Keep the blue flag flying high')\n",
        "print(chelsea.showClubInfo())"
      ],
      "metadata": {
        "colab": {
          "base_uri": "https://localhost:8080/"
        },
        "id": "Ety_k-PPK7dR",
        "outputId": "0f6b62f5-7e52-42ea-9fba-b5a88f31905c"
      },
      "execution_count": null,
      "outputs": [
        {
          "output_type": "stream",
          "name": "stdout",
          "text": [
            "===================\n",
            "Name: Manchester United \n",
            "Song: Glory Glory Man United \n",
            "Total No of title: 0\n",
            "##################\n",
            "Name: Manchester United \n",
            "Song: Glory Glory Man United \n",
            "Total No of title: 1\n",
            "===================\n",
            "Name: Chelsea \n",
            "Song: No Slogan \n",
            "Total No of title: 0\n",
            "Name: Chelsea \n",
            "Song: Keep the blue flag flying high \n",
            "Total No of title: 0\n"
          ]
        }
      ]
    },
    {
      "cell_type": "code",
      "source": [
        "class EPL_Team:\n",
        "  def __init__(self,n=None,s=\"No Slogan\"):\n",
        "    self.name = n\n",
        "    self.song = s\n",
        "    self.numberOfTitle = 0\n",
        "\n",
        "  def showClubInfo(self):\n",
        "    return (f\"Name: {self.name}\\nSong: {self.song}\\nTotal No of title: {self.numberOfTitle}\")\n",
        "\n",
        "  def increaseTitle(self):\n",
        "    self.numberOfTitle += 1\n",
        "\n",
        "  def changeSong(self, s):\n",
        "    self.song = s\n",
        "\n",
        "\n",
        "# ===================\n",
        "# Name: Manchester United\n",
        "# Song: Glory Glory Man United\n",
        "# Total No of title: 0\n",
        "# ##################\n",
        "# Name: Manchester United\n",
        "# Song: Glory Glory Man United\n",
        "# Total No of title: 1\n",
        "# ===================\n",
        "# Name: Chelsea\n",
        "# Song: No Slogan\n",
        "# Total No of title: 0\n",
        "# Name: Chelsea\n",
        "# Song: Keep the blue flag flying high\n",
        "# Total No of title: 0\n",
        "\n",
        "\n",
        "manu = EPL_Team('Manchester United', 'Glory Glory Man United')\n",
        "chelsea = EPL_Team('Chelsea')\n",
        "print('===================')\n",
        "print(manu.showClubInfo())\n",
        "print('##################')\n",
        "manu.increaseTitle()\n",
        "print(manu.showClubInfo())\n",
        "print('===================')\n",
        "print(chelsea.showClubInfo())\n",
        "chelsea.changeSong('Keep the blue flag flying high')\n",
        "print(chelsea.showClubInfo())"
      ],
      "metadata": {
        "id": "S_eXOQXIK9zE",
        "colab": {
          "base_uri": "https://localhost:8080/"
        },
        "outputId": "4aa8a60e-92e0-4735-f812-18a06d429af5"
      },
      "execution_count": null,
      "outputs": [
        {
          "output_type": "stream",
          "name": "stdout",
          "text": [
            "===================\n",
            "Name: Manchester United\n",
            "Song: Glory Glory Man United\n",
            "Total No of title: 0\n",
            "##################\n",
            "Name: Manchester United\n",
            "Song: Glory Glory Man United\n",
            "Total No of title: 1\n",
            "===================\n",
            "Name: Chelsea\n",
            "Song: No Slogan\n",
            "Total No of title: 0\n",
            "Name: Chelsea\n",
            "Song: Keep the blue flag flying high\n",
            "Total No of title: 0\n"
          ]
        }
      ]
    },
    {
      "cell_type": "markdown",
      "source": [
        "# Task 11"
      ],
      "metadata": {
        "id": "UViL1FaatJ0w"
      }
    },
    {
      "cell_type": "code",
      "source": [
        "# class Author:\n",
        "#   def __init__(self, *args):\n",
        "#     if len(args)==1:\n",
        "#       self.name=args[0]\n",
        "#       self.books=None\n",
        "#     elif len(args)==0:\n",
        "#       self.name=\"Default\"\n",
        "#       self.books=None\n",
        "#     elif len(args)==3:\n",
        "#       self.name=args[0]\n",
        "#       args=list(args)\n",
        "#       self.books=args[1:3]\n",
        "#   def addBooks(self, *book):\n",
        "#     self.books=book\n",
        "#   def printDetails(self):\n",
        "#     print(\"Author Name:\", self.name)\n",
        "#     print(\"--------\")\n",
        "#     print(\"List of Books:\")\n",
        "#     for i in self.books:\n",
        "#       print(i)\n",
        "#   def changeName(self,oneParameter):\n",
        "#     self.name=oneParameter\n",
        "\n",
        "\n",
        "# auth1 = Author('Humayun Ahmed')\n",
        "# auth1.addBooks('Deyal', 'Megher Opor Bari')\n",
        "# auth1.printDetails()\n",
        "# print(\"===================\")\n",
        "# auth2 = Author()\n",
        "# print(auth2.name)\n",
        "# auth2.changeName('Mario Puzo')\n",
        "# auth2.addBooks('The Godfather', 'Omerta', 'The Sicilian')\n",
        "# print(\"===================\")\n",
        "# auth2.printDetails()\n",
        "# print(\"===================\")\n",
        "# auth3 = Author('Paolo Coelho', 'The Alchemist', 'The Fifth Mountain')\n",
        "# auth3.printDetails()"
      ],
      "metadata": {
        "colab": {
          "base_uri": "https://localhost:8080/"
        },
        "id": "3bQfW1cVtK8G",
        "outputId": "9e6c129f-7d41-4d45-b95d-bfdf890ec14f"
      },
      "execution_count": null,
      "outputs": [
        {
          "output_type": "stream",
          "name": "stdout",
          "text": [
            "Author Name: Humayun Ahmed\n",
            "--------\n",
            "List of Books:\n",
            "Deyal\n",
            "Megher Opor Bari\n",
            "===================\n",
            "Default\n",
            "===================\n",
            "Author Name: Mario Puzo\n",
            "--------\n",
            "List of Books:\n",
            "The Godfather\n",
            "Omerta\n",
            "The Sicilian\n",
            "===================\n",
            "Author Name: Paolo Coelho\n",
            "--------\n",
            "List of Books:\n",
            "The Alchemist\n",
            "The Fifth Mountain\n"
          ]
        }
      ]
    },
    {
      "cell_type": "code",
      "source": [
        "class Author:\n",
        "  def __init__(self, *args):\n",
        "    if len(args)==0:\n",
        "      self.name = \"Default\"\n",
        "      self.bookList = []\n",
        "    elif len(args) == 1:\n",
        "      self.name = args[0]\n",
        "      self.bookList = []\n",
        "    elif len(args) > 1:\n",
        "      self.name = args[0]\n",
        "      self.bookList = args[1::]\n",
        "\n",
        "\n",
        "\n",
        "  def addBooks(self, *args):\n",
        "    self.bookList.extend(list(args))\n",
        "\n",
        "  def printDetails(self):\n",
        "    print(f\"Author Name: {self.name}\")\n",
        "    print(\"--------\")\n",
        "    print(\"List of Books:\")\n",
        "    for i in self.bookList:\n",
        "      print(i)\n",
        "\n",
        "  def changeName(self, s):\n",
        "    self.name = s\n",
        "\n",
        "# Author Name:  Humayun Ahmed\n",
        "# --------\n",
        "# List of Books:\n",
        "# Deyal\n",
        "# Megher Opor Bari\n",
        "# ===================\n",
        "# Default\n",
        "# ===================\n",
        "# Author Name:  Mario Puzo\n",
        "# --------\n",
        "# List of Books:\n",
        "# The Godfather\n",
        "# Omerta\n",
        "# The Sicilian\n",
        "# ===================\n",
        "# Author Name:  Paolo Coelho\n",
        "# --------\n",
        "# List of Books:\n",
        "# The Alchemist\n",
        "# The Fifth Mountain\n",
        "\n",
        "\n",
        "auth1 = Author('Humayun Ahmed')\n",
        "auth1.addBooks('Deyal', 'Megher Opor Bari')\n",
        "auth1.printDetails()\n",
        "print(\"===================\")\n",
        "auth2 = Author()\n",
        "print(auth2.name)\n",
        "auth2.changeName('Mario Puzo')\n",
        "auth2.addBooks('The Godfather', 'Omerta', 'The Sicilian')\n",
        "print(\"===================\")\n",
        "auth2.printDetails()\n",
        "print(\"===================\")\n",
        "auth3 = Author('Paolo Coelho', 'The Alchemist', 'The Fifth Mountain')\n",
        "auth3.printDetails()"
      ],
      "metadata": {
        "id": "bh4N3MVUtOBQ",
        "colab": {
          "base_uri": "https://localhost:8080/"
        },
        "outputId": "92b03adc-2697-4433-c3ea-6f82bc0eed63"
      },
      "execution_count": null,
      "outputs": [
        {
          "output_type": "stream",
          "name": "stdout",
          "text": [
            "Author Name: Humayun Ahmed\n",
            "--------\n",
            "List of Books:\n",
            "Deyal\n",
            "Megher Opor Bari\n",
            "===================\n",
            "Default\n",
            "===================\n",
            "Author Name: Mario Puzo\n",
            "--------\n",
            "List of Books:\n",
            "The Godfather\n",
            "Omerta\n",
            "The Sicilian\n",
            "===================\n",
            "Author Name: Paolo Coelho\n",
            "--------\n",
            "List of Books:\n",
            "The Alchemist\n",
            "The Fifth Mountain\n"
          ]
        }
      ]
    },
    {
      "cell_type": "markdown",
      "source": [
        "# Task 12"
      ],
      "metadata": {
        "id": "ryDo9vG_xZg2"
      }
    },
    {
      "cell_type": "code",
      "source": [
        "class TaxiLagbe:\n",
        "  def __init__(self, t,l):\n",
        "    self.taxiNumber=t\n",
        "    self.location=l\n",
        "    self.numberOfPassenger=0\n",
        "    self.fare=0\n",
        "    self.passengerList=\"\"\n",
        "  def addPassenger(self, *args):\n",
        "    if self.numberOfPassenger<4:\n",
        "      splitedResult=[]\n",
        "      for i in args:\n",
        "        splitedResult=i.split(\"_\")\n",
        "        print(f\"Dear {splitedResult[0]}! Welcome to TaxiLagbe.\")\n",
        "        self.passengerList=self.passengerList+splitedResult[0]+\", \"\n",
        "        self.fare+=int(splitedResult[1])\n",
        "        self.numberOfPassenger+=1\n",
        "    else:\n",
        "      print(\"Taxi Full! No more passengers can be added.\")\n",
        "  def printDetails(self):\n",
        "    print(\"Trip info for Taxi number:\",self.taxiNumber)\n",
        "    print(f\"This taxi can cover only {self.location} area.\")\n",
        "    print(\"Total passengers:\", self.numberOfPassenger)\n",
        "    print(\"Passenger lists:\")\n",
        "    print(self.passengerList[:-2])\n",
        "    print(f\"Total collected fare: {self.fare} Taka\")\n",
        "\n",
        "taxi1 = TaxiLagbe('1010-01', 'Dhaka')\n",
        "print('-------------------------------')\n",
        "taxi1.addPassenger('Walker_100', 'Wood_200')\n",
        "taxi1.addPassenger('Matt_100')\n",
        "taxi1.addPassenger('Wilson_105')\n",
        "print('-------------------------------')\n",
        "taxi1.printDetails()\n",
        "print('-------------------------------')\n",
        "taxi1.addPassenger('Karen_200')\n",
        "print('-------------------------------')\n",
        "taxi1.printDetails()\n",
        "print('-------------------------------')\n",
        "taxi2 = TaxiLagbe('1010-02', 'Khulna')\n",
        "taxi2.addPassenger('Ronald_115')\n",
        "taxi2.addPassenger('Parker_215')\n",
        "print('-------------------------------')\n",
        "taxi2.printDetails()"
      ],
      "metadata": {
        "id": "xQ865yYRxcVV",
        "colab": {
          "base_uri": "https://localhost:8080/"
        },
        "outputId": "aac6c879-34a6-4a09-b3f6-1092b303d75d"
      },
      "execution_count": null,
      "outputs": [
        {
          "output_type": "stream",
          "name": "stdout",
          "text": [
            "-------------------------------\n",
            "Dear Walker! Welcome to TaxiLagbe.\n",
            "Dear Wood! Welcome to TaxiLagbe.\n",
            "Dear Matt! Welcome to TaxiLagbe.\n",
            "Dear Wilson! Welcome to TaxiLagbe.\n",
            "-------------------------------\n",
            "Trip info for Taxi number: 1010-01\n",
            "This taxi can cover only Dhaka area.\n",
            "Total passengers: 4\n",
            "Passenger lists:\n",
            "Walker, Wood, Matt, Wilson\n",
            "Total collected fare: 505 Taka\n",
            "-------------------------------\n",
            "Taxi Full! No more passengers can be added.\n",
            "-------------------------------\n",
            "Trip info for Taxi number: 1010-01\n",
            "This taxi can cover only Dhaka area.\n",
            "Total passengers: 4\n",
            "Passenger lists:\n",
            "Walker, Wood, Matt, Wilson\n",
            "Total collected fare: 505 Taka\n",
            "-------------------------------\n",
            "Dear Ronald! Welcome to TaxiLagbe.\n",
            "Dear Parker! Welcome to TaxiLagbe.\n",
            "-------------------------------\n",
            "Trip info for Taxi number: 1010-02\n",
            "This taxi can cover only Khulna area.\n",
            "Total passengers: 2\n",
            "Passenger lists:\n",
            "Ronald, Parker\n",
            "Total collected fare: 330 Taka\n"
          ]
        }
      ]
    },
    {
      "cell_type": "code",
      "source": [
        "--------------------------------------\n",
        "Dear Walker! Welcome to TaxiLagbe.\n",
        "Dear Wood! Welcome to TaxiLagbe.\n",
        "Dear Matt! Welcome to TaxiLagbe.\n",
        "Dear Wilson! Welcome to TaxiLagbe.\n",
        "--------------------------------------\n",
        "Trip info for Taxi number: 1010-01\n",
        "This taxi can cover only Dhaka area.\n",
        "Total passengers: 4\n",
        "Passenger lists:\n",
        "Walker, Wood, Matt, Wilson\n",
        "Total collected fare: 505 Taka\n",
        "--------------------------------------\n",
        "Taxi Full! No more passengers can be added.\n",
        "--------------------------------------\n",
        "Trip info for Taxi number: 1010-01\n",
        "This taxi can cover only Dhaka area.\n",
        "Total passengers: 4\n",
        "Passenger lists:\n",
        "Walker, Wood, Matt, Wilson\n",
        "Total collected fare: 505 Taka\n",
        "--------------------------------------\n",
        "Dear Ronald! Welcome to TaxiLagbe.\n",
        "Dear Parker! Welcome to TaxiLagbe.\n",
        "--------------------------------------\n",
        "Trip info for Taxi number: 1010-02\n",
        "This taxi can cover only Khulna area.\n",
        "Total passengers: 2\n",
        "Passenger lists:\n",
        "Ronald, Parker\n",
        "Total collected fare: 330 Taka"
      ],
      "metadata": {
        "id": "4032drqHxftu"
      },
      "execution_count": null,
      "outputs": []
    },
    {
      "cell_type": "markdown",
      "source": [
        "# Task 13"
      ],
      "metadata": {
        "id": "hL6jimi8pUIC"
      }
    },
    {
      "cell_type": "code",
      "source": [
        "class Account:\n",
        "  def __init__(self, name=\"Default Account\", balance=0.0):\n",
        "    self.name=name\n",
        "    self.balance=balance\n",
        "  def details(self):\n",
        "    return (f\"{self.name} \\n{float(self.balance)}\")\n",
        "  def withdraw(self,withdraw):\n",
        "    amount=self.balance-withdraw\n",
        "    if amount<=3070:\n",
        "      print(\"Sorry, Withdraw unsuccessful! The account balance after deducting withdraw amount is equal to or less than minimum.\")\n",
        "    else:\n",
        "      print(f\"Withdraw successful! New balance is: {amount}\")\n",
        "a1 = Account()\n",
        "print(a1.details())\n",
        "print(\"------------------------\")\n",
        "a1.name = \"Oliver\"\n",
        "a1.balance = 10000.0\n",
        "print(a1.details())\n",
        "print(\"------------------------\")\n",
        "a2 = Account(\"Liam\")\n",
        "print(a2.details())\n",
        "print(\"------------------------\")\n",
        "a3 = Account(\"Noah\",400)\n",
        "print(a3.details())\n",
        "print(\"------------------------\")\n",
        "a1.withdraw(6930)\n",
        "print(\"------------------------\")\n",
        "a2.withdraw(600)\n",
        "print(\"------------------------\")\n",
        "a1.withdraw(6929)"
      ],
      "metadata": {
        "colab": {
          "base_uri": "https://localhost:8080/"
        },
        "id": "Wgx5K5PzpWga",
        "outputId": "13fa2ac1-6b25-4c4b-b839-2d9c79b3a652"
      },
      "execution_count": null,
      "outputs": [
        {
          "output_type": "stream",
          "name": "stdout",
          "text": [
            "Default Account \n",
            "0.0\n",
            "------------------------\n",
            "Oliver \n",
            "10000.0\n",
            "------------------------\n",
            "Liam \n",
            "0.0\n",
            "------------------------\n",
            "Noah \n",
            "400.0\n",
            "------------------------\n",
            "Sorry, Withdraw unsuccessful! The account balance after deducting withdraw amount is equal to or less than minimum.\n",
            "------------------------\n",
            "Sorry, Withdraw unsuccessful! The account balance after deducting withdraw amount is equal to or less than minimum.\n",
            "------------------------\n",
            "Withdraw successful! New balance is: 3071.0\n"
          ]
        }
      ]
    },
    {
      "cell_type": "markdown",
      "source": [
        "# Task 14"
      ],
      "metadata": {
        "id": "MATxvIb4wRbA"
      }
    },
    {
      "cell_type": "code",
      "source": [
        "class StudentDatabase:\n",
        "  def __init__(self, name, id):\n",
        "    self.name=name\n",
        "    self.id=int(id)\n",
        "    self.grades={}\n",
        "    self.credit=3\n",
        "  def calculateGPA(self, courseResult, deadline):\n",
        "    courseList=[]\n",
        "    cgpa=0\n",
        "    for i in courseResult:\n",
        "      l=i.split(\": \")\n",
        "      courseList.append(l[0])\n",
        "      cgpa+=float(l[1])\n",
        "    cgpa=(cgpa*self.credit)/(len(courseList)*self.credit)\n",
        "    tempDictionary={}\n",
        "    cgpa=\"%.2f\" % cgpa\n",
        "    tempDictionary[tuple(courseList)]=cgpa\n",
        "    self.grades[deadline]=tempDictionary\n",
        "  def printDetails(self):\n",
        "    print(\"Name:\", self.name)\n",
        "    print(\"ID:\", self.id)\n",
        "    for i in self.grades:\n",
        "      print(f\"Courses taken in {i}:\")\n",
        "      for k,v in self.grades[i].items():\n",
        "        for item in k:\n",
        "          print(item)\n",
        "      print(\"GPA\",v)\n",
        "\n",
        "\n",
        "s1 = StudentDatabase('Pietro', '10101222')\n",
        "s1.calculateGPA(['CSE230: 4.0', 'CSE220: 4.0', 'MAT110: 4.0'], 'Summer2020')\n",
        "s1.calculateGPA(['CSE250: 3.7', 'CSE330: 4.0'], 'Summer2021')\n",
        "print(f'Grades for {s1.name}\\n{s1.grades}')\n",
        "print('------------------------------------------------------')\n",
        "s1.printDetails()\n",
        "s2 = StudentDatabase('Wanda', '10103332')\n",
        "s2.calculateGPA(['CSE111: 3.7', 'CSE260: 3.7', 'ENG101: 4.0'], 'Summer2022')\n",
        "print('------------------------------------------------------')\n",
        "print(f'Grades for {s2.name}\\n{s2.grades}')\n",
        "print('------------------------------------------------------')\n",
        "s2.printDetails()"
      ],
      "metadata": {
        "colab": {
          "base_uri": "https://localhost:8080/"
        },
        "id": "IYBq7eMJu9OA",
        "outputId": "74a2a211-39a8-4362-f8ef-262e5ed713ae"
      },
      "execution_count": null,
      "outputs": [
        {
          "output_type": "stream",
          "name": "stdout",
          "text": [
            "Grades for Pietro\n",
            "{'Summer2020': {('CSE230', 'CSE220', 'MAT110'): '4.00'}, 'Summer2021': {('CSE250', 'CSE330'): '3.85'}}\n",
            "------------------------------------------------------\n",
            "Name: Pietro\n",
            "ID: 10101222\n",
            "Courses taken in Summer2020:\n",
            "CSE230\n",
            "CSE220\n",
            "MAT110\n",
            "GPA 4.00\n",
            "Courses taken in Summer2021:\n",
            "CSE250\n",
            "CSE330\n",
            "GPA 3.85\n",
            "------------------------------------------------------\n",
            "Grades for Wanda\n",
            "{'Summer2022': {('CSE111', 'CSE260', 'ENG101'): '3.80'}}\n",
            "------------------------------------------------------\n",
            "Name: Wanda\n",
            "ID: 10103332\n",
            "Courses taken in Summer2022:\n",
            "CSE111\n",
            "CSE260\n",
            "ENG101\n",
            "GPA 3.80\n"
          ]
        }
      ]
    },
    {
      "cell_type": "markdown",
      "source": [
        "# Task 15"
      ],
      "metadata": {
        "id": "WYsD_qeda6yc"
      }
    },
    {
      "cell_type": "code",
      "source": [
        "class FinalT6A:\n",
        "  def __init__(self, x, p):\n",
        "    self.temp, self.sum, self.y = 4, 0, 1\n",
        "    self.temp += 1\n",
        "    self.y = self.temp - p\n",
        "    self.sum = self.temp + x\n",
        "    print(x, self.y, self.sum)\n",
        "  def methodA(self):\n",
        "    x = 0\n",
        "    y = 0\n",
        "    y = y + self.y\n",
        "    x = self.y + 2 + self.temp\n",
        "    self.sum = x + y + self.methodB(self.temp, y)\n",
        "    print(x, y, self.sum)\n",
        "  def methodB(self, temp, n):\n",
        "    x = 0\n",
        "    temp += 1\n",
        "    self.y = self.y + temp\n",
        "    x = x + 3 + n\n",
        "    self.sum = self.sum + x + self.y\n",
        "    print(x, self.y, self.sum)\n",
        "    return self.sum\n",
        "\n",
        "q1 = FinalT6A(2,1)\n",
        "q1.methodA()\n",
        "q1.methodA()\n",
        "pass"
      ],
      "metadata": {
        "id": "_qORQ6wH6edh",
        "colab": {
          "base_uri": "https://localhost:8080/"
        },
        "outputId": "2bfb6ada-acab-4d53-ba12-d1cf9a36d62c"
      },
      "execution_count": null,
      "outputs": [
        {
          "output_type": "stream",
          "name": "stdout",
          "text": [
            "2 4 7\n",
            "7 10 24\n",
            "11 4 39\n",
            "13 16 68\n",
            "17 10 95\n"
          ]
        }
      ]
    },
    {
      "cell_type": "markdown",
      "source": [
        "# Task 16"
      ],
      "metadata": {
        "id": "HqrmDiiHbLHR"
      }
    },
    {
      "cell_type": "code",
      "source": [
        "class Quiz3A:\n",
        "  def __init__(self, k = None):\n",
        "    self.temp, self.sum, self.y = 4, 0, 0\n",
        "    if k != None:\n",
        "      self.temp += 1\n",
        "      self.temp = self.temp\n",
        "      self.sum = self.temp + k\n",
        "      self.y = self.sum - 1\n",
        "    else:\n",
        "      self.y = self.temp - 1\n",
        "      self.sum = self.temp + 1\n",
        "      self.temp += 2\n",
        "  def methodB(self, m, n):\n",
        "    x = 0\n",
        "    self.temp += 1\n",
        "    self.y = self.y + m + (self.temp)\n",
        "    x = x + 2 + n\n",
        "    self.sum = self.sum + x + self.y\n",
        "    print(x, self.y, self.sum)\n",
        "    return self.sum\n",
        "\n",
        "a1 = Quiz3A()\n",
        "a1.methodB(1,2)\n",
        "a2 = Quiz3A(3)\n",
        "a2.methodB(2,4)\n",
        "a1.methodB(2,1)\n",
        "a2.methodB(1,3)\n",
        "pass"
      ],
      "metadata": {
        "colab": {
          "base_uri": "https://localhost:8080/"
        },
        "id": "OQgnO5E3bNcF",
        "outputId": "596e2f2d-1a00-4a2a-d1b4-e93dea173647"
      },
      "execution_count": null,
      "outputs": [
        {
          "output_type": "stream",
          "name": "stdout",
          "text": [
            "4 11 20\n",
            "6 15 29\n",
            "3 21 44\n",
            "5 23 57\n"
          ]
        }
      ]
    },
    {
      "cell_type": "markdown",
      "source": [
        "# Task 17"
      ],
      "metadata": {
        "id": "ZU1uy9ixbkD-"
      }
    },
    {
      "cell_type": "code",
      "source": [
        "class Test5:\n",
        "  def __init__(self):\n",
        "    self.sum = 0\n",
        "    self.y = 0\n",
        "  def methodA(self):\n",
        "    x=y=k=0\n",
        "    msg = [5]\n",
        "    while (k < 2):\n",
        "      y += msg[0]\n",
        "      x = y + self.methodB(msg, k)\n",
        "      self.sum = x + y + msg[0]\n",
        "      print(x ,\" \" , y, \" \" , self.sum)\n",
        "      k+=1\n",
        "  def methodB(self, mg2, mg1):\n",
        "    x = 0\n",
        "    self.y += mg2[0]\n",
        "    x = x + 3 + mg1\n",
        "    self.sum += x + self.y\n",
        "    mg2[0] = self.y + mg1\n",
        "    mg1 += x + 2\n",
        "    print(x , \" \" ,self.y, \" \" , self.sum)\n",
        "    return mg1\n",
        "\n",
        "t1 = Test5()\n",
        "t1.methodA()\n",
        "t1.methodA()\n",
        "t1.methodA()\n",
        "pass"
      ],
      "metadata": {
        "colab": {
          "base_uri": "https://localhost:8080/"
        },
        "id": "nij_rmWqbekw",
        "outputId": "096879e2-e90e-4773-a8ec-75b23b2659eb"
      },
      "execution_count": null,
      "outputs": [
        {
          "output_type": "stream",
          "name": "stdout",
          "text": [
            "3   5   8\n",
            "10   5   20\n",
            "4   10   34\n",
            "17   10   38\n",
            "3   15   56\n",
            "10   5   30\n",
            "4   30   64\n",
            "27   20   78\n",
            "3   35   116\n",
            "10   5   50\n",
            "4   70   124\n",
            "47   40   158\n"
          ]
        }
      ]
    },
    {
      "cell_type": "markdown",
      "source": [
        "# Task 18"
      ],
      "metadata": {
        "id": "Lv_ertsYb71z"
      }
    },
    {
      "cell_type": "code",
      "source": [
        "class Test4:\n",
        "  def __init__(self):\n",
        "    self.sum, self.y = 0, 0\n",
        "  def methodA(self):\n",
        "    x, y = 0, 0\n",
        "    msg = [0]\n",
        "    msg[0] = 5\n",
        "    y = y + self.methodB(msg[0])\n",
        "    x = y + self.methodB(msg, msg[0])\n",
        "    self.sum = x + y + msg[0]\n",
        "    print(x, y, self.sum)\n",
        "  def methodB(self, *args):\n",
        "    if len(args) == 1:\n",
        "      mg1 = args[0]\n",
        "      x, y = 0, 0\n",
        "      y = y + mg1\n",
        "      x = x + 33 + mg1\n",
        "      self.sum = self.sum + x + y\n",
        "      self.y = mg1 + x + 2\n",
        "      print(x, y, self.sum)\n",
        "      return y\n",
        "    else:\n",
        "      mg2, mg1 = args\n",
        "      x = 0\n",
        "      self.y = self.y + mg2[0]\n",
        "      x = x + 33 + mg1\n",
        "      self.sum = self.sum + x + self.y\n",
        "      mg2[0] = self.y + mg1\n",
        "      mg1 = mg1 + x + 2\n",
        "      print(x, self.y, self.sum)\n",
        "      return self.sum\n",
        "\n",
        "t3 = Test4()\n",
        "t3.methodA()\n",
        "t3.methodA()\n",
        "t3.methodA()\n",
        "t3.methodA() #\n",
        "pass"
      ],
      "metadata": {
        "colab": {
          "base_uri": "https://localhost:8080/"
        },
        "id": "G1irYG9Hb510",
        "outputId": "055c8c6c-0696-4859-ade2-eccf2b6e76fb"
      },
      "execution_count": null,
      "outputs": [
        {
          "output_type": "stream",
          "name": "stdout",
          "text": [
            "38 5 43\n",
            "38 50 131\n",
            "136 5 196\n",
            "38 5 239\n",
            "38 50 327\n",
            "332 5 392\n",
            "38 5 435\n",
            "38 50 523\n",
            "528 5 588\n",
            "38 5 631\n",
            "38 50 719\n",
            "724 5 784\n"
          ]
        }
      ]
    },
    {
      "cell_type": "markdown",
      "source": [
        "# Task 19"
      ],
      "metadata": {
        "id": "2zd2vkJhcb_A"
      }
    },
    {
      "cell_type": "code",
      "source": [
        "class msgClass:\n",
        "  def __init__(self):\n",
        "    self.content = 0\n",
        "class Q5:\n",
        "  def __init__(self):\n",
        "    self.sum = 1\n",
        "    self.x = 2\n",
        "    self.y = 3\n",
        "  def methodA(self):\n",
        "    x, y = 1, 1\n",
        "    msg = []\n",
        "    myMsg = msgClass()\n",
        "    myMsg.content = self.x\n",
        "    msg.append(myMsg)\n",
        "    msg[0].content = self.y + myMsg.content\n",
        "    self.y = self.y + self.methodB(msg[0])\n",
        "    y = self.methodB(msg[0]) + self.y\n",
        "    x = y + self.methodB(msg[0], msg)\n",
        "    self.sum = x + y + msg[0].content\n",
        "    print(x,\" \", y,\" \", self.sum)\n",
        "  def methodB(self, mg1, mg2 = None):\n",
        "    if mg2 == None:\n",
        "      x, y = 5, 6\n",
        "      y = self.sum + mg1.content\n",
        "      self.y = y + mg1.content\n",
        "      x = self.x + 7 +mg1.content\n",
        "      self.sum = self.sum + x + y\n",
        "      self.x = mg1.content + x +8\n",
        "\n",
        "      print(x, \" \", y,\" \", self.sum)\n",
        "      return y\n",
        "    else:\n",
        "      x = 1\n",
        "      self.y += mg2[0].content\n",
        "      mg2[0].content = self.y + mg1.content\n",
        "      x = x + 4 + mg1.content\n",
        "      self.sum += x + self.y\n",
        "      mg1.content = self.sum - mg2[0].content\n",
        "      print(self.x, \" \",self.y,\" \", self.sum)\n",
        "      return self.sum\n",
        "\n",
        "q = Q5()\n",
        "q.methodA()\n",
        "pass"
      ],
      "metadata": {
        "colab": {
          "base_uri": "https://localhost:8080/"
        },
        "id": "ol4JC1OMcdRD",
        "outputId": "e83ad3fc-ebd0-478d-c161-8a6f2f196f23"
      },
      "execution_count": null,
      "outputs": [
        {
          "output_type": "stream",
          "name": "stdout",
          "text": [
            "14   6   21\n",
            "39   26   86\n",
            "52   36   168\n",
            "225   57   409\n"
          ]
        }
      ]
    },
    {
      "cell_type": "markdown",
      "source": [
        "---\n",
        "---\n",
        "# Practice Task (20 - 25) Ungraded\n",
        "---\n",
        "---"
      ],
      "metadata": {
        "id": "rmn1Z3m6dC13"
      }
    },
    {
      "cell_type": "markdown",
      "source": [
        "# Task 20"
      ],
      "metadata": {
        "id": "CHgWnlnDdQFu"
      }
    },
    {
      "cell_type": "code",
      "source": [
        "class Student:\n",
        "  def __init__(self,*item):\n",
        "    if len(item)==0:\n",
        "      self.name=None\n",
        "      self.departments=None\n",
        "      print(\"Student name and department need to be set\")\n",
        "      self.course=None\n",
        "      self.numOfCourses=0\n",
        "    elif len(item)==1:\n",
        "      self.name=item[0]\n",
        "      self.departments=None\n",
        "      print(f\"Department for {self.name} needs to be set\")\n",
        "      self.course=None\n",
        "      self.numOfCourses=0\n",
        "    elif len(item)==2:\n",
        "      self.name=item[0]\n",
        "      self.departments=item[1]\n",
        "      print(f\"{self.name} is from EEE {self.departments}\")\n",
        "      self.course=None\n",
        "      self.numOfCourses=0\n",
        "\n",
        "  def update_name(self,n):\n",
        "    self.name=n\n",
        "\n",
        "  def update_department(self,d):\n",
        "    self.departments=d\n",
        "\n",
        "  def enroll(self,*courses):\n",
        "    s=\"\"\n",
        "    for i in courses:\n",
        "      if i!=courses[-1]:\n",
        "        s=s+i+\", \"\n",
        "      else:\n",
        "        s=s+i\n",
        "    self.course=s\n",
        "    self.numOfCourses=len(courses)\n",
        "\n",
        "  def printDetail(self):\n",
        "    print(f\"Name: {self.name}\")\n",
        "    print(f\"Department: {self.departments}\")\n",
        "    print(f\"{self.name} enrolled in {self.numOfCourses} course(s):\")\n",
        "    print(self.course)\n",
        "\n",
        "s1 = Student()\n",
        "print(\"=========================\")\n",
        "s2 = Student(\"Carol\")\n",
        "print(\"=========================\")\n",
        "s3 = Student(\"Jon\", \"EEE\")\n",
        "print(\"=========================\")\n",
        "s1.update_name(\"Bob\")\n",
        "s1.update_department(\"CSE\")\n",
        "s2.update_department(\"BBA\")\n",
        "s1.enroll(\"CSE110\", \"MAT110\", \"ENG091\")\n",
        "s2.enroll(\"BUS101\")\n",
        "s3.enroll(\"MAT110\", \"PHY111\")\n",
        "print(\"###########################\")\n",
        "s1.printDetail()\n",
        "print(\"=========================\")\n",
        "s2.printDetail()\n",
        "print(\"=========================\")\n",
        "s3.printDetail()"
      ],
      "metadata": {
        "id": "vDbJKki_dPLM",
        "colab": {
          "base_uri": "https://localhost:8080/"
        },
        "outputId": "3fc5c27e-d4fb-4f5d-cd5b-115a9d309f7d"
      },
      "execution_count": null,
      "outputs": [
        {
          "output_type": "stream",
          "name": "stdout",
          "text": [
            "Student name and department need to be set\n",
            "=========================\n",
            "Department for Carol needs to be set\n",
            "=========================\n",
            "Jon is from EEE EEE\n",
            "=========================\n",
            "###########################\n",
            "Name: Bob\n",
            "Department: CSE\n",
            "Bob enrolled in 3 course(s):\n",
            "CSE110, MAT110, ENG091\n",
            "=========================\n",
            "Name: Carol\n",
            "Department: BBA\n",
            "Carol enrolled in 1 course(s):\n",
            "BUS101\n",
            "=========================\n",
            "Name: Jon\n",
            "Department: EEE\n",
            "Jon enrolled in 2 course(s):\n",
            "MAT110, PHY111\n"
          ]
        }
      ]
    },
    {
      "cell_type": "markdown",
      "source": [
        "# Task 21"
      ],
      "metadata": {
        "id": "sfrrasUPdVwu"
      }
    },
    {
      "cell_type": "code",
      "source": [
        "class Student:\n",
        "  def __init__(self,n,id,d):\n",
        "    self.name=n\n",
        "    self.id=int(id)\n",
        "    self.department=d\n",
        "    self.course=None\n",
        "    self.numOfCredit=0\n",
        "  def details(self):\n",
        "    return (f\"Name: {self.name}\\nID: {self.id}\\nDepartment: {self.department}\")\n",
        "  def advise(self,*courses):\n",
        "    s=\"\"\n",
        "    for i in courses:\n",
        "      if i!=courses[-1]:\n",
        "        s=s+i+\", \"\n",
        "      else:\n",
        "        s=s+i\n",
        "    self.course=s\n",
        "    self.numOfCredit=len(courses)*3.0\n",
        "\n",
        "    if len(courses)==3:\n",
        "      print(f\"{self.name}, you have taken {self.numOfCredit} credits.\")\n",
        "      print(f\"List of courses: {self.course}\")\n",
        "      print(\"Status: Ok\")\n",
        "    elif len(courses)<3:\n",
        "      print(f\"{self.name}, you have taken {self.numOfCredit} credits.\")\n",
        "      print(f\"List of courses: {self.course}\")\n",
        "      print(f\"Status: You have to take at least {3-len(courses)} more course.\")\n",
        "    elif len(courses)>4:\n",
        "      print(f\"{self.name}, you have taken {self.numOfCredit} credits.\")\n",
        "      print(f\"List of courses: {self.course}\")\n",
        "      print(f\"Status: You have to drop at least {len(courses)-4} course.\")\n",
        "\n",
        "s1 = Student(\"Alice\",\"20103012\",\"CSE\")\n",
        "s2 = Student(\"Bob\", \"18301254\",\"EEE\")\n",
        "s3 = Student(\"Carol\", \"17101238\",\"CSE\")\n",
        "print(\"##########################\")\n",
        "print(s1.details())\n",
        "print(\"##########################\")\n",
        "print(s2.details())\n",
        "print(\"##########################\")\n",
        "s1.advise(\"CSE110\", \"MAT110\", \"PHY111\")\n",
        "print(\"##########################\")\n",
        "s2.advise(\"BUS101\", \"MAT120\")\n",
        "print(\"##########################\")\n",
        "s3.advise(\"MAT110\", \"PHY111\", \"ENG102\", \"CSE111\", \"CSE230\")"
      ],
      "metadata": {
        "id": "ZMUKAz5cdZEK",
        "colab": {
          "base_uri": "https://localhost:8080/"
        },
        "outputId": "a931f975-326c-44bc-f88a-aa594183714e"
      },
      "execution_count": null,
      "outputs": [
        {
          "output_type": "stream",
          "name": "stdout",
          "text": [
            "##########################\n",
            "Name: Alice\n",
            "ID: 20103012\n",
            "Department: CSE\n",
            "##########################\n",
            "Name: Bob\n",
            "ID: 18301254\n",
            "Department: EEE\n",
            "##########################\n",
            "Alice, you have taken 9.0 credits.\n",
            "List of courses: CSE110, MAT110, PHY111\n",
            "Status: Ok\n",
            "##########################\n",
            "Bob, you have taken 6.0 credits.\n",
            "List of courses: BUS101, MAT120\n",
            "Status: You have to take at least 1 more course.\n",
            "##########################\n",
            "Carol, you have taken 15.0 credits.\n",
            "List of courses: MAT110, PHY111, ENG102, CSE111, CSE230\n",
            "Status: You have to drop at least 1 course.\n"
          ]
        }
      ]
    },
    {
      "cell_type": "markdown",
      "source": [
        "# Task 22"
      ],
      "metadata": {
        "id": "MJ3cTWV3dZg-"
      }
    },
    {
      "cell_type": "code",
      "source": [
        "class Hotel:\n",
        "  def __init__(self,i):\n",
        "    self.item=i\n",
        "    self.addStuffDict={}\n",
        "    self.addStuffID=0\n",
        "    self.addGuestDict={}\n",
        "    self.addGuestID=0\n",
        "  def addStuff(self,*items):\n",
        "    self.addStuffID += 1\n",
        "    self.addStuffDict[self.addStuffID]=items\n",
        "    print(f\"Staff With ID {self.addStuffID} is added\")\n",
        "  def getStuffById(self,id):\n",
        "    for i,l in self.addStuffDict.items():\n",
        "      if i==id:\n",
        "        if len(l)==2:\n",
        "          return (f\"Staff ID: {id}\\nName: {l[0]}\\nAge: {l[1]}\\nPhone no.: 000\")\n",
        "        else:\n",
        "          return (f\"Staff ID: {id}\\nName: {l[0]}\\nAge: {l[1]}\\nPhone no.: {l[2]}\")\n",
        "  def addGuest(self,*items):\n",
        "    self.addGuestID += 1\n",
        "    self.addGuestDict[self.addGuestID]=items\n",
        "    print(f\"Guest With ID {self.addGuestID} is created\")\n",
        "  def getGuestById(self,id):\n",
        "    for i,l in self.addGuestDict.items():\n",
        "      if i==id:\n",
        "        return (f\"Guest ID: {id}\\nName: {l[0]}\\nAge: {l[1]}\\nPhone no.: {l[2]}\")\n",
        "  def allStaffs(self):\n",
        "    print(\"All Staffs:\")\n",
        "    print(f\"Number of Staff: {self.addStuffID}\")\n",
        "    for i,l in self.addStuffDict.items():\n",
        "      if len(l)==2:\n",
        "          print(f\"Staff ID: {i} Name: {l[0]} Age: {l[1]} Phone no.: 000\")\n",
        "      else:\n",
        "          print(f\"Staff ID: {i} Name: {l[0]} Age: {l[1]} Phone no.: {l[2]}\")\n",
        "  def allGuest(self):\n",
        "    print(\"All Guest:\")\n",
        "    print(f\"Number of Guest: {self.addGuestID}\")\n",
        "    for i,l in self.addGuestDict.items():\n",
        "      print(f\"Guest ID: {i} Name: {l[0]} Age: {l[1]} Phone no.: {l[2]}\")\n",
        "\n",
        "h = Hotel(\"Lakeshore\")\n",
        "h.addStuff( \"Adam\", 26)\n",
        "print(\"=================================\")\n",
        "print(h.getStuffById(1))\n",
        "print(\"=================================\")\n",
        "h.addGuest(\"Carol\",35,\"123\")\n",
        "print(\"=================================\")\n",
        "print(h.getGuestById(1))\n",
        "print(\"=================================\")\n",
        "h.addGuest(\"Diana\", 32, \"431\")\n",
        "print(\"=================================\")\n",
        "print(h.getGuestById(2))\n",
        "print(\"=================================\")\n",
        "h.allStaffs()\n",
        "print(\"=================================\")\n",
        "h.allGuest()"
      ],
      "metadata": {
        "id": "nABEupbtdaMC",
        "colab": {
          "base_uri": "https://localhost:8080/"
        },
        "outputId": "a0cbf601-b397-4a07-b94e-6aa847ae6a92"
      },
      "execution_count": null,
      "outputs": [
        {
          "output_type": "stream",
          "name": "stdout",
          "text": [
            "Staff With ID 1 is added\n",
            "=================================\n",
            "Staff ID: 1\n",
            "Name: Adam\n",
            "Age: 26\n",
            "Phone no.: 000\n",
            "=================================\n",
            "Guest With ID 1 is created\n",
            "=================================\n",
            "Guest ID: 1\n",
            "Name: Carol\n",
            "Age: 35\n",
            "Phone no.: 123\n",
            "=================================\n",
            "Guest With ID 2 is created\n",
            "=================================\n",
            "Guest ID: 2\n",
            "Name: Diana\n",
            "Age: 32\n",
            "Phone no.: 431\n",
            "=================================\n",
            "All Staffs:\n",
            "Number of Staff: 1\n",
            "Staff ID: 1 Name: Adam Age: 26 Phone no.: 000\n",
            "=================================\n",
            "All Guest:\n",
            "Number of Guest: 2\n",
            "Guest ID: 1 Name: Carol Age: 35 Phone no.: 123\n",
            "Guest ID: 2 Name: Diana Age: 32 Phone no.: 431\n"
          ]
        }
      ]
    },
    {
      "cell_type": "markdown",
      "source": [
        "# Task 23"
      ],
      "metadata": {
        "id": "ky6J9rI-da3u"
      }
    },
    {
      "cell_type": "code",
      "source": [
        "class Author:\n",
        "  def __init__(self,w=None):\n",
        "    self.writer=w\n",
        "    self.dictionary={}\n",
        "\n",
        "  def addBook(self,*item):\n",
        "    if self.writer==None:\n",
        "      print(\"A book can not be added without author name\")\n",
        "    else:\n",
        "      bookType=item[1]\n",
        "      bookName=item[0]\n",
        "      if bookType in self.dictionary:\n",
        "        self.dictionary[bookType].append(bookName)\n",
        "      else:\n",
        "        self.dictionary[bookType]=[]\n",
        "        self.dictionary[bookType].append(bookName)\n",
        "\n",
        "  def setName(self,n):\n",
        "    self.writer=n\n",
        "\n",
        "  def printDetail(self):\n",
        "    numberOfBooks=0\n",
        "    for v in self.dictionary.values():\n",
        "      numberOfBooks=numberOfBooks+len(v)\n",
        "    print(\"Number of Book(s):\", numberOfBooks)\n",
        "    print(f\"Author Name: {self.writer}\")\n",
        "    for k,v in self.dictionary.items():\n",
        "      s=\"\"\n",
        "      for i in v:\n",
        "        s=s+i+\", \"\n",
        "      print(f\"{k}: {s[:-2]}\")\n",
        "\n",
        "a1 = Author()\n",
        "print(\"=================================\")\n",
        "a1.addBook(\"Ice\", \"Science Fiction\")\n",
        "print(\"=================================\")\n",
        "a1.setName(\"Anna Kavan\")\n",
        "a1.addBook(\"Ice\", \"Science Fiction\")\n",
        "a1.printDetail()\n",
        "print(\"=================================\")\n",
        "a2 = Author(\"Humayun Ahmed\")\n",
        "a2.addBook(\"Onnobhubon\", \"Science Fiction\")\n",
        "a2.addBook(\"Megher Upor Bari\", \"Horror\")\n",
        "print(\"=================================\")\n",
        "a2.printDetail()\n",
        "a2.addBook(\"Ireena\", \"Science Fiction\")\n",
        "print(\"=================================\")\n",
        "a2.printDetail()\n",
        "print(\"=================================\")"
      ],
      "metadata": {
        "id": "hoJDqz9Rdbgz",
        "colab": {
          "base_uri": "https://localhost:8080/"
        },
        "outputId": "f85ccbea-67d6-4df0-ecc3-c508125d19d7"
      },
      "execution_count": null,
      "outputs": [
        {
          "output_type": "stream",
          "name": "stdout",
          "text": [
            "=================================\n",
            "A book can not be added without author name\n",
            "=================================\n",
            "Number of Book(s): 1\n",
            "Author Name: Anna Kavan\n",
            "Science Fiction: Ice\n",
            "=================================\n",
            "=================================\n",
            "Number of Book(s): 2\n",
            "Author Name: Humayun Ahmed\n",
            "Science Fiction: Onnobhubon\n",
            "Horror: Megher Upor Bari\n",
            "=================================\n",
            "Number of Book(s): 3\n",
            "Author Name: Humayun Ahmed\n",
            "Science Fiction: Onnobhubon, Ireena\n",
            "Horror: Megher Upor Bari\n",
            "=================================\n"
          ]
        }
      ]
    },
    {
      "cell_type": "code",
      "source": [
        "d={1:[1,2,3],2:[1,2,3],3:[4,5,6,7],4:[0]}\n",
        "if 10 in d:\n",
        "  print(\"true\")\n",
        "else:\n",
        "  print(\"False\")"
      ],
      "metadata": {
        "colab": {
          "base_uri": "https://localhost:8080/"
        },
        "id": "0tZj2FPAwvJe",
        "outputId": "b598f4a0-a5ab-402a-b427-be06acb096ea"
      },
      "execution_count": null,
      "outputs": [
        {
          "output_type": "stream",
          "name": "stdout",
          "text": [
            "False\n"
          ]
        }
      ]
    },
    {
      "cell_type": "markdown",
      "source": [
        "# Task 24"
      ],
      "metadata": {
        "id": "P0-lQfRRdcku"
      }
    },
    {
      "cell_type": "code",
      "source": [],
      "metadata": {
        "id": "SCZ5e3lKddLH"
      },
      "execution_count": null,
      "outputs": []
    },
    {
      "cell_type": "markdown",
      "source": [
        "# Task 25"
      ],
      "metadata": {
        "id": "na7Jm0c1ddsf"
      }
    },
    {
      "cell_type": "code",
      "source": [
        "class Vaccine:\n",
        "  def __init__(self, doseName, country, day):\n",
        "    self.doseName=doseName\n",
        "    self.country=country\n",
        "    self.day=day\n",
        "\n",
        "class Person:\n",
        "  def __init__(self, name, age, typeOfStudent):\n",
        "    self.name=name\n",
        "    self.age=age\n",
        "    self.typeOfStudent=typeOfStudent\n",
        "    self.vaccineType=None\n",
        "  def pushVaccine(self, *args):\n",
        "    if self.age>=25 :\n",
        "      if len(args)==1:\n",
        "        print(f\"1st dose done for {self.name}\")\n",
        "        self.vaccineType=args[0]\n",
        "      else:\n",
        "        if self.vaccineType.doseName!=args[0]:\n",
        "          print(f\"Sorry {self.name}, you can’t take 2 different vaccines\")\n",
        "        else:\n",
        "          print(f\"Name: {self.name} Age: {self.age} Type: {self.typeOfStudent}\")\n",
        "          print(f\"Vaccine name: {self.vaccineType.doseName}\")\n",
        "          print(\"1st dose: Given\\n2nd dose: Given\")\n",
        "    elif self.age<=25 or self.typeOfStudent==\"Student\":\n",
        "      if len(args)==1:\n",
        "        print(f\"1st dose done for {self.name}\")\n",
        "      else:\n",
        "        if self.vaccineType.doseName!=args[0]:\n",
        "          print(f\"Sorry {self.name}, you can’t take 2 different vaccines\")\n",
        "        else:\n",
        "          print(f\"Name: {self.name} Age: {self.age} Type: {self.typeOfStudent}\")\n",
        "          print(f\"Vaccine name: {self.vaccineType.doseName}\")\n",
        "          print(\"1st dose: Given\\n2nd dose: Given\")\n",
        "    else:\n",
        "      print(f\"Sorry {self.name}, Minimum age for taking vaccines is 25 years now.\")\n",
        "  def showDetail(self):\n",
        "    print(f\"Name: {self.name} Age: {self.age} Type: {self.typeOfStudent}\")\n",
        "    print(f\"Vaccine name: {self.vaccineType.doseName}\")\n",
        "    print(\"1st dose: Given\\n2nd dose: Please come after 60 days\")\n",
        "\n",
        "\n",
        "\n",
        "\n",
        "\n",
        "astra = Vaccine(\"AstraZeneca\", \"UK\", 60)\n",
        "modr = Vaccine(\"Moderna\", \"UK\", 30)\n",
        "sin = Vaccine(\"Sinopharm\", \"China\", 30)\n",
        "p1 = Person(\"Bob\", 21, \"Student\")\n",
        "print(\"=================================\")\n",
        "p1.pushVaccine(astra)\n",
        "print(\"=================================\")\n",
        "p1.showDetail()\n",
        "print(\"=================================\")\n",
        "p1.pushVaccine(sin, \"2nd Dose\")\n",
        "print(\"=================================\")\n",
        "p1.pushVaccine(astra, \"2nd Dose\")\n",
        "print(\"=================================\")\n",
        "p1.showDetail()\n",
        "print(\"=================================\")\n",
        "p2 = Person(\"Carol\", 23, \"Actor\")\n",
        "print(\"=================================\")\n",
        "p2.pushVaccine(sin)\n",
        "print(\"=================================\")\n",
        "p3 = Person(\"David\", 34)\n",
        "print(\"=================================\")\n",
        "p3.pushVaccine(modr)\n",
        "print(\"=================================\")\n",
        "p3.showDetail()\n",
        "print(\"=================================\")\n",
        "p3.pushVaccine(modr, \"2nd Dose\")"
      ],
      "metadata": {
        "id": "7-s0n304deUr",
        "colab": {
          "base_uri": "https://localhost:8080/",
          "height": 425
        },
        "outputId": "21ef38f7-90b5-4a01-b4cb-dc242598623d"
      },
      "execution_count": null,
      "outputs": [
        {
          "output_type": "stream",
          "name": "stdout",
          "text": [
            "=================================\n",
            "1st dose done for Bob\n",
            "=================================\n",
            "Name: Bob Age: 21 Type: Student\n"
          ]
        },
        {
          "output_type": "error",
          "ename": "AttributeError",
          "evalue": "ignored",
          "traceback": [
            "\u001b[0;31m---------------------------------------------------------------------------\u001b[0m",
            "\u001b[0;31mAttributeError\u001b[0m                            Traceback (most recent call last)",
            "\u001b[0;32m<ipython-input-9-010998ef7ad7>\u001b[0m in \u001b[0;36m<module>\u001b[0;34m()\u001b[0m\n\u001b[1;32m     51\u001b[0m \u001b[0mp1\u001b[0m\u001b[0;34m.\u001b[0m\u001b[0mpushVaccine\u001b[0m\u001b[0;34m(\u001b[0m\u001b[0mastra\u001b[0m\u001b[0;34m)\u001b[0m\u001b[0;34m\u001b[0m\u001b[0;34m\u001b[0m\u001b[0m\n\u001b[1;32m     52\u001b[0m \u001b[0mprint\u001b[0m\u001b[0;34m(\u001b[0m\u001b[0;34m\"=================================\"\u001b[0m\u001b[0;34m)\u001b[0m\u001b[0;34m\u001b[0m\u001b[0;34m\u001b[0m\u001b[0m\n\u001b[0;32m---> 53\u001b[0;31m \u001b[0mp1\u001b[0m\u001b[0;34m.\u001b[0m\u001b[0mshowDetail\u001b[0m\u001b[0;34m(\u001b[0m\u001b[0;34m)\u001b[0m\u001b[0;34m\u001b[0m\u001b[0;34m\u001b[0m\u001b[0m\n\u001b[0m\u001b[1;32m     54\u001b[0m \u001b[0mprint\u001b[0m\u001b[0;34m(\u001b[0m\u001b[0;34m\"=================================\"\u001b[0m\u001b[0;34m)\u001b[0m\u001b[0;34m\u001b[0m\u001b[0;34m\u001b[0m\u001b[0m\n\u001b[1;32m     55\u001b[0m \u001b[0mp1\u001b[0m\u001b[0;34m.\u001b[0m\u001b[0mpushVaccine\u001b[0m\u001b[0;34m(\u001b[0m\u001b[0msin\u001b[0m\u001b[0;34m,\u001b[0m \u001b[0;34m\"2nd Dose\"\u001b[0m\u001b[0;34m)\u001b[0m\u001b[0;34m\u001b[0m\u001b[0;34m\u001b[0m\u001b[0m\n",
            "\u001b[0;32m<ipython-input-9-010998ef7ad7>\u001b[0m in \u001b[0;36mshowDetail\u001b[0;34m(self)\u001b[0m\n\u001b[1;32m     37\u001b[0m   \u001b[0;32mdef\u001b[0m \u001b[0mshowDetail\u001b[0m\u001b[0;34m(\u001b[0m\u001b[0mself\u001b[0m\u001b[0;34m)\u001b[0m\u001b[0;34m:\u001b[0m\u001b[0;34m\u001b[0m\u001b[0;34m\u001b[0m\u001b[0m\n\u001b[1;32m     38\u001b[0m     \u001b[0mprint\u001b[0m\u001b[0;34m(\u001b[0m\u001b[0;34mf\"Name: {self.name} Age: {self.age} Type: {self.typeOfStudent}\"\u001b[0m\u001b[0;34m)\u001b[0m\u001b[0;34m\u001b[0m\u001b[0;34m\u001b[0m\u001b[0m\n\u001b[0;32m---> 39\u001b[0;31m     \u001b[0mprint\u001b[0m\u001b[0;34m(\u001b[0m\u001b[0;34mf\"Vaccine name: {self.vaccineType.doseName}\"\u001b[0m\u001b[0;34m)\u001b[0m\u001b[0;34m\u001b[0m\u001b[0;34m\u001b[0m\u001b[0m\n\u001b[0m\u001b[1;32m     40\u001b[0m     \u001b[0mprint\u001b[0m\u001b[0;34m(\u001b[0m\u001b[0;34m\"1st dose: Given\\n2nd dose: Please come after 60 days\"\u001b[0m\u001b[0;34m)\u001b[0m\u001b[0;34m\u001b[0m\u001b[0;34m\u001b[0m\u001b[0m\n\u001b[1;32m     41\u001b[0m \u001b[0;34m\u001b[0m\u001b[0m\n",
            "\u001b[0;31mAttributeError\u001b[0m: 'NoneType' object has no attribute 'doseName'"
          ]
        }
      ]
    }
  ]
}