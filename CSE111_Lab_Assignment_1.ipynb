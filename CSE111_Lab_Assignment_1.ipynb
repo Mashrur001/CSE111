{
  "nbformat": 4,
  "nbformat_minor": 0,
  "metadata": {
    "colab": {
      "provenance": [],
      "include_colab_link": true
    },
    "kernelspec": {
      "name": "python3",
      "display_name": "Python 3"
    },
    "language_info": {
      "name": "python"
    }
  },
  "cells": [
    {
      "cell_type": "markdown",
      "metadata": {
        "id": "view-in-github",
        "colab_type": "text"
      },
      "source": [
        "<a href=\"https://colab.research.google.com/github/Mashrur001/CSE111/blob/main/CSE111_Lab_Assignment_1.ipynb\" target=\"_parent\"><img src=\"https://colab.research.google.com/assets/colab-badge.svg\" alt=\"Open In Colab\"/></a>"
      ]
    },
    {
      "cell_type": "markdown",
      "source": [
        "# String"
      ],
      "metadata": {
        "id": "C07FdyKh6QND"
      }
    },
    {
      "cell_type": "markdown",
      "source": [
        "## Task 1"
      ],
      "metadata": {
        "id": "2T3t5McD6KtE"
      }
    },
    {
      "cell_type": "code",
      "execution_count": null,
      "metadata": {
        "colab": {
          "base_uri": "https://localhost:8080/"
        },
        "id": "66fvuTb85oPy",
        "outputId": "1e0ebeac-275d-4c4d-9b29-321849d8af2b"
      },
      "outputs": [
        {
          "output_type": "stream",
          "name": "stdout",
          "text": [
            "Enter Input: BaNaNa\n",
            "banana\n"
          ]
        }
      ],
      "source": [
        "user_input=input(\"Enter Input: \")\n",
        "\n",
        "lowerCount=0\n",
        "upperCount=0\n",
        "for i in user_input:\n",
        "  if \"a\" <= i <= \"z\":\n",
        "    lowerCount += 1\n",
        "  elif \"A\" <= i <=\"Z\":\n",
        "    upperCount += 1\n",
        "\n",
        "\n",
        "if lowerCount >= upperCount:\n",
        "  print(user_input.lower())\n",
        "else:\n",
        "  print(user_input.upper())"
      ]
    },
    {
      "cell_type": "code",
      "source": [
        "a=\"rAfi\"\n",
        "print(a.lower())"
      ],
      "metadata": {
        "colab": {
          "base_uri": "https://localhost:8080/"
        },
        "id": "lVdeBzNVJAgW",
        "outputId": "7326b8ed-12bf-4796-cbb5-6677a92ee268"
      },
      "execution_count": null,
      "outputs": [
        {
          "output_type": "stream",
          "name": "stdout",
          "text": [
            "rafi\n"
          ]
        }
      ]
    },
    {
      "cell_type": "code",
      "source": [
        "inpu=input()\n",
        "lower=0\n",
        "upperCase=0\n",
        "for i in inpu:   # BaNaNa\n",
        "  if \"a\"<=i<=\"z\":\n",
        "    lower+=1\n",
        "  elif \"A\"<=i<=\"Z\":\n",
        "    upperCase+=1\n",
        "\n",
        "if upperCase > lower:\n",
        "  print(inpu.upper())\n",
        "elif upperCase <= lower:\n",
        "  print(inpu.lower())"
      ],
      "metadata": {
        "colab": {
          "base_uri": "https://localhost:8080/"
        },
        "id": "toFVDFG8ILb2",
        "outputId": "f259115b-f780-41cb-e79f-553c52134e1c"
      },
      "execution_count": null,
      "outputs": [
        {
          "output_type": "stream",
          "name": "stdout",
          "text": [
            "MUSfiQ\n",
            "MUSFIQ\n"
          ]
        }
      ]
    },
    {
      "cell_type": "code",
      "source": [
        "ord(\"A\")"
      ],
      "metadata": {
        "colab": {
          "base_uri": "https://localhost:8080/"
        },
        "id": "ilZh_pce6uiz",
        "outputId": "5e2c7085-4cc3-4864-8f4f-2b2bbc520129"
      },
      "execution_count": null,
      "outputs": [
        {
          "output_type": "execute_result",
          "data": {
            "text/plain": [
              "65"
            ]
          },
          "metadata": {},
          "execution_count": 1
        }
      ]
    },
    {
      "cell_type": "code",
      "source": [
        "chr(\"A\")"
      ],
      "metadata": {
        "colab": {
          "base_uri": "https://localhost:8080/",
          "height": 165
        },
        "id": "9RoRfZyH6v3y",
        "outputId": "3ee3a929-3035-41d1-d2b8-0ddd1f49a362"
      },
      "execution_count": null,
      "outputs": [
        {
          "output_type": "error",
          "ename": "TypeError",
          "evalue": "ignored",
          "traceback": [
            "\u001b[0;31m---------------------------------------------------------------------------\u001b[0m",
            "\u001b[0;31mTypeError\u001b[0m                                 Traceback (most recent call last)",
            "\u001b[0;32m<ipython-input-2-55562c7d81ed>\u001b[0m in \u001b[0;36m<module>\u001b[0;34m()\u001b[0m\n\u001b[0;32m----> 1\u001b[0;31m \u001b[0mchr\u001b[0m\u001b[0;34m(\u001b[0m\u001b[0;34m\"A\"\u001b[0m\u001b[0;34m)\u001b[0m\u001b[0;34m\u001b[0m\u001b[0;34m\u001b[0m\u001b[0m\n\u001b[0m",
            "\u001b[0;31mTypeError\u001b[0m: an integer is required (got type str)"
          ]
        }
      ]
    },
    {
      "cell_type": "markdown",
      "source": [
        "## Task 2"
      ],
      "metadata": {
        "id": "pR4efoP_79b7"
      }
    },
    {
      "cell_type": "code",
      "source": [
        "user_input=input(\"Enter input: \")\n",
        "\n",
        "l=[]\n",
        "for i in user_input:\n",
        "  if \"0\" <= i <= \"9\":\n",
        "    l.append(\"Digit\")\n",
        "  elif (\"a\" <= i <= \"z\") or (\"A\" <= i <= \"Z\"):\n",
        "    l.append(\"Word\")\n",
        "\n",
        "if len(l)==(l.count(\"Word\")) and l[0]==\"Word\":\n",
        "  print(\"WORD\")\n",
        "elif len(l)==(l.count(\"Digit\")) and l[0]==\"Digit\":\n",
        "  print(\"NUMBER\")\n",
        "elif len(l)!=(l.count(\"Digit\")):\n",
        "  print(\"MIXED\")"
      ],
      "metadata": {
        "colab": {
          "base_uri": "https://localhost:8080/"
        },
        "id": "1jn_UI7I6xPz",
        "outputId": "3fd4910b-e5d5-4e46-86e8-b3f108b1eadb"
      },
      "execution_count": null,
      "outputs": [
        {
          "output_type": "stream",
          "name": "stdout",
          "text": [
            "Enter input: 13234\n",
            "NUMBER\n"
          ]
        }
      ]
    },
    {
      "cell_type": "code",
      "source": [
        "userInput=input()\n",
        "\n",
        "num=False\n",
        "word=False\n",
        "for i in userInput:    # 2145sadkjfh\n",
        "  if \"a\"<=i<=\"z\" or \"A\"<=i<=\"Z\":\n",
        "    word=True\n",
        "  elif \"0\" <= i <= \"9\":\n",
        "    num=True\n",
        "\n",
        "if num==True and word == True:\n",
        "  print(\"MIXED\")\n",
        "elif num==True and word == False:\n",
        "  print(\"NUMBER\")\n",
        "elif num==False and word == True:\n",
        "  print(\"WORD\")"
      ],
      "metadata": {
        "colab": {
          "base_uri": "https://localhost:8080/"
        },
        "id": "TYr2b-rPKBfC",
        "outputId": "62d92163-78f2-429d-d2b0-5d31a4819c80"
      },
      "execution_count": null,
      "outputs": [
        {
          "output_type": "stream",
          "name": "stdout",
          "text": [
            "tyjytjytj565\n",
            "MIXED\n"
          ]
        }
      ]
    },
    {
      "cell_type": "code",
      "source": [
        "l=[]\n",
        "l.append(\"dsakfbjka,b\")"
      ],
      "metadata": {
        "id": "lpBH-bshz5_X"
      },
      "execution_count": null,
      "outputs": []
    },
    {
      "cell_type": "code",
      "source": [
        "user_input=input()\n",
        "\n",
        "num=False\n",
        "word=False\n",
        "\n",
        "for i in user_input:\n",
        "  if \"a\"<=i<=\"z\" or \"A\"<=i<=\"Z\":\n",
        "    word=True\n",
        "  elif 0<=int(i)<=9:\n",
        "    num=True\n",
        "\n",
        "if num==True and word==True:\n",
        "  print(\"MIXED\")\n",
        "elif num==True:\n",
        "  print(\"NUMBER\")\n",
        "elif word==True:\n",
        "  print(\"WORD\")"
      ],
      "metadata": {
        "colab": {
          "base_uri": "https://localhost:8080/"
        },
        "id": "5ulYD5xMovaN",
        "outputId": "7d10da64-d3c3-4759-b296-1554b01f04ad"
      },
      "execution_count": null,
      "outputs": [
        {
          "output_type": "stream",
          "name": "stdout",
          "text": [
            "fasdfa\n",
            "WORD\n"
          ]
        }
      ]
    },
    {
      "cell_type": "code",
      "source": [
        "user_input=input(\"Enter input: \")\n",
        "\n",
        "for i in user_input:\n",
        "  if \"0\" <= i <= \"9\":\n",
        "    print(i)"
      ],
      "metadata": {
        "colab": {
          "base_uri": "https://localhost:8080/"
        },
        "id": "IZ0aOg1l8KeR",
        "outputId": "dcd2ed44-9d8a-4f66-a019-34bcf3019896"
      },
      "execution_count": null,
      "outputs": [
        {
          "output_type": "stream",
          "name": "stdout",
          "text": [
            "Enter input: Rafi45\n",
            "4\n",
            "5\n"
          ]
        }
      ]
    },
    {
      "cell_type": "code",
      "source": [
        "l=[1,2,3,1,1]\n",
        "print(l.count(3))"
      ],
      "metadata": {
        "colab": {
          "base_uri": "https://localhost:8080/"
        },
        "id": "9oCHR2oX9BkQ",
        "outputId": "0107e0fa-f8b1-49e3-baaa-c5e5c4a410c6"
      },
      "execution_count": null,
      "outputs": [
        {
          "output_type": "stream",
          "name": "stdout",
          "text": [
            "1\n"
          ]
        }
      ]
    },
    {
      "cell_type": "markdown",
      "source": [
        "## Task 3"
      ],
      "metadata": {
        "id": "8bFeXSU4Bf5O"
      }
    },
    {
      "cell_type": "code",
      "source": [
        "user_input=input(\"Enter Input: \")\n",
        "\n",
        "for i in user_input:\n",
        "  if \"A\" <= i <= \"Z\":\n",
        "    start=user_input.find(i)\n",
        "    break\n",
        "\n",
        "user_input=user_input[::-1]\n",
        "for i in user_input:\n",
        "  if \"A\" <= i <= \"Z\":\n",
        "    end=user_input.find(i)\n",
        "    break\n",
        "\n",
        "ans= user_input[start+1 : len(user_input)-end-1]\n",
        "\n",
        "if len(ans)!=0:\n",
        "  print(ans[::-1])\n",
        "else:\n",
        "    print(\"BLANK\")"
      ],
      "metadata": {
        "colab": {
          "base_uri": "https://localhost:8080/"
        },
        "id": "dG_O0v6U-r0b",
        "outputId": "4b455218-55b1-4303-8621-79a2032601df"
      },
      "execution_count": null,
      "outputs": [
        {
          "output_type": "stream",
          "name": "stdout",
          "text": [
            "Enter Input: rtykjhg\n",
            "BLANK\n"
          ]
        }
      ]
    },
    {
      "cell_type": "code",
      "source": [],
      "metadata": {
        "id": "ArTPawwxHcpP"
      },
      "execution_count": null,
      "outputs": []
    },
    {
      "cell_type": "code",
      "source": [
        "user=input()\n",
        "print(user.find(\"f\"))"
      ],
      "metadata": {
        "colab": {
          "base_uri": "https://localhost:8080/"
        },
        "id": "_KXVfLLCByJZ",
        "outputId": "af6fa465-ad0b-4948-c6a3-e40468eb0cd6"
      },
      "execution_count": null,
      "outputs": [
        {
          "output_type": "stream",
          "name": "stdout",
          "text": [
            "rafi\n",
            "2\n"
          ]
        }
      ]
    },
    {
      "cell_type": "code",
      "source": [
        "user=input()\n",
        "print(user[::-1])"
      ],
      "metadata": {
        "colab": {
          "base_uri": "https://localhost:8080/"
        },
        "id": "30_qDREMB90Y",
        "outputId": "2b42aec3-3c23-4477-ba98-dd32c455686e"
      },
      "execution_count": null,
      "outputs": [
        {
          "output_type": "stream",
          "name": "stdout",
          "text": [
            "rafi\n",
            "ifar\n"
          ]
        }
      ]
    },
    {
      "cell_type": "code",
      "source": [
        "user_input=input(\"Enter Input: \")\n",
        "\n",
        "for i in user_input:\n",
        "  if \"A\" <= i <= \"Z\":\n",
        "    start=user_input.find(i)\n",
        "    break\n",
        "\n",
        "print(\"start\", start)\n",
        "\n",
        "user_input=user_input[::-1]\n",
        "for i in user_input:\n",
        "  if \"A\" <= i <= \"Z\":\n",
        "    end=user_input.find(i)\n",
        "    break\n",
        "\n",
        "print(\"End\", end)"
      ],
      "metadata": {
        "colab": {
          "base_uri": "https://localhost:8080/"
        },
        "id": "vTIEhRPbCcDW",
        "outputId": "0e038366-f9bf-43af-9659-3bb88a3731b8"
      },
      "execution_count": null,
      "outputs": [
        {
          "output_type": "stream",
          "name": "stdout",
          "text": [
            "Enter Input: baNgladEsh\n",
            "start 2\n",
            "End 2\n"
          ]
        }
      ]
    },
    {
      "cell_type": "markdown",
      "source": [
        "## \\\\\\\\\\\\\\\\\\\\\\\\\\\\\\\\\\\\\\\\\\"
      ],
      "metadata": {
        "id": "gXEm-2XjJo5z"
      }
    },
    {
      "cell_type": "code",
      "source": [
        "user=input(\"Enter input: \")\n",
        "\n",
        "if \"too good\" in user:\n",
        "  print(user.replace(\"too good\", \"excellent\"))\n",
        "else:\n",
        "  print(user)"
      ],
      "metadata": {
        "colab": {
          "base_uri": "https://localhost:8080/"
        },
        "id": "IV1Os9f9DFms",
        "outputId": "e5f10410-6382-41c4-ef7b-4deef1e64fde"
      },
      "execution_count": null,
      "outputs": [
        {
          "output_type": "stream",
          "name": "stdout",
          "text": [
            "Enter input: This book is good too!\n",
            "This book is good too!\n"
          ]
        }
      ]
    },
    {
      "cell_type": "code",
      "source": [
        "userInput=input()\n",
        "# baNgladEsh\n",
        "# -->\n",
        "\n",
        "firstUpperCaseIdx = None\n",
        "for i in range(len(userInput)):\n",
        "  if \"A\"<=userInput[i]<=\"Z\":\n",
        "    firstUpperCaseIdx = i\n",
        "    break\n",
        "\n",
        "secUpperCase=None\n",
        "for i in range(len(userInput)-1, -1, -1):\n",
        "  if \"A\"<=userInput[i]<=\"Z\":\n",
        "    secUpperCase = i\n",
        "    break\n",
        "\n",
        "if firstUpperCaseIdx+1 != secUpperCase:\n",
        "  print(userInput[firstUpperCaseIdx+1 : secUpperCase])\n",
        "else:\n",
        "  print(\"BLANK\")"
      ],
      "metadata": {
        "colab": {
          "base_uri": "https://localhost:8080/"
        },
        "id": "QUF5k_sMMnk9",
        "outputId": "c67c14d8-1589-44c3-c519-96cbeff62320"
      },
      "execution_count": null,
      "outputs": [
        {
          "output_type": "stream",
          "name": "stdout",
          "text": [
            "coDIng\n",
            "BLANK\n"
          ]
        }
      ]
    },
    {
      "cell_type": "code",
      "source": [
        "a=\"aBRarrafi\"\n",
        "#  12\n",
        "\n",
        "print(a[1+1:5])"
      ],
      "metadata": {
        "colab": {
          "base_uri": "https://localhost:8080/"
        },
        "id": "REPQSolfMnTg",
        "outputId": "7ccdf0e1-1646-483c-ec3d-d3c725e435c3"
      },
      "execution_count": null,
      "outputs": [
        {
          "output_type": "stream",
          "name": "stdout",
          "text": [
            "rar\n"
          ]
        }
      ]
    },
    {
      "cell_type": "markdown",
      "source": [
        "## Task 4"
      ],
      "metadata": {
        "id": "BhmtIPyCKhhL"
      }
    },
    {
      "cell_type": "code",
      "source": [
        "user_input=input()\n",
        "\n",
        "word=user_input.split(\", \")\n",
        "\n",
        "s=\"\"\n",
        "for i in word[0]:\n",
        "  if i in word[1]:\n",
        "    s=s+i\n",
        "for i in word[1]:\n",
        "  if i in word[0]:\n",
        "    s=s+i\n",
        "\n",
        "if len(s)!=0:\n",
        "  print(s)\n",
        "else:\n",
        "  print(\"Nothing in common.\")"
      ],
      "metadata": {
        "colab": {
          "base_uri": "https://localhost:8080/"
        },
        "id": "WXSvQ4b9eFkN",
        "outputId": "39e3c80f-4ee5-48da-8830-100f11c4bb13"
      },
      "execution_count": null,
      "outputs": [
        {
          "output_type": "stream",
          "name": "stdout",
          "text": [
            "harry, hermione\n",
            "hrrhr\n"
          ]
        }
      ]
    },
    {
      "cell_type": "code",
      "source": [
        "user_input=input()\n",
        "\n",
        "word=user_input.split(\", \")\n",
        "print(word)\n"
      ],
      "metadata": {
        "colab": {
          "base_uri": "https://localhost:8080/"
        },
        "id": "paBdrNppv4Vi",
        "outputId": "25039470-4f7c-47f1-ff1a-8bdccbf343e4"
      },
      "execution_count": null,
      "outputs": [
        {
          "output_type": "stream",
          "name": "stdout",
          "text": [
            "dsfghjkjhhgfert\n",
            "['dsfghjkjhhgfert']\n"
          ]
        }
      ]
    },
    {
      "cell_type": "code",
      "source": [
        "user1=input(\"Enter 1st input: \")\n",
        "user2=input(\"Enter 2nd input: \")\n",
        "\n",
        "s=\"\"\n",
        "for i in user1:\n",
        "  if i in user2:\n",
        "    s=s+i\n",
        "for i in user2:\n",
        "  if i in user1:\n",
        "    s=s+i\n",
        "\n",
        "if len(s)!=0:\n",
        "  print(s)\n",
        "else:\n",
        "  print(\"Nothing in common.\")"
      ],
      "metadata": {
        "colab": {
          "base_uri": "https://localhost:8080/"
        },
        "id": "w2klDhj6KETr",
        "outputId": "57f62571-1cc2-404f-e6ad-880ecddb0fb8"
      },
      "execution_count": null,
      "outputs": [
        {
          "output_type": "stream",
          "name": "stdout",
          "text": [
            "Enter 1st input: harry\n",
            "Enter 2nd input: hermione\n",
            "hrrhr\n"
          ]
        }
      ]
    },
    {
      "cell_type": "code",
      "source": [
        "s=\"\"\n",
        "print(len(s))"
      ],
      "metadata": {
        "colab": {
          "base_uri": "https://localhost:8080/"
        },
        "id": "4awofUiULS7E",
        "outputId": "f5bcd47b-998c-4a8b-a855-677ab409ef11"
      },
      "execution_count": null,
      "outputs": [
        {
          "output_type": "stream",
          "name": "stdout",
          "text": [
            "0\n"
          ]
        }
      ]
    },
    {
      "cell_type": "markdown",
      "source": [
        "## Task 5"
      ],
      "metadata": {
        "id": "mQDkxWKhNEzK"
      }
    },
    {
      "cell_type": "code",
      "source": [
        "userPassword=input(\"Enter input: \")\n",
        "\n",
        "upperCase=False\n",
        "lowerCase=False\n",
        "specialChar=False\n",
        "digit=False\n",
        "\n",
        "for i in userPassword:\n",
        "  if \"A\" <= i <= \"Z\":\n",
        "    upperCase=True\n",
        "  elif \"a\" <= i <= \"z\":\n",
        "    lowerCase=True\n",
        "  elif i in \"_$#@\":\n",
        "    specialChar=True\n",
        "  elif i in \"012345689\":\n",
        "    digit=True\n",
        "\n",
        "dictionary={}\n",
        "dictionary[\"Uppercase character missing\"]=upperCase\n",
        "dictionary[\"Lowercase character missing\"]=lowerCase\n",
        "dictionary[\"Special character missing\"]=specialChar\n",
        "dictionary[\"Digit missing\"]=digit\n",
        "\n",
        "falseList=[]\n",
        "for i in dictionary:\n",
        "  if dictionary[i]==False:\n",
        "    falseList.append(i)\n",
        "\n",
        "if len(falseList)==0:\n",
        "  print(\"OK\")\n",
        "else:\n",
        "  for i in falseList:\n",
        "    if i==falseList[-1]:\n",
        "      print(i)\n",
        "    else:\n",
        "      print(i, end=\", \")"
      ],
      "metadata": {
        "colab": {
          "base_uri": "https://localhost:8080/"
        },
        "id": "GXDG7F4_ghY1",
        "outputId": "071e6a97-abcb-43e6-87d8-3958fda23d80"
      },
      "execution_count": null,
      "outputs": [
        {
          "output_type": "stream",
          "name": "stdout",
          "text": [
            "Enter input: fghjugf23#\n",
            "Uppercase character missing\n"
          ]
        }
      ]
    },
    {
      "cell_type": "code",
      "source": [
        "    if i==falseList[-1]:\n",
        "      print(i)\n",
        "    else:\n",
        "      print(i, end=\", \")"
      ],
      "metadata": {
        "id": "2HfS5VNNu2ip"
      },
      "execution_count": null,
      "outputs": []
    },
    {
      "cell_type": "code",
      "source": [
        "d={\"Rafi\":1, \"AUvi\":5}\n",
        "for i in d:\n",
        "  print(d[i])"
      ],
      "metadata": {
        "colab": {
          "base_uri": "https://localhost:8080/"
        },
        "id": "hBW1NTGkuLyZ",
        "outputId": "400e17d7-859e-40ce-d218-0b81d85f5994"
      },
      "execution_count": null,
      "outputs": [
        {
          "output_type": "stream",
          "name": "stdout",
          "text": [
            "1\n",
            "5\n"
          ]
        }
      ]
    },
    {
      "cell_type": "code",
      "source": [
        "userPassword=input(\"Enter input: \")\n",
        "\n",
        "upperCase=False\n",
        "lowerCase=False\n",
        "specialChar=False\n",
        "digit=False\n",
        "\n",
        "for i in userPassword:\n",
        "  if i in \"ABCDEFGHIJKLMNOPQRSTUVWXYZ\":\n",
        "    upperCase=True\n",
        "  elif i in \"abcdefghijklmnopqrstuvwxyz\":\n",
        "    lowerCase=True\n",
        "  elif i in \"_$#@\":\n",
        "    specialChar=True\n",
        "  elif i in \"012345689\":\n",
        "    digit=True\n",
        "\n",
        "if (upperCase==True) and (lowerCase==True) and (specialChar==True) and (digit==True):\n",
        "  print(\"Ok\")\n",
        "\n",
        "elif (upperCase==True) and (lowerCase==True) and (specialChar==True) and (digit==False):\n",
        "  print(\"Digit missing\")\n",
        "elif (upperCase==True) and (lowerCase==True) and (specialChar==False) and (digit==True):\n",
        "  print(\"Special char missing\")\n",
        "elif (upperCase==True) and (lowerCase==False) and (specialChar==True) and (digit==True):\n",
        "  print(\"lowercase missing\")\n",
        "elif (upperCase==False) and (lowerCase==True) and (specialChar==True) and (digit==True):\n",
        "  print(\"uppercase missing\")\n",
        "\n",
        "elif (upperCase==False) and (lowerCase==False) and (specialChar==True) and (digit==True):\n",
        "  print(\"uppercase missing, lowercase missing\")\n",
        "elif (upperCase==False) and (lowerCase==True) and (specialChar==False) and (digit==True):\n",
        "  print(\"upperCase missing, specialChar missing\")\n",
        "elif (upperCase==False) and (lowerCase==True) and (specialChar==True) and (digit==False):\n",
        "  print(\"upperCase missing, digit missing\")\n",
        "\n",
        "elif (upperCase==False) and (lowerCase==False) and (specialChar==False) and (digit==True):\n",
        "  print(\"uppercase missing, lowercase missing and specialChar missing\")\n",
        "elif (upperCase==False) and (lowerCase==False) and (specialChar==True) and (digit==False):\n",
        "  print(\"upperCase missing, lowerCase missing and digit missing\")\n",
        "elif (upperCase==False) and (lowerCase==True) and (specialChar==False) and (digit==False):\n",
        "  print(\"upperCase missing, special char missing and digit missing\")\n",
        "elif (upperCase==True) and (lowerCase==False) and (specialChar==False) and (digit==False):\n",
        "  print(\"lowercase missing, special char missing and digit missing\")"
      ],
      "metadata": {
        "colab": {
          "base_uri": "https://localhost:8080/"
        },
        "id": "Cu6KiFFfQIcT",
        "outputId": "c7b2939b-8bbe-4e59-95cb-4c1f7b299a1c"
      },
      "execution_count": null,
      "outputs": [
        {
          "output_type": "stream",
          "name": "stdout",
          "text": [
            "Enter input: ohMyBR@CU\n",
            "Digit missing\n"
          ]
        }
      ]
    },
    {
      "cell_type": "markdown",
      "source": [
        "# List"
      ],
      "metadata": {
        "id": "5s9nyjSOT6or"
      }
    },
    {
      "cell_type": "markdown",
      "source": [
        "## Task 1"
      ],
      "metadata": {
        "id": "tLjUfRSjT9G6"
      }
    },
    {
      "cell_type": "code",
      "source": [
        "l=[]\n",
        "while True:\n",
        "  user=input()\n",
        "  if user==\"STOP\":\n",
        "    break\n",
        "  else:\n",
        "    l.append(user)\n",
        "\n",
        "intList=[]\n",
        "for i in l:\n",
        "  intList.append(int(i))\n",
        "\n",
        "uniqueList=[]\n",
        "for i in intList:\n",
        "  if i not in uniqueList:\n",
        "    uniqueList.append(i)\n",
        "\n",
        "\n",
        "for i in uniqueList:\n",
        "  count=intList.count(i)\n",
        "  print(f\"{i} - {count} times\")"
      ],
      "metadata": {
        "colab": {
          "base_uri": "https://localhost:8080/"
        },
        "id": "Uv7GDfY1T8bK",
        "outputId": "2752825a-55c8-4f16-c276-c6ea2d06a023"
      },
      "execution_count": null,
      "outputs": [
        {
          "output_type": "stream",
          "name": "stdout",
          "text": [
            "10\n",
            "20\n",
            "20\n",
            "30\n",
            "10\n",
            "50\n",
            "90\n",
            "STOP\n",
            "10 - 2 times\n",
            "20 - 2 times\n",
            "30 - 1 times\n",
            "50 - 1 times\n",
            "90 - 1 times\n"
          ]
        }
      ]
    },
    {
      "cell_type": "code",
      "source": [
        "l=[]\n",
        "while True:\n",
        "  user=input()\n",
        "  if user==\"STOP\":\n",
        "    break\n",
        "  else:\n",
        "    l.append(user)\n",
        "\n",
        "intList=[]\n",
        "for i in l:\n",
        "  intList.append(int(i))\n",
        "\n",
        "uniqueList=[]\n",
        "for i in intList:\n",
        "  if i not in uniqueList:\n",
        "    uniqueList.append(i)\n",
        "\n",
        "\n",
        "for i in uniqueList:\n",
        "  count=0\n",
        "  for j in intList:\n",
        "    if i==j:\n",
        "      count+=1\n",
        "  print(f\"{i} - {count} times\")"
      ],
      "metadata": {
        "colab": {
          "base_uri": "https://localhost:8080/"
        },
        "id": "iC0wnAHC6GLq",
        "outputId": "97c27076-ef4c-491f-817b-48fbc17e5cbc"
      },
      "execution_count": null,
      "outputs": [
        {
          "output_type": "stream",
          "name": "stdout",
          "text": [
            "10\n",
            "20\n",
            "20\n",
            "30\n",
            "10\n",
            "50\n",
            "90\n",
            "STOP\n",
            "10 - 2 times\n",
            "20 - 2 times\n",
            "30 - 1 times\n",
            "50 - 1 times\n",
            "90 - 1 times\n"
          ]
        }
      ]
    },
    {
      "cell_type": "code",
      "source": [
        "l=[1, 2, 3, 4, 5, 1, 1, 1, 4, 2, 2, 3]\n",
        "print(l.count(2))\n"
      ],
      "metadata": {
        "colab": {
          "base_uri": "https://localhost:8080/"
        },
        "id": "X7ncnaawUm1n",
        "outputId": "10291c89-8777-4d4b-a0d1-0563760025e4"
      },
      "execution_count": null,
      "outputs": [
        {
          "output_type": "stream",
          "name": "stdout",
          "text": [
            "3\n"
          ]
        }
      ]
    },
    {
      "cell_type": "markdown",
      "source": [
        "##Task 2"
      ],
      "metadata": {
        "id": "ZbJ6ZRoQWBbF"
      }
    },
    {
      "cell_type": "code",
      "source": [
        "numberOfList=int(input())\n",
        "\n",
        "l=[]\n",
        "for i in range(1, numberOfList+1):\n",
        "  elementOfList=input()\n",
        "  l.append(elementOfList)\n",
        "\n",
        "max=-9999999999999999999999999999\n",
        "maxList=[]\n",
        "\n",
        "for i in l:\n",
        "  ilist=i.split(\" \")\n",
        "  intValue=[]\n",
        "  for item in ilist:\n",
        "    intValue.append(int(item))\n",
        "\n",
        "  sum=0\n",
        "  for j in intValue:\n",
        "    sum=sum+j\n",
        "  if sum > max:\n",
        "    max=sum\n",
        "    maxList=intValue\n",
        "\n",
        "print(max)\n",
        "print(maxList)"
      ],
      "metadata": {
        "id": "8yN4EIKRV1-m",
        "colab": {
          "base_uri": "https://localhost:8080/"
        },
        "outputId": "4b953101-1373-4649-fdad-de98da7aa178"
      },
      "execution_count": null,
      "outputs": [
        {
          "output_type": "stream",
          "name": "stdout",
          "text": [
            "4\n",
            "1 2 4\n",
            "11 10 12\n",
            "2 2 4\n",
            "2 5 4 6\n",
            "33\n",
            "[11, 10, 12]\n"
          ]
        }
      ]
    },
    {
      "cell_type": "code",
      "source": [
        "4\n",
        "1 2 3\n",
        "4 5 6\n",
        "10 11 12\n",
        "7 8 9\n"
      ],
      "metadata": {
        "id": "rNBeIuUf0V6D"
      },
      "execution_count": null,
      "outputs": []
    },
    {
      "cell_type": "markdown",
      "source": [
        "## Task 3"
      ],
      "metadata": {
        "id": "buSXuzgEXd8u"
      }
    },
    {
      "cell_type": "code",
      "source": [
        "emptyString = \"\"\n",
        "\n",
        "while True:\n",
        "  user_input = input()\n",
        "  if user_input != 'STOP':\n",
        "    list1 = [int(i) for i in user_input.split(' ')]\n",
        "\n",
        "    flag = True\n",
        "    for i in range(len(list1)-1):\n",
        "      subtract = abs(list1[i] - list1[i+1])\n",
        "\n",
        "      if subtract not in range(1, len(list1)+1):\n",
        "        flag = False\n",
        "        break\n",
        "\n",
        "    if flag == True:\n",
        "      emptyString += 'UB Jumper, '\n",
        "    else:\n",
        "      emptyString += 'Not UB Jumper, '\n",
        "\n",
        "  else:\n",
        "    break\n",
        "\n",
        "\n",
        "finalList = emptyString.split(', ')\n",
        "for i in finalList:\n",
        "  if i != '':\n",
        "    print(i)"
      ],
      "metadata": {
        "colab": {
          "base_uri": "https://localhost:8080/"
        },
        "id": "cJhBcYRCXaUV",
        "outputId": "31861d8d-4252-4ff8-b371-a41e0ab906f8"
      },
      "execution_count": null,
      "outputs": [
        {
          "output_type": "stream",
          "name": "stdout",
          "text": [
            "1 4 2 3\n",
            "2 1 4 6 10\n",
            "1 4 2 -1 6\n",
            "STOP\n",
            "UB Jumper\n",
            "UB Jumper\n",
            "Not UB Jumper\n"
          ]
        }
      ]
    },
    {
      "cell_type": "code",
      "source": [
        "1 4 2 3\n",
        "2 1 4 6 10\n",
        "1 4 2 -1 6\n",
        "STOP"
      ],
      "metadata": {
        "id": "_Ea0Y0gJj_uZ"
      },
      "execution_count": null,
      "outputs": []
    },
    {
      "cell_type": "code",
      "source": [
        "while True:\n",
        "  emptyList=[]\n",
        "  user_input=input()\n",
        "  if user_input==\"STOP\":\n",
        "    break\n",
        "  else:\n",
        "    emptyList.append(user_input)\n",
        "\n",
        "for i in emptyList:\n",
        "  itemList=i.split(\" \")\n",
        "\n",
        "  int_itemList=[]\n",
        "  for i in itemList:\n",
        "    int_itemList.append(int(i))\n",
        "\n",
        "  subtractList=[]\n",
        "  x=0\n",
        "  y=1\n",
        "  while x<(len(int_itemList)-1) and y<len(int_itemList):\n",
        "    subtract=int_itemList[x]-int_itemList[y]\n",
        "    subtractList.append(subtract)\n",
        "\n",
        "  subtractListValue=[]\n",
        "  for i in subtractList:\n",
        "    if 1<= i <= len(int_itemList)-1:\n",
        "      subtractListValue.append(\"Done\")\n",
        "\n",
        "  if len(subtractListValue)==len(subtractList):\n",
        "    print(\"UB Jumper\")\n",
        "  else:\n",
        "    print(\"Not UB Jumper\")"
      ],
      "metadata": {
        "id": "DW6DJx7zXdhQ",
        "colab": {
          "base_uri": "https://localhost:8080/"
        },
        "outputId": "f47a7ffe-f335-45f2-88d5-cdecafc87f5c"
      },
      "execution_count": null,
      "outputs": [
        {
          "name": "stdout",
          "output_type": "stream",
          "text": [
            "1 4 2 3\n",
            "2 1 4 6 10\n",
            "1 4 2 -1 6\n",
            "STOP\n"
          ]
        }
      ]
    },
    {
      "cell_type": "code",
      "source": [
        "int_itemList=[1, 4, 2, 3]\n",
        "\n",
        "subtractList=[]\n",
        "x=0\n",
        "y=1\n",
        "while x<(len(int_itemList)-1) and y<len(int_itemList):\n",
        "  subtract=int_itemList[x]-int_itemList[y]\n",
        "  subtractList.append(subtract)\n",
        "  x+=1\n",
        "  y+=1"
      ],
      "metadata": {
        "id": "uXS1077BmKD2"
      },
      "execution_count": null,
      "outputs": []
    },
    {
      "cell_type": "markdown",
      "source": [
        "## Task 4\n",
        "\n",
        "\n",
        "SEEEEEE"
      ],
      "metadata": {
        "id": "8XB1r-9UXhB_"
      }
    },
    {
      "cell_type": "code",
      "source": [
        "user_input1=input()\n",
        "user_input1=user_input1.split(\" \")\n",
        "list1=[]\n",
        "for i in user_input1:\n",
        "  list1.append(int(i))\n",
        "\n",
        "user_input2=input()\n",
        "user_input2=user_input2.split(\" \")\n",
        "list2=[]\n",
        "for i in user_input2:\n",
        "  list2.append(int(i))\n",
        "\n",
        "\n",
        "maxMember = 3\n",
        "v = list1[1]\n",
        "eligible = 0\n",
        "\n",
        "for i in list2:\n",
        "  if (i + v) in range(1, 6):\n",
        "    eligible += 1\n",
        "\n",
        "maxTeam = eligible // maxMember\n",
        "print(\"Maximum number of teams:\", maxTeam)"
      ],
      "metadata": {
        "id": "qO12w_ukcLbz"
      },
      "execution_count": null,
      "outputs": []
    },
    {
      "cell_type": "code",
      "source": [
        "n, k = map(int, input().split())\n",
        "counts = list(map(int, input().split()))\n",
        "\n",
        "\n",
        "eligible = 0\n",
        "for count in counts:\n",
        "    if count <= 5 - k:\n",
        "        eligible += 1\n",
        "\n",
        "teams =  eligible // 3\n",
        "\n",
        "\n",
        "print(\"maximum number of teams {}\".format(teams))"
      ],
      "metadata": {
        "id": "lcTZq7f9pJqx"
      },
      "execution_count": null,
      "outputs": []
    },
    {
      "cell_type": "code",
      "source": [
        "x = input()\n",
        "rever = x[::-1]\n",
        "y = ''\n",
        "z = ''\n",
        "for i in x :\n",
        "  y= y + i\n",
        "  if ord(i)>=ord(\"A\") and ord(i)<=ord(\"Z\"):\n",
        "    break\n",
        "for j in rever :\n",
        "  z= z + j\n",
        "  if ord(j)>=ord(\"A\") and ord(j)<=ord(\"Z\"):\n",
        "    break\n",
        "first=y\n",
        "ll= z\n",
        "second = ll[::-1]\n",
        "new1 = x.replace(first,\"\")\n",
        "new2= new1.replace(second,\"\")\n",
        "print(new2)"
      ],
      "metadata": {
        "id": "NcylNI5JnFLC"
      },
      "execution_count": null,
      "outputs": []
    },
    {
      "cell_type": "markdown",
      "source": [
        "# Dictionary and Tuple"
      ],
      "metadata": {
        "id": "V4UqFAYRXldO"
      }
    },
    {
      "cell_type": "markdown",
      "source": [
        "## Task 1"
      ],
      "metadata": {
        "id": "SzfzmW4QXqe9"
      }
    },
    {
      "cell_type": "code",
      "source": [
        "twoDict=[]\n",
        "for i in range(2):\n",
        "  user_input=input().split(\", \")\n",
        "  twoDict.append(user_input)\n",
        "\n",
        "#print(twoDict)\n",
        "\n",
        "forDict=[]\n",
        "\n",
        "for i in twoDict:\n",
        "  for j in i:\n",
        "    item=j.split(\": \")\n",
        "    tup=tuple(item)\n",
        "    forDict.append(tup)\n",
        "\n",
        "#print(forDict)\n",
        "\n",
        "emptyDict={}\n",
        "for i in forDict:\n",
        "  if i[0] in emptyDict:\n",
        "    emptyDict[i[0]]=emptyDict[i[0]]+int(i[1])\n",
        "  else:\n",
        "    emptyDict[i[0]]=int(i[1])\n",
        "\n",
        "print(emptyDict)\n",
        "\n",
        "valuesList=[]\n",
        "for i in emptyDict:\n",
        "  if emptyDict[i] not in valuesList:\n",
        "    valuesList.append(emptyDict[i])\n",
        "\n",
        "valuesList.sort()\n",
        "\n",
        "print(\"Values:\", tuple(valuesList))"
      ],
      "metadata": {
        "id": "Tlt-Z8nXXprF",
        "colab": {
          "base_uri": "https://localhost:8080/",
          "height": 269
        },
        "outputId": "0e6f9a8d-ae9d-44a8-e82a-fe5acf1bf099"
      },
      "execution_count": null,
      "outputs": [
        {
          "name": "stdout",
          "output_type": "stream",
          "text": [
            "a: 100, b: 100, c: 200, d: 300\n",
            "a: 300, b: 200, d: 400, e: 200\n"
          ]
        },
        {
          "output_type": "error",
          "ename": "TypeError",
          "evalue": "ignored",
          "traceback": [
            "\u001b[0;31m---------------------------------------------------------------------------\u001b[0m",
            "\u001b[0;31mTypeError\u001b[0m                                 Traceback (most recent call last)",
            "\u001b[0;32m<ipython-input-4-4b13ae75f589>\u001b[0m in \u001b[0;36m<cell line: 19>\u001b[0;34m()\u001b[0m\n\u001b[1;32m     21\u001b[0m     \u001b[0memptyDict\u001b[0m\u001b[0;34m[\u001b[0m\u001b[0mi\u001b[0m\u001b[0;34m[\u001b[0m\u001b[0;36m0\u001b[0m\u001b[0;34m]\u001b[0m\u001b[0;34m]\u001b[0m\u001b[0;34m=\u001b[0m\u001b[0memptyDict\u001b[0m\u001b[0;34m[\u001b[0m\u001b[0mi\u001b[0m\u001b[0;34m[\u001b[0m\u001b[0;36m0\u001b[0m\u001b[0;34m]\u001b[0m\u001b[0;34m]\u001b[0m\u001b[0;34m+\u001b[0m\u001b[0mint\u001b[0m\u001b[0;34m(\u001b[0m\u001b[0mi\u001b[0m\u001b[0;34m[\u001b[0m\u001b[0;36m1\u001b[0m\u001b[0;34m]\u001b[0m\u001b[0;34m)\u001b[0m\u001b[0;34m\u001b[0m\u001b[0;34m\u001b[0m\u001b[0m\n\u001b[1;32m     22\u001b[0m   \u001b[0;32melse\u001b[0m\u001b[0;34m:\u001b[0m\u001b[0;34m\u001b[0m\u001b[0;34m\u001b[0m\u001b[0m\n\u001b[0;32m---> 23\u001b[0;31m     \u001b[0memptyDict\u001b[0m\u001b[0;34m[\u001b[0m\u001b[0mi\u001b[0m\u001b[0;34m[\u001b[0m\u001b[0;36m0\u001b[0m\u001b[0;34m]\u001b[0m\u001b[0;34m]\u001b[0m\u001b[0;34m=\u001b[0m\u001b[0mint\u001b[0m\u001b[0;34m(\u001b[0m\u001b[0mi\u001b[0m\u001b[0;34m[\u001b[0m\u001b[0;36m1\u001b[0m\u001b[0;34m]\u001b[0m\u001b[0;34m)\u001b[0m\u001b[0;34m\u001b[0m\u001b[0;34m\u001b[0m\u001b[0m\n\u001b[0m\u001b[1;32m     24\u001b[0m \u001b[0;34m\u001b[0m\u001b[0m\n\u001b[1;32m     25\u001b[0m \u001b[0mprint\u001b[0m\u001b[0;34m(\u001b[0m\u001b[0memptyDict\u001b[0m\u001b[0;34m)\u001b[0m\u001b[0;34m\u001b[0m\u001b[0;34m\u001b[0m\u001b[0m\n",
            "\u001b[0;31mTypeError\u001b[0m: list indices must be integers or slices, not str"
          ]
        }
      ]
    },
    {
      "cell_type": "markdown",
      "source": [
        "## Task 2"
      ],
      "metadata": {
        "id": "7eaOSzcYXubd"
      }
    },
    {
      "cell_type": "code",
      "source": [
        "dictionary={}\n",
        "\n",
        "while True:\n",
        "  userInput=input()\n",
        "  if userInput==\"STOP\":\n",
        "    break\n",
        "  else:\n",
        "    if userInput not in dictionary:\n",
        "      dictionary[userInput]=1\n",
        "    else:\n",
        "      dictionary[userInput]=dictionary[userInput]+1\n",
        "\n",
        "for i in dictionary:\n",
        "  print(f\"{int(i)} - {dictionary[i]} times\")"
      ],
      "metadata": {
        "id": "MnCeqObGXvU1",
        "colab": {
          "base_uri": "https://localhost:8080/"
        },
        "outputId": "7d49c620-5fe7-4421-c404-2e2e4398212e"
      },
      "execution_count": null,
      "outputs": [
        {
          "output_type": "stream",
          "name": "stdout",
          "text": [
            "10\n",
            "20\n",
            "20\n",
            "30\n",
            "10\n",
            "50\n",
            "90\n",
            "STOP\n",
            "10 - 2 times\n",
            "20 - 2 times\n",
            "30 - 1 times\n",
            "50 - 1 times\n",
            "90 - 1 times\n"
          ]
        }
      ]
    },
    {
      "cell_type": "markdown",
      "source": [
        "## Task 3"
      ],
      "metadata": {
        "id": "0UfDkQE0Xvpw"
      }
    },
    {
      "cell_type": "code",
      "source": [
        "user_input=input().split(\", \")\n",
        "\n",
        "forDict=[]\n",
        "for i in user_input:\n",
        "  tup=i.split(\" : \")\n",
        "  t=tuple(tup)\n",
        "  forDict.append(t)\n",
        "\n",
        "dictionary={}\n",
        "for i in forDict:\n",
        "  if i[1] in dictionary:\n",
        "    dictionary[i[1]].append(i[0])\n",
        "  else:\n",
        "    dictionary[i[1]]=[]\n",
        "    dictionary[i[1]].append(i[0])\n",
        "\n",
        "print(dictionary)"
      ],
      "metadata": {
        "id": "t4HfjD1zXx1l",
        "colab": {
          "base_uri": "https://localhost:8080/"
        },
        "outputId": "e1bc149c-afd4-424d-b297-2adc74f0ed8a"
      },
      "execution_count": null,
      "outputs": [
        {
          "output_type": "stream",
          "name": "stdout",
          "text": [
            "key1 : value1, key2 : value2, key3 : value1\n",
            "{'value1': ['key1', 'key3'], 'value2': ['key2']}\n"
          ]
        }
      ]
    },
    {
      "cell_type": "markdown",
      "source": [
        "## Task 4"
      ],
      "metadata": {
        "id": "Rn6_9NqBXyNG"
      }
    },
    {
      "cell_type": "code",
      "source": [
        "dictionary={\"1\":\".,?!:\", \"2\":\"ABC\", \"3\":\"DEF\", \"4\":\"GHI\", \"5\":\"JKL\", \"6\":\"MNO\", \"7\":\"PQRS\", \"8\":\"TUV\", \"9\":\"WXYZ\", \"0\":\" \"}\n",
        "\n",
        "user=input().upper()\n",
        "\n",
        "for i in user:\n",
        "  for k,v in dictionary.items():\n",
        "    if i in v:\n",
        "      position=v.find(i)\n",
        "      print(k*(position+1), end=\"\")"
      ],
      "metadata": {
        "colab": {
          "base_uri": "https://localhost:8080/"
        },
        "id": "YNpa8aBWhliu",
        "outputId": "7daab546-05de-4384-ced9-fdf8caa9d313"
      },
      "execution_count": null,
      "outputs": [
        {
          "output_type": "stream",
          "name": "stdout",
          "text": [
            "Hello, world!\n",
            "4433555555666110966677755531111"
          ]
        }
      ]
    },
    {
      "cell_type": "code",
      "source": [
        "s=\"Rafi\"\n",
        "print(s.find(\"R\"))"
      ],
      "metadata": {
        "colab": {
          "base_uri": "https://localhost:8080/"
        },
        "id": "80BqJaxylRzM",
        "outputId": "519e36c4-c217-4fd4-e8a1-4126908ebac1"
      },
      "execution_count": null,
      "outputs": [
        {
          "output_type": "stream",
          "name": "stdout",
          "text": [
            "0\n"
          ]
        }
      ]
    },
    {
      "cell_type": "code",
      "source": [
        "for i in range(3):\n",
        "  print(\"1\")"
      ],
      "metadata": {
        "colab": {
          "base_uri": "https://localhost:8080/"
        },
        "id": "z9JqePXmoYS5",
        "outputId": "56b87c29-d353-4189-c353-0581f6f6d859"
      },
      "execution_count": null,
      "outputs": [
        {
          "output_type": "stream",
          "name": "stdout",
          "text": [
            "1\n",
            "1\n",
            "1\n"
          ]
        }
      ]
    },
    {
      "cell_type": "code",
      "source": [
        "Hello, world!"
      ],
      "metadata": {
        "id": "j_RjnQpdixNF"
      },
      "execution_count": null,
      "outputs": []
    },
    {
      "cell_type": "markdown",
      "source": [
        "# Function"
      ],
      "metadata": {
        "id": "z7LPSutg81Jp"
      }
    },
    {
      "cell_type": "markdown",
      "source": [
        "## Task 1\n"
      ],
      "metadata": {
        "id": "vCQ1Wv3iXzKD"
      }
    },
    {
      "cell_type": "code",
      "source": [
        "● < 18.5-\n",
        "● 18.5 - 24.9 -\n",
        "● 25 -30 -\n",
        "● > 30 – Obese"
      ],
      "metadata": {
        "id": "IvMJ9sbVsAj4"
      },
      "execution_count": null,
      "outputs": []
    },
    {
      "cell_type": "code",
      "source": [
        "def BMI(height, weight):\n",
        "  height=height*0.01\n",
        "  bmi=weight/(height*height)\n",
        "\n",
        "  if bmi < 18.5:\n",
        "    opinion=\"Underweight\"\n",
        "  elif 18.5 <= bmi <= 24.9:\n",
        "    opinion=\"Normal\"\n",
        "  elif 25 <= bmi <= 30:\n",
        "    opinion=\"Overweight\"\n",
        "  else:\n",
        "    opinion=\"Obese\"\n",
        "\n",
        "  print(\"Score is {:.1f}. You are {}\".format(bmi,opinion))\n",
        "\n",
        "height=int(input())\n",
        "weight=int(input())\n",
        "BMI(height, weight)\n"
      ],
      "metadata": {
        "id": "Zt8ifvPDX0AN",
        "colab": {
          "base_uri": "https://localhost:8080/"
        },
        "outputId": "ab1e114f-57a8-4823-b2bf-9257299d70bb"
      },
      "execution_count": null,
      "outputs": [
        {
          "output_type": "stream",
          "name": "stdout",
          "text": [
            "152\n",
            "48\n",
            "Score is 20.8. You are Normal\n"
          ]
        }
      ]
    },
    {
      "cell_type": "code",
      "source": [
        "{2:4.2f}"
      ],
      "metadata": {
        "id": "ee6y9QRvtjiw"
      },
      "execution_count": null,
      "outputs": []
    },
    {
      "cell_type": "markdown",
      "source": [
        "## Task 2"
      ],
      "metadata": {
        "id": "qMCFn8xT_Ay7"
      }
    },
    {
      "cell_type": "code",
      "source": [
        "def add(minimum, maximum, divisor):\n",
        "  sum=0\n",
        "  for i in range(minimum, maximum):\n",
        "    if i%divisor==0:\n",
        "      sum+=i\n",
        "  return sum\n",
        "\n",
        "user_input=input()\n",
        "user_input=user_input[1:-1]\n",
        "user_input=user_input.split(\", \")\n",
        "\n",
        "listOfItem=[]\n",
        "for i in user_input:\n",
        "  if i not in listOfItem:\n",
        "    listOfItem.append(int(i))\n",
        "listOfItem=tuple(listOfItem)\n",
        "minimum, maximum, divisor=listOfItem\n",
        "\n",
        "returnValue=add(minimum, maximum, divisor)\n",
        "print(returnValue)"
      ],
      "metadata": {
        "colab": {
          "base_uri": "https://localhost:8080/"
        },
        "id": "G_nZQOSp_DJD",
        "outputId": "346925a4-7fd4-4f8d-e24a-bfdba06357ec"
      },
      "execution_count": null,
      "outputs": [
        {
          "output_type": "stream",
          "name": "stdout",
          "text": [
            "(0, 10, 2)\n",
            "20\n"
          ]
        }
      ]
    },
    {
      "cell_type": "markdown",
      "source": [
        "## Task 3"
      ],
      "metadata": {
        "id": "Xk9BiNaH_Dly"
      }
    },
    {
      "cell_type": "code",
      "source": [
        "menu={\"BBQ Chicken Cheese Burger\":250, \"Beef Burger\":170, \"Naga Drums\":200}\n",
        "\n",
        "def calculate_price(name, place=\"mohakhali\"):\n",
        "  totalPrice=0\n",
        "  for i in menu:\n",
        "    if name==i:\n",
        "      totalPrice=totalPrice+menu[i]\n",
        "      if place != \"mohakhali\":\n",
        "        totalPrice=totalPrice+60+menu[i]*(8/100)\n",
        "      else:\n",
        "        totalPrice=totalPrice+40+menu[i]*(8/100)\n",
        "\n",
        "  print(totalPrice)\n",
        "\n",
        "name=input()\n",
        "place=input().lower()\n",
        "calculate_price(name, place)\n",
        "calculate_price(name)"
      ],
      "metadata": {
        "id": "YDVaAJJ6_Edz",
        "colab": {
          "base_uri": "https://localhost:8080/"
        },
        "outputId": "7b9d9338-930f-4ba4-af09-65e6ee323f27"
      },
      "execution_count": null,
      "outputs": [
        {
          "output_type": "stream",
          "name": "stdout",
          "text": [
            "Beef Burger\n",
            "Dhanmondi\n",
            "243.6\n",
            "223.6\n"
          ]
        }
      ]
    },
    {
      "cell_type": "code",
      "source": [
        "Beef Burger\n",
        "Dhanmondi"
      ],
      "metadata": {
        "id": "rGK-Sh8OdgyD"
      },
      "execution_count": null,
      "outputs": []
    },
    {
      "cell_type": "markdown",
      "source": [
        "## Task 4\n",
        "\n"
      ],
      "metadata": {
        "id": "r1E4r0f__E34"
      }
    },
    {
      "cell_type": "code",
      "source": [
        "def domain(email_check, new_domain, old_domain = \"kaaj.com\"):\n",
        "  if new_domain in email_check:\n",
        "    print(\"Unchanged:\", email_check)\n",
        "  else:\n",
        "    empty_str = \"\"\n",
        "    for i in email_check:\n",
        "      if i != '@':\n",
        "        empty_str += i\n",
        "      if i == '@':\n",
        "        empty_str += i\n",
        "        break\n",
        "    new_email = empty_str + new_domain\n",
        "    print(\"Changed:\", new_email)\n",
        "\n",
        "email_check=input()\n",
        "new_domain=input()\n",
        "old_domain=input()\n",
        "\n",
        "domain(email_check, new_domain, old_domain)\n"
      ],
      "metadata": {
        "id": "3UYisTEH_FrT",
        "colab": {
          "base_uri": "https://localhost:8080/"
        },
        "outputId": "e731e9b9-4993-4fa6-b535-e315ca26a08d"
      },
      "execution_count": null,
      "outputs": [
        {
          "output_type": "stream",
          "name": "stdout",
          "text": [
            "alice@kaaj.com\n",
            "sheba.xyz\n",
            "kaaj.com\n",
            "Changed: alice@sheba.xyz\n",
            "Changed: alice@sheba.xyz\n"
          ]
        }
      ]
    },
    {
      "cell_type": "code",
      "source": [
        "(‘alice@kaaj.com’, ‘sheba.xyz’, ‘kaaj.com’)\n",
        "(‘bob@sheba.xyz’, ‘sheba.xyz’)"
      ],
      "metadata": {
        "id": "ubJAB0vlx7bO"
      },
      "execution_count": null,
      "outputs": []
    },
    {
      "cell_type": "markdown",
      "source": [
        "## Task 5"
      ],
      "metadata": {
        "id": "CCeeX35A_Gfm"
      }
    },
    {
      "cell_type": "code",
      "source": [
        "user_input=input()\n",
        "\n",
        "string=\"\"\n",
        "for i in user_input:\n",
        "  if i != \" \":\n",
        "    string=string+i\n",
        "\n",
        "if string==string[::-1]:\n",
        "  print(\"Palindrome\")\n",
        "else:\n",
        "  print(\"Not a palindrome\")"
      ],
      "metadata": {
        "colab": {
          "base_uri": "https://localhost:8080/"
        },
        "id": "lNJ3G63vmQh-",
        "outputId": "3c2ac45d-9b34-424a-cab3-2666c18a46d0"
      },
      "execution_count": null,
      "outputs": [
        {
          "output_type": "stream",
          "name": "stdout",
          "text": [
            "abba\n",
            "Palindrome\n"
          ]
        }
      ]
    },
    {
      "cell_type": "code",
      "source": [
        "user_input=input()\n",
        "if user_input==user_input[::-1]:\n",
        "  print(\"pali\")\n",
        "else:\n",
        "  print(\"not pali\")"
      ],
      "metadata": {
        "id": "w9etxiKz_HDT",
        "colab": {
          "base_uri": "https://localhost:8080/"
        },
        "outputId": "a2762b04-9be6-4d5e-9143-c42b193b7731"
      },
      "execution_count": null,
      "outputs": [
        {
          "output_type": "stream",
          "name": "stdout",
          "text": [
            "345364354\n",
            "not pali\n"
          ]
        }
      ]
    },
    {
      "cell_type": "markdown",
      "source": [
        "## Task 6"
      ],
      "metadata": {
        "id": "rXb0O103_HdP"
      }
    },
    {
      "cell_type": "code",
      "source": [],
      "metadata": {
        "id": "6VOs1X3E_IED"
      },
      "execution_count": null,
      "outputs": []
    }
  ]
}