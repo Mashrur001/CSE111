{
  "nbformat": 4,
  "nbformat_minor": 0,
  "metadata": {
    "colab": {
      "provenance": [],
      "include_colab_link": true
    },
    "kernelspec": {
      "name": "python3",
      "display_name": "Python 3"
    },
    "language_info": {
      "name": "python"
    }
  },
  "cells": [
    {
      "cell_type": "markdown",
      "metadata": {
        "id": "view-in-github",
        "colab_type": "text"
      },
      "source": [
        "<a href=\"https://colab.research.google.com/github/Mashrur001/CSE111/blob/main/CSE111_Lab_Assignment_6.ipynb\" target=\"_parent\"><img src=\"https://colab.research.google.com/assets/colab-badge.svg\" alt=\"Open In Colab\"/></a>"
      ]
    },
    {
      "cell_type": "markdown",
      "source": [
        "# Task 1"
      ],
      "metadata": {
        "id": "GhIvNS-hsXmS"
      }
    },
    {
      "cell_type": "code",
      "execution_count": null,
      "metadata": {
        "colab": {
          "base_uri": "https://localhost:8080/"
        },
        "id": "t2ejeGDnr_gY",
        "outputId": "dddbfb6f-ab58-468d-ce78-be5d29e71d95"
      },
      "outputs": [
        {
          "output_type": "stream",
          "name": "stdout",
          "text": [
            "ID: 1\n",
            "Name: Samin\n",
            "Department: CSE\n",
            "Age: 21\n",
            "CGPA: 3.91\n",
            "-----------------------\n",
            "ID: 2\n",
            "Name: Fahim\n",
            "Department: ECE\n",
            "Age: 21\n",
            "CGPA: 3.85\n",
            "-----------------------\n",
            "ID: 3\n",
            "Name: Tahura\n",
            "Department: EEE\n",
            "Age: 22\n",
            "CGPA: 3.01\n",
            "-----------------------\n",
            "ID: 4\n",
            "Name: Sumaiya\n",
            "Department: BBA\n",
            "Age: 23\n",
            "CGPA: 3.96\n"
          ]
        }
      ],
      "source": [
        "class Student:\n",
        "  id=0\n",
        "  def __init__(self, n,d,a,c):\n",
        "    self.name=n\n",
        "    self.department=d\n",
        "    self.age=a\n",
        "    self.cgpa=c\n",
        "    Student.id+=1\n",
        "  def get_details(self):\n",
        "    print(\"ID:\", Student.id)\n",
        "    print(\"Name:\", self.name)\n",
        "    print(\"Department:\", self.department)\n",
        "    print(\"Age:\", self.age)\n",
        "    print(\"CGPA:\", self.cgpa)\n",
        "\n",
        "  @classmethod\n",
        "  def from_String(cls, s):\n",
        "    l=s.split(\"-\")\n",
        "    n=l[0]\n",
        "    d=l[1]\n",
        "    a=l[2]\n",
        "    c=l[3]\n",
        "    return cls(n,d,a,c)\n",
        "\n",
        "\n",
        "s1 = Student(\"Samin\", \"CSE\", 21, 3.91)\n",
        "s1.get_details()\n",
        "print(\"-----------------------\")\n",
        "s2 = Student(\"Fahim\", \"ECE\", 21, 3.85)\n",
        "s2.get_details()\n",
        "print(\"-----------------------\")\n",
        "s3 = Student(\"Tahura\", \"EEE\", 22, 3.01)\n",
        "s3.get_details()\n",
        "print(\"-----------------------\")\n",
        "s4 = Student.from_String(\"Sumaiya-BBA-23-3.96\")\n",
        "s4.get_details()"
      ]
    },
    {
      "cell_type": "markdown",
      "source": [
        "# Task 2"
      ],
      "metadata": {
        "id": "n3ge7b76scQi"
      }
    },
    {
      "cell_type": "code",
      "source": [
        "class Assassin:\n",
        "  totalNumberOfAssassin=0\n",
        "  def __init__(self, n,r):\n",
        "    self.name=n\n",
        "    self.rate=r\n",
        "    Assassin.totalNumberOfAssassin+=1\n",
        "  def printDetails(self):\n",
        "    print(\"Name:\", self.name)\n",
        "    print(f\"Success rate: {self.rate}%\")\n",
        "    print(\"Total number of Assassin:\", Assassin.totalNumberOfAssassin)\n",
        "\n",
        "  @classmethod\n",
        "  def failureRate(cls, n,r):\n",
        "    name=n\n",
        "    rate=100-r\n",
        "    return cls(name,rate)\n",
        "  @classmethod\n",
        "  def failurePercentage(cls, n, s):\n",
        "    name=n\n",
        "    rate=100-int(s[:-1])\n",
        "    return cls(name,rate)\n",
        "\n",
        "\n",
        "john_wick = Assassin('John Wick', 100)\n",
        "john_wick.printDetails()\n",
        "print('================================')\n",
        "nagisa = Assassin.failureRate(\"Nagisa\", 20)\n",
        "nagisa.printDetails()\n",
        "print('================================')\n",
        "akabane = Assassin.failurePercentage(\"Akabane\", \"10%\")\n",
        "akabane.printDetails()"
      ],
      "metadata": {
        "id": "9x38F-g1sbo-",
        "colab": {
          "base_uri": "https://localhost:8080/"
        },
        "outputId": "8e762b0b-fa70-4492-bbb2-febea36861f7"
      },
      "execution_count": null,
      "outputs": [
        {
          "output_type": "stream",
          "name": "stdout",
          "text": [
            "Name: John Wick\n",
            "Success rate: 100%\n",
            "Total number of Assassin: 1\n",
            "================================\n",
            "Name: Nagisa\n",
            "Success rate: 80%\n",
            "Total number of Assassin: 2\n",
            "================================\n",
            "Name: Akabane\n",
            "Success rate: 90%\n",
            "Total number of Assassin: 3\n"
          ]
        }
      ]
    },
    {
      "cell_type": "markdown",
      "source": [
        "# Task 3"
      ],
      "metadata": {
        "id": "0yIsrjZPsnig"
      }
    },
    {
      "cell_type": "code",
      "source": [
        "# Write your code here\n",
        "class Passenger:\n",
        "  count=0\n",
        "  def __init__(self, n):\n",
        "    self.name=n\n",
        "    self.busFare=450\n",
        "    Passenger.count+=1\n",
        "  def set_bag_weight(self, w):\n",
        "    if 20>=w:\n",
        "      self.busFare=450\n",
        "    elif 21<=w<=50:\n",
        "      self.busFare+=50\n",
        "    else:\n",
        "      self.busFare+=100\n",
        "  def printDetail(self):\n",
        "    print(\"Name:\", self.name)\n",
        "    print(\"Bus Fare:\", self.busFare, \"taka\")\n",
        "\n",
        "\n",
        "print(\"Total Passenger:\", Passenger.count)\n",
        "p1 = Passenger(\"Jack\")\n",
        "p1.set_bag_weight(90)\n",
        "p2 = Passenger(\"Carol\")\n",
        "p2.set_bag_weight(10)\n",
        "p3 = Passenger(\"Mike\")\n",
        "p3.set_bag_weight(25)\n",
        "print(\"=========================\")\n",
        "p1.printDetail()\n",
        "print(\"=========================\")\n",
        "p2.printDetail()\n",
        "print(\"=========================\")\n",
        "p3.printDetail()\n",
        "print(\"=========================\")\n",
        "print(\"Total Passenger:\", Passenger.count)"
      ],
      "metadata": {
        "id": "TRSfOil2soQM",
        "colab": {
          "base_uri": "https://localhost:8080/"
        },
        "outputId": "3ac12f5f-12b8-49c6-c53f-b2b2ccba7a5b"
      },
      "execution_count": null,
      "outputs": [
        {
          "output_type": "stream",
          "name": "stdout",
          "text": [
            "Total Passenger: 0\n",
            "=========================\n",
            "Name: Jack\n",
            "Bus Fare: 550 taka\n",
            "=========================\n",
            "Name: Carol\n",
            "Bus Fare: 450 taka\n",
            "=========================\n",
            "Name: Mike\n",
            "Bus Fare: 500 taka\n",
            "=========================\n",
            "Total Passenger: 3\n"
          ]
        }
      ]
    },
    {
      "cell_type": "markdown",
      "source": [
        "# Task 4"
      ],
      "metadata": {
        "id": "aJ6FXDZ3sox-"
      }
    },
    {
      "cell_type": "code",
      "source": [
        "# Write your code here\n",
        "\n",
        "class Travel:\n",
        "  count=0\n",
        "  def __init__(self, s, d):\n",
        "    self.source=s\n",
        "    self.destination=d\n",
        "    Travel.count+=1\n",
        "    self.time=1\n",
        "  def display_travel_info(self):\n",
        "    return (f\"Source: {self.source}\\nDestination:{self.destination}\\nFlight Time:{self.time}:00\")\n",
        "  def set_time(self, t):\n",
        "    self.time=t\n",
        "  def set_destination(self, c):\n",
        "    self.destination=c\n",
        "  def set_source(self, s):\n",
        "    self.source=s\n",
        "\n",
        "print(\"No. of Traveller =\", Travel.count)\n",
        "print(\"=======================\")\n",
        "t1 = Travel(\"Dhaka\",\"India\")\n",
        "print(t1.display_travel_info()) # time count\n",
        "print(\"=======================\")\n",
        "t2 = Travel(\"Kuala Lampur\",\"Dhaka\")\n",
        "t2.set_time(23)\n",
        "print(t2.display_travel_info())\n",
        "print(\"=======================\")\n",
        "t3 = Travel(\"Dhaka\",\"New_Zealand\")\n",
        "t3.set_time(15)\n",
        "t3.set_destination(\"Germany\")\n",
        "print(t3.display_travel_info())\n",
        "print(\"=======================\")\n",
        "t4 = Travel(\"Dhaka\",\"India\")\n",
        "t4.set_time(9)\n",
        "t4.set_source(\"Malaysia\")\n",
        "t4.set_destination(\"Canada\")\n",
        "print(t4.display_travel_info())\n",
        "print(\"=======================\")\n",
        "print(\"No. of Traveller =\", Travel.count)"
      ],
      "metadata": {
        "id": "7izHuM8ZspYZ",
        "colab": {
          "base_uri": "https://localhost:8080/"
        },
        "outputId": "2e076ee5-23a8-4dc5-948e-5b69ad5695ec"
      },
      "execution_count": null,
      "outputs": [
        {
          "output_type": "stream",
          "name": "stdout",
          "text": [
            "No. of Traveller = 0\n",
            "=======================\n",
            "Source: Dhaka\n",
            "Destination:India\n",
            "Flight Time:1:00\n",
            "=======================\n",
            "Source: Kuala Lampur\n",
            "Destination:Dhaka\n",
            "Flight Time:23:00\n",
            "=======================\n",
            "Source: Dhaka\n",
            "Destination:Germany\n",
            "Flight Time:15:00\n",
            "=======================\n",
            "Source: Malaysia\n",
            "Destination:Canada\n",
            "Flight Time:9:00\n",
            "=======================\n",
            "No. of Traveller = 4\n"
          ]
        }
      ]
    },
    {
      "cell_type": "markdown",
      "source": [
        "# Task 5"
      ],
      "metadata": {
        "id": "PCLFQtrYsp4N"
      }
    },
    {
      "cell_type": "code",
      "source": [
        "# Write your code here\n",
        "class Employee:\n",
        "  def __init__(self, n, h):\n",
        "    self.name=n\n",
        "    self.workingPeriod=h\n",
        "  @classmethod\n",
        "  def employeeByJoiningYear(cls, n, year):\n",
        "    year=str(year)[-1]\n",
        "    return Employee(n, int(year))\n",
        "  @staticmethod\n",
        "  def experienceCheck(num, gender):\n",
        "    if num<3:\n",
        "      if gender==\"male\":\n",
        "        return (\"He is not experienced\")\n",
        "      else:\n",
        "        return (\"She is not experienced\")\n",
        "    else:\n",
        "      if gender==\"male\":\n",
        "        return (\"He is experienced\")\n",
        "      else:\n",
        "        return (\"She is experienced\")\n",
        "  def workingPeriod(self):\n",
        "    return self.workingPeriod\n",
        "\n",
        "employee1 = Employee('Dororo', 3)\n",
        "employee2 = Employee.employeeByJoiningYear('Harry', 2016)\n",
        "print(employee1.workingPeriod)\n",
        "print(employee2.workingPeriod)\n",
        "print(employee1.name)\n",
        "print(employee2.name)\n",
        "print(Employee.experienceCheck(2, \"male\"))\n",
        "print(Employee.experienceCheck(3, \"female\"))"
      ],
      "metadata": {
        "id": "Za9V1_MUsqaB",
        "colab": {
          "base_uri": "https://localhost:8080/"
        },
        "outputId": "1a510e80-4247-46fe-a40c-09769a4dfb32"
      },
      "execution_count": null,
      "outputs": [
        {
          "output_type": "stream",
          "name": "stdout",
          "text": [
            "3\n",
            "6\n",
            "Dororo\n",
            "Harry\n",
            "He is not experienced\n",
            "She is experienced\n"
          ]
        }
      ]
    },
    {
      "cell_type": "markdown",
      "source": [
        "# Task 6"
      ],
      "metadata": {
        "id": "2XN7uuhFsrIl"
      }
    },
    {
      "cell_type": "code",
      "source": [
        "# Write your code here\n",
        "class Laptop:\n",
        "  laptopCount=0\n",
        "  def __init__(self, n, num):\n",
        "    self.name=n\n",
        "    self.count=num\n",
        "    Laptop.laptopCount+=self.count\n",
        "\n",
        "  @staticmethod\n",
        "  def advantage():\n",
        "    print(\"Laptops are portable\")\n",
        "\n",
        "  @classmethod\n",
        "  def resetCount(cls):\n",
        "    Laptop.laptopCount=0\n",
        "\n",
        "lenovo = Laptop(\"Lenovo\", 5);\n",
        "dell = Laptop(\"Dell\", 7);\n",
        "print(lenovo.name, lenovo.count)\n",
        "print(dell.name, dell.count)\n",
        "print(\"Total number of Laptops\", Laptop.laptopCount)\n",
        "Laptop.advantage()\n",
        "Laptop.resetCount()\n",
        "print(\"Total number of Laptops\", Laptop.laptopCount)"
      ],
      "metadata": {
        "id": "8m_9xIO5srtB",
        "colab": {
          "base_uri": "https://localhost:8080/"
        },
        "outputId": "377cbd84-05b1-4dc1-881e-029dbcea22c2"
      },
      "execution_count": null,
      "outputs": [
        {
          "output_type": "stream",
          "name": "stdout",
          "text": [
            "Lenovo 5\n",
            "Dell 7\n",
            "Total number of Laptops 12\n",
            "Laptops are portable\n",
            "Total number of Laptops 0\n"
          ]
        }
      ]
    },
    {
      "cell_type": "markdown",
      "source": [
        "# Task 7"
      ],
      "metadata": {
        "id": "AUnrIa4yssIt"
      }
    },
    {
      "cell_type": "code",
      "source": [
        "# Write your code here\n",
        "class Cat:\n",
        "  Number_of_cats=0\n",
        "  def __init__(self, first, second):\n",
        "    Cat.Number_of_cats+=1\n",
        "    self.first=first\n",
        "    self.second=second\n",
        "\n",
        "  @classmethod\n",
        "  def no_parameter(cls):\n",
        "    first=\"White\"\n",
        "    second=\"sitting\"\n",
        "    return cls(first, second)\n",
        "\n",
        "  @classmethod\n",
        "  def first_parameter(cls, fp):\n",
        "    first=fp\n",
        "    second=\"sitting\"\n",
        "    return cls(first, second)\n",
        "\n",
        "  @classmethod\n",
        "  def second_parameter(cls, sp):\n",
        "    first=\"Grey\"\n",
        "    second=sp\n",
        "    return cls(first, second)\n",
        "\n",
        "  def changeColor(self, c):\n",
        "    self.first=c\n",
        "\n",
        "  def printCat(self):\n",
        "    print(f\"{self.first} cat is {self.second}\")\n",
        "\n",
        "\n",
        "print(\"Total number of cats:\", Cat.Number_of_cats)\n",
        "c1 = Cat.no_parameter()\n",
        "c2 = Cat.first_parameter(\"Black\")\n",
        "c3 = Cat(\"Brown\", \"jumping\")\n",
        "c4 = Cat(\"Red\", \"purring\")\n",
        "c5 = Cat.second_parameter(\"playing\")\n",
        "print(\"=======================\")\n",
        "c1.printCat()\n",
        "c2.printCat()\n",
        "c3.printCat()\n",
        "c4.printCat()\n",
        "c5.printCat()\n",
        "c1.changeColor(\"Blue\")\n",
        "c3.changeColor(\"Purple\")\n",
        "c1.printCat()\n",
        "c3.printCat()\n",
        "print(\"=======================\")\n",
        "print(\"Total number of cats:\", Cat.Number_of_cats)"
      ],
      "metadata": {
        "id": "a-UMQ-5asssA",
        "colab": {
          "base_uri": "https://localhost:8080/"
        },
        "outputId": "dd0a85cd-7ad1-42f4-baff-0fca561f0ce2"
      },
      "execution_count": null,
      "outputs": [
        {
          "output_type": "stream",
          "name": "stdout",
          "text": [
            "Total number of cats: 0\n",
            "=======================\n",
            "White cat is sitting\n",
            "Black cat is sitting\n",
            "Brown cat is jumping\n",
            "Red cat is purring\n",
            "Grey cat is playing\n",
            "Blue cat is sitting\n",
            "Purple cat is jumping\n",
            "=======================\n",
            "Total number of cats: 5\n"
          ]
        }
      ]
    },
    {
      "cell_type": "markdown",
      "source": [
        "# Task 8"
      ],
      "metadata": {
        "id": "_sHLRzehstKt"
      }
    },
    {
      "cell_type": "code",
      "source": [
        "# Write your code here\n",
        "import math\n",
        "class Cylinder:\n",
        "  defaultRadius=5\n",
        "  defaultHeight=18\n",
        "  radius=None\n",
        "  height=None\n",
        "  def __init__(self, r, h):\n",
        "    print(f\"Default radius={Cylinder.defaultRadius} and height={Cylinder.defaultHeight}.\")\n",
        "    Cylinder.defaultRadius = r\n",
        "    Cylinder.defaultHeight = h\n",
        "    self.r = r\n",
        "    self.h = h\n",
        "    print(f\"Updated: radius={self.r} and height={self.h}.\")\n",
        "    Cylinder.radius = r\n",
        "    Cylinder.height = h\n",
        "\n",
        "  @classmethod\n",
        "  def area(cls, r, h):\n",
        "    cls.radius=r\n",
        "    cls.height=h\n",
        "    a = 2*math.pi*cls.radius**2 + 2*math.pi*cls.radius*cls.height\n",
        "    print(f\"Area: {a}\")\n",
        "\n",
        "  @classmethod\n",
        "  def volume(cls, r, h):\n",
        "    cls.radius=r\n",
        "    cls.height=h\n",
        "    v = math.pi*cls.radius**2*cls.height\n",
        "    print(\"Volume:\", v)\n",
        "\n",
        "  @classmethod\n",
        "  def swap(cls, num1, num2):\n",
        "    cls.radius=num2\n",
        "    cls.height=num1\n",
        "    return cls(cls.radius, cls.height)\n",
        "\n",
        "  @classmethod\n",
        "  def changeFormat(cls, s):\n",
        "    r,h=s.split(\"-\")\n",
        "    return cls(float(r), float(h))\n",
        "\n",
        "\n",
        "\n",
        "c1 = Cylinder(0,0)\n",
        "Cylinder.area(c1.radius,c1.height)\n",
        "Cylinder.volume(c1.radius,c1.height)\n",
        "print(\"===============================\")\n",
        "c2 = Cylinder.swap(8,3)\n",
        "c2.area(c2.radius,c2.height)\n",
        "c2.volume(c2.radius,c2.height)\n",
        "print(\"===============================\")\n",
        "c3 = Cylinder.changeFormat(\"7-13\")\n",
        "c3.area(c3.radius,c3.height)\n",
        "c3.volume(c3.radius,c3.height)\n",
        "print(\"===============================\")\n",
        "Cylinder(0.3,5.56).area(Cylinder.radius,Cylinder.height)\n",
        "print(\"===============================\")\n",
        "Cylinder(3,5).volume(Cylinder.radius,Cylinder.height)"
      ],
      "metadata": {
        "id": "WqtAqZJvstoY",
        "colab": {
          "base_uri": "https://localhost:8080/"
        },
        "outputId": "14bf4f23-bcfb-42fd-ee30-f321142f4b51"
      },
      "execution_count": null,
      "outputs": [
        {
          "output_type": "stream",
          "name": "stdout",
          "text": [
            "Default radius=5 and height=18.\n",
            "Updated: radius=0 and height=0.\n",
            "Area: 0.0\n",
            "Volume: 0.0\n",
            "===============================\n",
            "Default radius=0 and height=0.\n",
            "Updated: radius=3 and height=8.\n",
            "Area: 207.34511513692635\n",
            "Volume: 226.1946710584651\n",
            "===============================\n",
            "Default radius=3 and height=8.\n",
            "Updated: radius=7.0 and height=13.0.\n",
            "Area: 879.645943005142\n",
            "Volume: 2001.1945203366981\n",
            "===============================\n",
            "Default radius=7.0 and height=13.0.\n",
            "Updated: radius=0.3 and height=5.56.\n",
            "Area: 11.045839770021713\n",
            "===============================\n",
            "Default radius=0.3 and height=5.56.\n",
            "Updated: radius=3 and height=5.\n",
            "Volume: 141.3716694115407\n"
          ]
        }
      ]
    },
    {
      "cell_type": "markdown",
      "source": [
        "# Task 9"
      ],
      "metadata": {
        "id": "p4Q8MH_8suJd"
      }
    },
    {
      "cell_type": "code",
      "source": [
        "# Write your code here\n",
        "\n",
        "class Student:\n",
        "  totalStudent=0\n",
        "  bracUniStudent=0\n",
        "  otherInstiStudent=0\n",
        "  def __init__(self, n, d, i=\"BRAC University\"):\n",
        "    self.name=n\n",
        "    self.department=d\n",
        "    self.institution=i\n",
        "    if i==\"BRAC University\":\n",
        "      Student.bracUniStudent+=1\n",
        "    else:\n",
        "      Student.otherInstiStudent+=1\n",
        "    Student.totalStudent+=1\n",
        "\n",
        "  @classmethod\n",
        "  def printDetails(cls):\n",
        "    print(f\"Total Student(s): {cls.totalStudent}\")\n",
        "    print(f\"BRAC University Student(s): {cls.bracUniStudent}\")\n",
        "    print(f\"Other Institution Student(s): {cls.otherInstiStudent}\")\n",
        "\n",
        "  def individualDetail(self):\n",
        "    print(\"Name:\", self.name)\n",
        "    print(\"Department:\", self.department)\n",
        "    print(\"Institution:\", self.institution)\n",
        "\n",
        "  @classmethod\n",
        "  def createStudent(cls, n,d,i=None):\n",
        "    if i!=None:\n",
        "      return Student(n,d,i)\n",
        "    else:\n",
        "      return Student(n,d,\"BRAC University\")\n",
        "\n",
        "Student.printDetails()\n",
        "print('#########################')\n",
        "\n",
        "mikasa = Student('Mikasa Ackerman', \"CSE\")\n",
        "mikasa.individualDetail()\n",
        "print('------------------------------------------')\n",
        "Student.printDetails()\n",
        "\n",
        "print('========================')\n",
        "\n",
        "harry = Student.createStudent('Harry Potter', \"Defence Against Dark Arts\", \"Hogwarts School\")\n",
        "harry.individualDetail()\n",
        "print('-------------------------------------------')\n",
        "Student.printDetails()\n",
        "\n",
        "print('=========================')\n",
        "\n",
        "levi = Student.createStudent(\"Levi Ackerman\", \"CSE\")\n",
        "levi.individualDetail()\n",
        "print('--------------------------------------------')\n",
        "Student.printDetails()"
      ],
      "metadata": {
        "id": "hIjUM4drsuxw",
        "colab": {
          "base_uri": "https://localhost:8080/"
        },
        "outputId": "f24f58ff-6db8-427f-94d1-8d7b233bc74b"
      },
      "execution_count": null,
      "outputs": [
        {
          "output_type": "stream",
          "name": "stdout",
          "text": [
            "Total Student(s): 0\n",
            "BRAC University Student(s): 0\n",
            "Other Institution Student(s): 0\n",
            "#########################\n",
            "Name: Mikasa Ackerman\n",
            "Department: CSE\n",
            "Institution: BRAC University\n",
            "------------------------------------------\n",
            "Total Student(s): 1\n",
            "BRAC University Student(s): 1\n",
            "Other Institution Student(s): 0\n",
            "========================\n",
            "Name: Harry Potter\n",
            "Department: Defence Against Dark Arts\n",
            "Institution: Hogwarts School\n",
            "-------------------------------------------\n",
            "Total Student(s): 2\n",
            "BRAC University Student(s): 1\n",
            "Other Institution Student(s): 1\n",
            "=========================\n",
            "Name: Levi Ackerman\n",
            "Department: CSE\n",
            "Institution: BRAC University\n",
            "--------------------------------------------\n",
            "Total Student(s): 3\n",
            "BRAC University Student(s): 2\n",
            "Other Institution Student(s): 1\n"
          ]
        }
      ]
    },
    {
      "cell_type": "markdown",
      "source": [
        "# Task 10\n"
      ],
      "metadata": {
        "id": "FSUCav0psvat"
      }
    },
    {
      "cell_type": "code",
      "source": [
        "# Write your code here\n",
        "class SultansDine:\n",
        "\n",
        "  totalNumOfBranch=0\n",
        "  totalSell=0\n",
        "  classList=[]\n",
        "\n",
        "  def __init__(self, loc):\n",
        "    self.location=loc\n",
        "    self.branchSell=0\n",
        "    SultansDine.totalNumOfBranch+=1\n",
        "\n",
        "  def sellQuantity(self, num):\n",
        "    if num<10:\n",
        "      self.branchSell+=num*300\n",
        "      temList=[self.location, self.branchSell]\n",
        "      SultansDine.classList.append(temList)\n",
        "      SultansDine.totalSell+=self.branchSell\n",
        "    elif num<20:\n",
        "      self.branchSell+=num*350\n",
        "      temList=[self.location, self.branchSell]\n",
        "      SultansDine.classList.append(temList)\n",
        "      SultansDine.totalSell+=self.branchSell\n",
        "    else:\n",
        "      self.branchSell+=num*400\n",
        "      temList=[self.location, self.branchSell]\n",
        "      SultansDine.classList.append(temList)\n",
        "      SultansDine.totalSell+=self.branchSell\n",
        "\n",
        "  def branchInformation(self):\n",
        "    print(\"Branch Name:\", self.location)\n",
        "    print(\"Branch Sell:\", self.branchSell, \"Taka\")\n",
        "\n",
        "  @classmethod\n",
        "  def details(cls):\n",
        "    print(f\"Total Number of branch(s): {cls.totalNumOfBranch}\")\n",
        "    print(f\"Total Sell: {cls.totalSell} Taka\")\n",
        "    for i in range(len(cls.classList)):\n",
        "      print(f\"Branch Name: {cls.classList[i][0]}, Branch Sell: {cls.classList[i][1]} Taka\")\n",
        "      percentage = ( cls.classList[i][1] / cls.totalSell)*100\n",
        "      print(\"Branch consists of total sell's: {:.2f}%\".format(percentage))\n",
        "\n",
        "\n",
        "SultansDine.details()\n",
        "print('########################')\n",
        "dhanmodi = SultansDine('Dhanmondi')\n",
        "dhanmodi.sellQuantity(25)\n",
        "dhanmodi.branchInformation()\n",
        "print('-----------------------------------------')\n",
        "SultansDine.details()\n",
        "\n",
        "print('========================')\n",
        "\n",
        "baily_road = SultansDine('Baily Road')\n",
        "baily_road.sellQuantity(15)\n",
        "baily_road.branchInformation()\n",
        "print('-----------------------------------------')\n",
        "SultansDine.details()\n",
        "\n",
        "print('========================')\n",
        "\n",
        "gulshan = SultansDine('Gulshan')\n",
        "gulshan.sellQuantity(9)\n",
        "gulshan.branchInformation()\n",
        "print('-----------------------------------------')\n",
        "SultansDine.details()"
      ],
      "metadata": {
        "id": "Rh4iPAg6swBA",
        "colab": {
          "base_uri": "https://localhost:8080/"
        },
        "outputId": "036dbd14-ce47-4e90-e2fa-0b6e1945051e"
      },
      "execution_count": null,
      "outputs": [
        {
          "output_type": "stream",
          "name": "stdout",
          "text": [
            "Total Number of branch(s): 0\n",
            "Total Sell: 0 Taka\n",
            "########################\n",
            "Branch Name: Dhanmondi\n",
            "Branch Sell: 10000 Taka\n",
            "-----------------------------------------\n",
            "Total Number of branch(s): 1\n",
            "Total Sell: 10000 Taka\n",
            "Branch Name: Dhanmondi, Branch Sell: 10000 Taka\n",
            "Branch consists of total sell's: 100.00%\n",
            "========================\n",
            "Branch Name: Baily Road\n",
            "Branch Sell: 5250 Taka\n",
            "-----------------------------------------\n",
            "Total Number of branch(s): 2\n",
            "Total Sell: 15250 Taka\n",
            "Branch Name: Dhanmondi, Branch Sell: 10000 Taka\n",
            "Branch consists of total sell's: 65.57%\n",
            "Branch Name: Baily Road, Branch Sell: 5250 Taka\n",
            "Branch consists of total sell's: 34.43%\n",
            "========================\n",
            "Branch Name: Gulshan\n",
            "Branch Sell: 2700 Taka\n",
            "-----------------------------------------\n",
            "Total Number of branch(s): 3\n",
            "Total Sell: 17950 Taka\n",
            "Branch Name: Dhanmondi, Branch Sell: 10000 Taka\n",
            "Branch consists of total sell's: 55.71%\n",
            "Branch Name: Baily Road, Branch Sell: 5250 Taka\n",
            "Branch consists of total sell's: 29.25%\n",
            "Branch Name: Gulshan, Branch Sell: 2700 Taka\n",
            "Branch consists of total sell's: 15.04%\n"
          ]
        }
      ]
    },
    {
      "cell_type": "markdown",
      "source": [
        "# Task 11"
      ],
      "metadata": {
        "id": "tZ4dg9aRswu8"
      }
    },
    {
      "cell_type": "code",
      "source": [
        "class Puzzle:\n",
        "  x = 0\n",
        "  def methodA(self):\n",
        "    Puzzle.x = 5\n",
        "    z = Puzzle.x + self.methodB(Puzzle.x)\n",
        "    print(Puzzle.x, z)\n",
        "    z = self.methodB(z + 2) + Puzzle.x\n",
        "    print(Puzzle.x, z)\n",
        "    self.methodB(Puzzle.x, z)\n",
        "    print(Puzzle.x, z)\n",
        "\n",
        "  def methodB(self, *args):\n",
        "    if len(args) == 1:\n",
        "      y = args[0]\n",
        "      Puzzle.x = y + Puzzle.x\n",
        "      print(Puzzle.x, y)\n",
        "      return Puzzle.x + 3\n",
        "    else:\n",
        "      z, x = args\n",
        "      z = z + 1\n",
        "      x = x + 1\n",
        "      print(z, x)\n",
        "\n",
        "p = Puzzle()\n",
        "p.methodA()\n",
        "p.methodA()\n",
        "p = Puzzle()\n",
        "p.methodA()\n",
        "p.methodB(7)\n",
        "pass"
      ],
      "metadata": {
        "id": "CpWKzkbFsxN4",
        "colab": {
          "base_uri": "https://localhost:8080/"
        },
        "outputId": "90f39380-5b4c-4119-a86b-606c46bb7638"
      },
      "execution_count": null,
      "outputs": [
        {
          "output_type": "stream",
          "name": "stdout",
          "text": [
            "10 5\n",
            "10 18\n",
            "30 20\n",
            "30 63\n",
            "31 64\n",
            "30 63\n",
            "10 5\n",
            "10 18\n",
            "30 20\n",
            "30 63\n",
            "31 64\n",
            "30 63\n",
            "10 5\n",
            "10 18\n",
            "30 20\n",
            "30 63\n",
            "31 64\n",
            "30 63\n",
            "37 7\n"
          ]
        }
      ]
    },
    {
      "cell_type": "markdown",
      "source": [
        "# Task 12"
      ],
      "metadata": {
        "id": "0_vTYAVIsyZ8"
      }
    },
    {
      "cell_type": "code",
      "source": [
        "class FinalT6A:\n",
        "  temp = 3\n",
        "\n",
        "  def __init__(self, x, p):\n",
        "    self.sum, self.y = 0, 2\n",
        "    FinalT6A.temp += 3\n",
        "    self.y = self.temp - p\n",
        "    self.sum = self.temp + x\n",
        "    print(x, self.y, self.sum)\n",
        "\n",
        "  def methodA(self):\n",
        "    x, y = 0, 0\n",
        "    y = y + self.y\n",
        "    x = self.y + 2 + self.temp\n",
        "    self.sum = x + y + self.methodB(self.temp, y)\n",
        "    print(x, y, self.sum)\n",
        "\n",
        "  def methodB(self, temp, n):\n",
        "    x = 0\n",
        "    FinalT6A.temp += 1\n",
        "    self.y = self.y + (FinalT6A.temp)\n",
        "    FinalT6A.temp -= 1\n",
        "    x = x + 2 + n\n",
        "    self.sum = self.sum + x + self.y\n",
        "    print(x, self.y, self.sum)\n",
        "    return self.sum\n",
        "\n",
        "q1 = FinalT6A(2,1)\n",
        "q1.methodA()\n",
        "q1.methodA()\n",
        "pass"
      ],
      "metadata": {
        "id": "HTjUQji8sy9o",
        "colab": {
          "base_uri": "https://localhost:8080/"
        },
        "outputId": "dc0c9284-8760-4171-a87f-dabd08e07fde"
      },
      "execution_count": null,
      "outputs": [
        {
          "output_type": "stream",
          "name": "stdout",
          "text": [
            "2 5 8\n",
            "7 12 27\n",
            "13 5 45\n",
            "14 19 78\n",
            "20 12 110\n"
          ]
        }
      ]
    },
    {
      "cell_type": "markdown",
      "source": [
        "# Task 13\n"
      ],
      "metadata": {
        "id": "O5T2TVCKsziM"
      }
    },
    {
      "cell_type": "code",
      "source": [
        "class A:\n",
        "  temp = 4\n",
        "  def __init__(self):\n",
        "    self.y = self.temp - 2\n",
        "    self.sum = self.temp + 1\n",
        "    A.temp -= 2\n",
        "    self.methodA(3, 4)\n",
        "  def methodA(self, m, n):\n",
        "    x = 0\n",
        "    self.y = self.y + m + (self.temp)\n",
        "    A.temp += 1\n",
        "    x = x + 1 + n\n",
        "    self.sum = self.sum + x + self.y\n",
        "    print(x, self.y, self.sum)\n",
        "\n",
        "class B:\n",
        "  x = 0\n",
        "  def __init__(self, b = None):\n",
        "    self.y, self.temp, self.sum = 5, -5, 2\n",
        "\n",
        "    if b == None:\n",
        "      self.y = self.temp + 3\n",
        "      self.sum = 3 + self.temp + 2\n",
        "      self.temp -= 2\n",
        "    else:\n",
        "      self.sum = b.sum\n",
        "      B.x = b.x\n",
        "      b.methodB(2, 3)\n",
        "  def methodA(self, m, n):\n",
        "    x = 2\n",
        "    self.y = self.y + m + (self.temp)\n",
        "    self.temp += 1\n",
        "    x = x + 5 + n\n",
        "    self.sum = self.sum + x + self.y\n",
        "    print(x, self.y, self.sum)\n",
        "  def methodB(self, m, n):\n",
        "    y = 0\n",
        "    y = y + self.y\n",
        "    B.x = self.y + 2 + self.temp\n",
        "    self.methodA(self.x, y)\n",
        "    self.sum = self.x + y + self.sum\n",
        "    print(self.x, y, self.sum)\n",
        "\n",
        "a1 = A()\n",
        "b1 = B()\n",
        "b2 = B(b1)\n",
        "b1.methodA(1,2)\n",
        "b2.methodB(3,2)"
      ],
      "metadata": {
        "id": "IGfnw4H7s03w",
        "colab": {
          "base_uri": "https://localhost:8080/"
        },
        "outputId": "d9b6c1be-fd71-43fd-89f4-4864e5def3ca"
      },
      "execution_count": null,
      "outputs": [
        {
          "output_type": "stream",
          "name": "stdout",
          "text": [
            "5 7 17\n",
            "5 -16 -11\n",
            "-7 -2 -20\n",
            "9 -21 -32\n",
            "12 2 14\n",
            "2 5 21\n"
          ]
        }
      ]
    },
    {
      "cell_type": "markdown",
      "source": [
        "# Task 14"
      ],
      "metadata": {
        "id": "EWl8F-Qzs1hu"
      }
    },
    {
      "cell_type": "code",
      "source": [
        "class msgClass:\n",
        "  def __init__(self):\n",
        "    self.content = 0\n",
        "\n",
        "class Quiz3:\n",
        "  x = 0\n",
        "  def __init__(self, k = None):\n",
        "    self.sum, self.y = 0, 0\n",
        "    if k is None:\n",
        "      self.sum = 5\n",
        "      Quiz3.x = 2\n",
        "      self.y = 2\n",
        "    else:\n",
        "      self.sum = self.sum + k\n",
        "      self.y = 3\n",
        "      Quiz3.x += 2\n",
        "  def methodA(self):\n",
        "    x = 1\n",
        "    y = 1\n",
        "    msg = [None]\n",
        "    myMsg = msgClass()\n",
        "    myMsg.content = Quiz3.x\n",
        "    msg[0] = myMsg\n",
        "    msg[0].content = self.y + myMsg.content\n",
        "    self.y = self.y + self.methodB(msg[0])\n",
        "    y = self.methodB(msg[0]) + self.y\n",
        "    x = y + self.methodB(msg, msg[0])\n",
        "    self.sum = x + y + msg[0].content\n",
        "    print(x, y, self.sum)\n",
        "  def methodB(self, *args):\n",
        "    if len(args) == 2:\n",
        "      mg2, mg1 = args\n",
        "      x = 2\n",
        "      self.y = self.y + mg2[0].content\n",
        "      mg2[0].content = self.y + mg1.content\n",
        "      x = x + 2 + mg1.content\n",
        "      self.sum = self.sum + x + self.y\n",
        "      mg1.content = self.sum - mg2[0].content\n",
        "      print(Quiz3.x, self.y, self.sum)\n",
        "      return self.sum\n",
        "\n",
        "    elif len(args) == 1:\n",
        "      mg1, = args\n",
        "      x = 1\n",
        "      y = 2\n",
        "      y = self.sum + mg1.content\n",
        "      self.y = y + mg1.content\n",
        "      x = Quiz3.x + 5 + mg1.content\n",
        "      self.sum = self.sum + x + y\n",
        "      Quiz3.x = mg1.content + x + 3\n",
        "      print(x, y, self.sum)\n",
        "      return y\n",
        "\n",
        "a1 = Quiz3()\n",
        "a2 = Quiz3(5)\n",
        "msg = msgClass()\n",
        "a1.methodA() #\n",
        "a2.methodB(msg)\n",
        "pass"
      ],
      "metadata": {
        "id": "tWtbkd98s1Pc",
        "colab": {
          "base_uri": "https://localhost:8080/"
        },
        "outputId": "8e9e52d5-0763-47f3-fcd1-6db802ba9c41"
      },
      "execution_count": null,
      "outputs": [
        {
          "output_type": "stream",
          "name": "stdout",
          "text": [
            "15 11 31\n",
            "35 37 103\n",
            "44 49 211\n",
            "291 80 527\n",
            "49 5 59\n"
          ]
        }
      ]
    }
  ]
}